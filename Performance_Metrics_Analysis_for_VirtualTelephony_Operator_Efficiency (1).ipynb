{
 "cells": [
  {
   "cell_type": "markdown",
   "metadata": {},
   "source": [
    "## Team Lead comments\n",
    "\n",
    "<div class=\"alert alert-block alert-success\">\n",
    "\n",
    "Thank you so much for your amazing work! It was a pleasure to review - really strong analysis. I am amazed by the depth of your analytical thinking, you did what almost no one does - you compared the project to real life, you digged into other sources, this is what makes you unique and a great DA! \n",
    "\n",
    "</div>"
   ]
  },
  {
   "cell_type": "code",
   "execution_count": 3,
   "metadata": {},
   "outputs": [
    {
     "name": "stdout",
     "output_type": "stream",
     "text": [
      "Defaulting to user installation because normal site-packages is not writeable\n",
      "Collecting openpyxl\n",
      "  Downloading openpyxl-3.0.5-py2.py3-none-any.whl (242 kB)\n",
      "\u001b[K     |████████████████████████████████| 242 kB 928 kB/s eta 0:00:01\n",
      "\u001b[?25hCollecting jdcal\n",
      "  Downloading jdcal-1.4.1-py2.py3-none-any.whl (9.5 kB)\n",
      "Collecting et-xmlfile\n",
      "  Downloading et_xmlfile-1.0.1.tar.gz (8.4 kB)\n",
      "Building wheels for collected packages: et-xmlfile\n",
      "  Building wheel for et-xmlfile (setup.py) ... \u001b[?25ldone\n",
      "\u001b[?25h  Created wheel for et-xmlfile: filename=et_xmlfile-1.0.1-py3-none-any.whl size=8915 sha256=99fab0edbee0c0c6d423db196647d292876e9a57171716040a2bccc2225b35f0\n",
      "  Stored in directory: /home/jovyan/.cache/pip/wheels/e2/bd/55/048b4fd505716c4c298f42ee02dffd9496bb6d212b266c7f31\n",
      "Successfully built et-xmlfile\n",
      "Installing collected packages: jdcal, et-xmlfile, openpyxl\n",
      "Successfully installed et-xmlfile-1.0.1 jdcal-1.4.1 openpyxl-3.0.5\n"
     ]
    }
   ],
   "source": [
    "#required to write to excel file format from the Practikum platform\n",
    "!pip install openpyxl"
   ]
  },
  {
   "cell_type": "code",
   "execution_count": 4,
   "metadata": {},
   "outputs": [],
   "source": [
    "import pandas as pd\n",
    "import numpy as np\n",
    "from IPython.core.display import HTML, display\n",
    "from datetime import datetime\n",
    "import matplotlib.dates as mdates\n",
    "import matplotlib.pyplot as plt\n",
    "from matplotlib.dates import MonthLocator, DateFormatter\n",
    "import matplotlib.ticker as ticker\n",
    "from matplotlib.ticker import PercentFormatter\n",
    "from functools import reduce\n",
    "import seaborn as sns\n",
    "import plotly.offline as pyoff\n",
    "import plotly as py\n",
    "import plotly.graph_objs as go\n",
    "from plotly.subplots import make_subplots\n",
    "import math as math\n",
    "import scipy \n",
    "from scipy import stats as st"
   ]
  },
  {
   "cell_type": "code",
   "execution_count": 110,
   "metadata": {},
   "outputs": [],
   "source": [
    "class style:\n",
    "    BOLD = '\\033[1m'\n",
    "    END ='\\033[0m'\n",
    "    BRED = '\\u001b[31;1m'\n",
    "    BBLUE ='\\u001b[34;1m'\n",
    "    SBLUE ='\\u001b[38;5;39m'\n",
    "    DBLUE ='\\u001b[38;5;30m'\n",
    "    ORANGE ='\\u001b[38;5;208m'"
   ]
  },
  {
   "cell_type": "code",
   "execution_count": 81,
   "metadata": {},
   "outputs": [
    {
     "data": {
      "text/html": [
       "<style>div.info { background-color: #fcf2f2;border-color: #dFb5b4; border-left: 5px solid #dfb5b4; padding: 0.5em;}</style>"
      ],
      "text/plain": [
       "<IPython.core.display.HTML object>"
      ]
     },
     "execution_count": 81,
     "metadata": {},
     "output_type": "execute_result"
    }
   ],
   "source": [
    "#colored markdown cell for noted section\n",
    "inf = \"<style>div.info { background-color: #fcf2f2;border-color: #dFb5b4; border-left: 5px solid #dfb5b4; padding: 0.5em;}</style>\"\n",
    "HTML(inf)"
   ]
  },
  {
   "cell_type": "markdown",
   "metadata": {},
   "source": [
    "<font color='#15317E'><h3>Overview</h3>\n",
    "<font color='#2B547E' font size=3>\n",
    "The purpose of this analysis is to ferret out the ineffective operators from this virtual telephony enterprise. Operator data is contained in the calls dataset, which will be analyzed. Metrics by which the operators will be measured will be determined and analyzed. The operators will be grouped into segments based on their performance on these metrics and relative performance evaluated based on these segments. Operator performance will be analyzed in the context of the time frame in which the data was gathered.\n",
    "\n",
    "Tableau dashboard visualizing <br>\n",
    "Telephony Operator Metrics by Performance Segment<br></font>  </font>\n",
    "[Direct link to the Dashboard](https://public.tableau.com/profile/lcodyb#!/vizhome/VirtualTelephonyOperatorAnalysis/VirtualTelephonyOperators)"
   ]
  },
  {
   "cell_type": "markdown",
   "metadata": {},
   "source": [
    "<p style=\"font-size:17px\"> There are two related datasets: clients and calls. There will be an initial overview of the datasets in this section."
   ]
  },
  {
   "cell_type": "code",
   "execution_count": 6,
   "metadata": {},
   "outputs": [],
   "source": [
    "clients=pd.read_csv('telecom_clients_us.csv', parse_dates=['date_start'])"
   ]
  },
  {
   "cell_type": "code",
   "execution_count": 5,
   "metadata": {},
   "outputs": [
    {
     "data": {
      "text/plain": [
       "(732, 3)"
      ]
     },
     "execution_count": 5,
     "metadata": {},
     "output_type": "execute_result"
    }
   ],
   "source": [
    "clients.shape"
   ]
  },
  {
   "cell_type": "code",
   "execution_count": 6,
   "metadata": {},
   "outputs": [
    {
     "data": {
      "text/html": [
       "<div>\n",
       "<style scoped>\n",
       "    .dataframe tbody tr th:only-of-type {\n",
       "        vertical-align: middle;\n",
       "    }\n",
       "\n",
       "    .dataframe tbody tr th {\n",
       "        vertical-align: top;\n",
       "    }\n",
       "\n",
       "    .dataframe thead th {\n",
       "        text-align: right;\n",
       "    }\n",
       "</style>\n",
       "<table border=\"1\" class=\"dataframe\">\n",
       "  <thead>\n",
       "    <tr style=\"text-align: right;\">\n",
       "      <th></th>\n",
       "      <th>user_id</th>\n",
       "      <th>tariff_plan</th>\n",
       "      <th>date_start</th>\n",
       "    </tr>\n",
       "  </thead>\n",
       "  <tbody>\n",
       "    <tr>\n",
       "      <td>359</td>\n",
       "      <td>166621</td>\n",
       "      <td>C</td>\n",
       "      <td>2019-08-12</td>\n",
       "    </tr>\n",
       "    <tr>\n",
       "      <td>670</td>\n",
       "      <td>168449</td>\n",
       "      <td>B</td>\n",
       "      <td>2019-10-25</td>\n",
       "    </tr>\n",
       "    <tr>\n",
       "      <td>654</td>\n",
       "      <td>166560</td>\n",
       "      <td>B</td>\n",
       "      <td>2019-08-08</td>\n",
       "    </tr>\n",
       "  </tbody>\n",
       "</table>\n",
       "</div>"
      ],
      "text/plain": [
       "     user_id tariff_plan date_start\n",
       "359   166621           C 2019-08-12\n",
       "670   168449           B 2019-10-25\n",
       "654   166560           B 2019-08-08"
      ]
     },
     "metadata": {},
     "output_type": "display_data"
    }
   ],
   "source": [
    "display(clients.sample(3))"
   ]
  },
  {
   "cell_type": "code",
   "execution_count": 7,
   "metadata": {},
   "outputs": [
    {
     "name": "stdout",
     "output_type": "stream",
     "text": [
      "<class 'pandas.core.frame.DataFrame'>\n",
      "RangeIndex: 732 entries, 0 to 731\n",
      "Data columns (total 3 columns):\n",
      "user_id        732 non-null int64\n",
      "tariff_plan    732 non-null object\n",
      "date_start     732 non-null datetime64[ns]\n",
      "dtypes: datetime64[ns](1), int64(1), object(1)\n",
      "memory usage: 53.0 KB\n"
     ]
    }
   ],
   "source": [
    "clients.info(memory_usage='deep')"
   ]
  },
  {
   "cell_type": "code",
   "execution_count": 133,
   "metadata": {},
   "outputs": [],
   "source": [
    "calls=pd.read_csv('telecom_dataset_us.csv')"
   ]
  },
  {
   "cell_type": "code",
   "execution_count": 4,
   "metadata": {},
   "outputs": [
    {
     "data": {
      "text/plain": [
       "(53902, 9)"
      ]
     },
     "execution_count": 4,
     "metadata": {},
     "output_type": "execute_result"
    }
   ],
   "source": [
    "calls.shape"
   ]
  },
  {
   "cell_type": "code",
   "execution_count": 10,
   "metadata": {},
   "outputs": [
    {
     "name": "stdout",
     "output_type": "stream",
     "text": [
      "<class 'pandas.core.frame.DataFrame'>\n",
      "RangeIndex: 53902 entries, 0 to 53901\n",
      "Data columns (total 9 columns):\n",
      "user_id                53902 non-null int64\n",
      "date                   53902 non-null object\n",
      "direction              53902 non-null object\n",
      "internal               53785 non-null object\n",
      "operator_id            45730 non-null float64\n",
      "is_missed_call         53902 non-null bool\n",
      "calls_count            53902 non-null int64\n",
      "call_duration          53902 non-null int64\n",
      "total_call_duration    53902 non-null int64\n",
      "dtypes: bool(1), float64(1), int64(4), object(3)\n",
      "memory usage: 11.1 MB\n"
     ]
    }
   ],
   "source": [
    "calls.info(memory_usage='deep')"
   ]
  },
  {
   "cell_type": "code",
   "execution_count": 11,
   "metadata": {},
   "outputs": [
    {
     "data": {
      "text/html": [
       "<div>\n",
       "<style scoped>\n",
       "    .dataframe tbody tr th:only-of-type {\n",
       "        vertical-align: middle;\n",
       "    }\n",
       "\n",
       "    .dataframe tbody tr th {\n",
       "        vertical-align: top;\n",
       "    }\n",
       "\n",
       "    .dataframe thead th {\n",
       "        text-align: right;\n",
       "    }\n",
       "</style>\n",
       "<table border=\"1\" class=\"dataframe\">\n",
       "  <thead>\n",
       "    <tr style=\"text-align: right;\">\n",
       "      <th></th>\n",
       "      <th>user_id</th>\n",
       "      <th>date</th>\n",
       "      <th>direction</th>\n",
       "      <th>internal</th>\n",
       "      <th>operator_id</th>\n",
       "      <th>is_missed_call</th>\n",
       "      <th>calls_count</th>\n",
       "      <th>call_duration</th>\n",
       "      <th>total_call_duration</th>\n",
       "    </tr>\n",
       "  </thead>\n",
       "  <tbody>\n",
       "    <tr>\n",
       "      <td>19069</td>\n",
       "      <td>166983</td>\n",
       "      <td>2019-10-12 00:00:00+03:00</td>\n",
       "      <td>out</td>\n",
       "      <td>False</td>\n",
       "      <td>901880.0</td>\n",
       "      <td>True</td>\n",
       "      <td>9</td>\n",
       "      <td>0</td>\n",
       "      <td>242</td>\n",
       "    </tr>\n",
       "    <tr>\n",
       "      <td>53154</td>\n",
       "      <td>168366</td>\n",
       "      <td>2019-11-03 00:00:00+03:00</td>\n",
       "      <td>in</td>\n",
       "      <td>False</td>\n",
       "      <td>NaN</td>\n",
       "      <td>True</td>\n",
       "      <td>1</td>\n",
       "      <td>0</td>\n",
       "      <td>4</td>\n",
       "    </tr>\n",
       "    <tr>\n",
       "      <td>35074</td>\n",
       "      <td>167521</td>\n",
       "      <td>2019-11-13 00:00:00+03:00</td>\n",
       "      <td>in</td>\n",
       "      <td>False</td>\n",
       "      <td>919794.0</td>\n",
       "      <td>False</td>\n",
       "      <td>59</td>\n",
       "      <td>4134</td>\n",
       "      <td>5797</td>\n",
       "    </tr>\n",
       "  </tbody>\n",
       "</table>\n",
       "</div>"
      ],
      "text/plain": [
       "       user_id                       date direction internal  operator_id  \\\n",
       "19069   166983  2019-10-12 00:00:00+03:00       out    False     901880.0   \n",
       "53154   168366  2019-11-03 00:00:00+03:00        in    False          NaN   \n",
       "35074   167521  2019-11-13 00:00:00+03:00        in    False     919794.0   \n",
       "\n",
       "       is_missed_call  calls_count  call_duration  total_call_duration  \n",
       "19069            True            9              0                  242  \n",
       "53154            True            1              0                    4  \n",
       "35074           False           59           4134                 5797  "
      ]
     },
     "metadata": {},
     "output_type": "display_data"
    }
   ],
   "source": [
    "display(calls.sample(3))"
   ]
  },
  {
   "cell_type": "markdown",
   "metadata": {},
   "source": [
    "### <font color=#F87217>Overview Precis</font>\n",
    "<p style=\"font-size:17px\">  The calls dataset is Goliath next to the clients dataset.<br> \n",
    "    Interesting, less than half of the unique users in the clients table appear in the calls table.\n",
    "    As the focus of our entire inquiry is operators, users and their start dates are not relevant to the performance of virtual operators. <br>\n",
    "    Initially it made sense to analyze the relative tariff plan shares of calls, but when we discovered that there is no difference to the bottom line between any of the three tariffs, then that line of inquiry seemed pointless as well.<br> \n",
    "    The date column in the calls dataset bears looking into as one means to pare down down the dataset volume. First off, it can be typed as datetime. My hunch at this stage is that the hours:minutes:seconds and UTC offset in the date records is exactly the same for all the records, which obviates the necessity for this level of detail.<br>\n",
    "    The other notable fact at first glance in the calls dataset is the preponderance of nulls for operator_id: the very subject of our analysis! "
   ]
  },
  {
   "cell_type": "markdown",
   "metadata": {},
   "source": [
    "<font color='#15317E'><h3>Data Preprocessing</h3>"
   ]
  },
  {
   "cell_type": "code",
   "execution_count": 26,
   "metadata": {},
   "outputs": [
    {
     "data": {
      "text/plain": [
       "2019-11-25    1220\n",
       "Name: date, dtype: int64"
      ]
     },
     "execution_count": 26,
     "metadata": {},
     "output_type": "execute_result"
    }
   ],
   "source": [
    "#checking that the hours-minutes_seconds and UTC offset are the same for each and every record\n",
    "calls.date.value_counts().head(1)"
   ]
  },
  {
   "cell_type": "code",
   "execution_count": 134,
   "metadata": {},
   "outputs": [],
   "source": [
    "#converting date to datetime type as well as shedding the uniform hours-minutes-seconds and UTC offset details\n",
    "calls.date=pd.to_datetime([date for date, _ in calls.date.str.split()])"
   ]
  },
  {
   "cell_type": "code",
   "execution_count": 47,
   "metadata": {},
   "outputs": [
    {
     "data": {
      "text/html": [
       "<div>\n",
       "<style scoped>\n",
       "    .dataframe tbody tr th:only-of-type {\n",
       "        vertical-align: middle;\n",
       "    }\n",
       "\n",
       "    .dataframe tbody tr th {\n",
       "        vertical-align: top;\n",
       "    }\n",
       "\n",
       "    .dataframe thead th {\n",
       "        text-align: right;\n",
       "    }\n",
       "</style>\n",
       "<table border=\"1\" class=\"dataframe\">\n",
       "  <thead>\n",
       "    <tr style=\"text-align: right;\">\n",
       "      <th></th>\n",
       "      <th>user_id</th>\n",
       "      <th>date</th>\n",
       "      <th>direction</th>\n",
       "      <th>internal</th>\n",
       "      <th>operator_id</th>\n",
       "      <th>is_missed_call</th>\n",
       "      <th>calls_count</th>\n",
       "      <th>call_duration</th>\n",
       "      <th>total_call_duration</th>\n",
       "    </tr>\n",
       "  </thead>\n",
       "  <tbody>\n",
       "    <tr>\n",
       "      <td>49298</td>\n",
       "      <td>168187</td>\n",
       "      <td>2019-11-22</td>\n",
       "      <td>out</td>\n",
       "      <td>False</td>\n",
       "      <td>937868.0</td>\n",
       "      <td>False</td>\n",
       "      <td>7</td>\n",
       "      <td>3051</td>\n",
       "      <td>3229</td>\n",
       "    </tr>\n",
       "  </tbody>\n",
       "</table>\n",
       "</div>"
      ],
      "text/plain": [
       "       user_id       date direction  internal  operator_id  is_missed_call  \\\n",
       "49298   168187 2019-11-22       out     False     937868.0           False   \n",
       "\n",
       "       calls_count  call_duration  total_call_duration  \n",
       "49298            7           3051                 3229  "
      ]
     },
     "execution_count": 47,
     "metadata": {},
     "output_type": "execute_result"
    }
   ],
   "source": [
    "calls.sample()"
   ]
  },
  {
   "cell_type": "code",
   "execution_count": 135,
   "metadata": {},
   "outputs": [],
   "source": [
    "#this parameter was using strings for True, False so it makes sense for it to be boolean\n",
    "calls.internal=calls.internal.astype('bool')"
   ]
  },
  {
   "cell_type": "code",
   "execution_count": 21,
   "metadata": {},
   "outputs": [
    {
     "name": "stdout",
     "output_type": "stream",
     "text": [
      "<class 'pandas.core.frame.DataFrame'>\n",
      "RangeIndex: 53902 entries, 0 to 53901\n",
      "Data columns (total 9 columns):\n",
      "user_id                53902 non-null int64\n",
      "date                   53902 non-null datetime64[ns]\n",
      "direction              53902 non-null object\n",
      "internal               53785 non-null object\n",
      "operator_id            45730 non-null float64\n",
      "is_missed_call         53902 non-null bool\n",
      "calls_count            53902 non-null int64\n",
      "call_duration          53902 non-null int64\n",
      "total_call_duration    53902 non-null int64\n",
      "dtypes: bool(1), datetime64[ns](1), float64(1), int64(4), object(2)\n",
      "memory usage: 7.3 MB\n"
     ]
    }
   ],
   "source": [
    "#memory usage plummeted by nearly 7mb for the above two dtype changes!\n",
    "calls.info(memory_usage='deep')"
   ]
  },
  {
   "cell_type": "code",
   "execution_count": 41,
   "metadata": {},
   "outputs": [
    {
     "data": {
      "text/html": [
       "<div>\n",
       "<style scoped>\n",
       "    .dataframe tbody tr th:only-of-type {\n",
       "        vertical-align: middle;\n",
       "    }\n",
       "\n",
       "    .dataframe tbody tr th {\n",
       "        vertical-align: top;\n",
       "    }\n",
       "\n",
       "    .dataframe thead th {\n",
       "        text-align: right;\n",
       "    }\n",
       "</style>\n",
       "<table border=\"1\" class=\"dataframe\">\n",
       "  <thead>\n",
       "    <tr style=\"text-align: right;\">\n",
       "      <th></th>\n",
       "      <th>user_id</th>\n",
       "      <th>date</th>\n",
       "      <th>direction</th>\n",
       "      <th>internal</th>\n",
       "      <th>operator_id</th>\n",
       "      <th>is_missed_call</th>\n",
       "      <th>calls_count</th>\n",
       "      <th>call_duration</th>\n",
       "      <th>total_call_duration</th>\n",
       "    </tr>\n",
       "  </thead>\n",
       "  <tbody>\n",
       "  </tbody>\n",
       "</table>\n",
       "</div>"
      ],
      "text/plain": [
       "Empty DataFrame\n",
       "Columns: [user_id, date, direction, internal, operator_id, is_missed_call, calls_count, call_duration, total_call_duration]\n",
       "Index: []"
      ]
     },
     "execution_count": 41,
     "metadata": {},
     "output_type": "execute_result"
    }
   ],
   "source": [
    "#Ensuring there is a logical relationship between call duration time and the total column, adding wait time to duration time\n",
    "calls.query('call_duration>total_call_duration')"
   ]
  },
  {
   "cell_type": "code",
   "execution_count": 43,
   "metadata": {},
   "outputs": [
    {
     "name": "stdout",
     "output_type": "stream",
     "text": [
      "user_id 732\n",
      "tariff_plan 732\n",
      "date_start 732\n"
     ]
    },
    {
     "data": {
      "text/html": [
       "<div>\n",
       "<style scoped>\n",
       "    .dataframe tbody tr th:only-of-type {\n",
       "        vertical-align: middle;\n",
       "    }\n",
       "\n",
       "    .dataframe tbody tr th {\n",
       "        vertical-align: top;\n",
       "    }\n",
       "\n",
       "    .dataframe thead th {\n",
       "        text-align: right;\n",
       "    }\n",
       "</style>\n",
       "<table border=\"1\" class=\"dataframe\">\n",
       "  <thead>\n",
       "    <tr style=\"text-align: right;\">\n",
       "      <th></th>\n",
       "      <th>user_id</th>\n",
       "      <th>tariff_plan</th>\n",
       "      <th>date_start</th>\n",
       "    </tr>\n",
       "  </thead>\n",
       "  <tbody>\n",
       "  </tbody>\n",
       "</table>\n",
       "</div>"
      ],
      "text/plain": [
       "Empty DataFrame\n",
       "Columns: [user_id, tariff_plan, date_start]\n",
       "Index: []"
      ]
     },
     "execution_count": 43,
     "metadata": {},
     "output_type": "execute_result"
    }
   ],
   "source": [
    "#checking for nulls, duplicates, zeroes\n",
    "clients[clients.isna().any(axis=1)]\n",
    "for i in clients.columns: print(i, len(clients[i]==0))\n",
    "clients[clients.duplicated()]"
   ]
  },
  {
   "cell_type": "code",
   "execution_count": 63,
   "metadata": {},
   "outputs": [
    {
     "data": {
      "text/html": [
       "<div>\n",
       "<style scoped>\n",
       "    .dataframe tbody tr th:only-of-type {\n",
       "        vertical-align: middle;\n",
       "    }\n",
       "\n",
       "    .dataframe tbody tr th {\n",
       "        vertical-align: top;\n",
       "    }\n",
       "\n",
       "    .dataframe thead th {\n",
       "        text-align: right;\n",
       "    }\n",
       "</style>\n",
       "<table border=\"1\" class=\"dataframe\">\n",
       "  <thead>\n",
       "    <tr style=\"text-align: right;\">\n",
       "      <th></th>\n",
       "      <th>user_id</th>\n",
       "      <th>date</th>\n",
       "      <th>direction</th>\n",
       "      <th>internal</th>\n",
       "      <th>operator_id</th>\n",
       "      <th>is_missed_call</th>\n",
       "      <th>calls_count</th>\n",
       "      <th>call_duration</th>\n",
       "      <th>total_call_duration</th>\n",
       "    </tr>\n",
       "  </thead>\n",
       "  <tbody>\n",
       "  </tbody>\n",
       "</table>\n",
       "</div>"
      ],
      "text/plain": [
       "Empty DataFrame\n",
       "Columns: [user_id, date, direction, internal, operator_id, is_missed_call, calls_count, call_duration, total_call_duration]\n",
       "Index: []"
      ]
     },
     "execution_count": 63,
     "metadata": {},
     "output_type": "execute_result"
    }
   ],
   "source": [
    "#checking duplicates \n",
    "calls[calls.duplicated()].head()"
   ]
  },
  {
   "cell_type": "code",
   "execution_count": 136,
   "metadata": {},
   "outputs": [],
   "source": [
    "#dropping duplicate rows\n",
    "calls.drop_duplicates(inplace=True)"
   ]
  },
  {
   "cell_type": "code",
   "execution_count": 25,
   "metadata": {},
   "outputs": [
    {
     "name": "stdout",
     "output_type": "stream",
     "text": [
      "user_id 0\n",
      "date 0\n",
      "direction 0\n",
      "internal 36216\n",
      "operator_id 0\n",
      "is_missed_call 27436\n",
      "calls_count 0\n",
      "call_duration 13831\n",
      "total_call_duration 863\n"
     ]
    }
   ],
   "source": [
    "#aside from the two boolean parameters, the zeros in duration bear further investigation\n",
    "for i in calls.columns: print(i, len(calls[calls[i]==0]))"
   ]
  },
  {
   "cell_type": "code",
   "execution_count": 56,
   "metadata": {},
   "outputs": [
    {
     "data": {
      "text/plain": [
       "57"
      ]
     },
     "execution_count": 56,
     "metadata": {},
     "output_type": "execute_result"
    }
   ],
   "source": [
    "#examiningnulls\n",
    "calls[calls.internal.isna()]\n",
    "#checking for overlapping nulls\n",
    "calls[calls.internal.isna()].shape[0]-calls[calls.internal.isna()]['operator_id'].value_counts().sum()"
   ]
  },
  {
   "cell_type": "code",
   "execution_count": 10,
   "metadata": {},
   "outputs": [
    {
     "data": {
      "text/plain": [
       "user_id                0.130572\n",
       "date                   0.130572\n",
       "direction              0.130572\n",
       "internal               0.130572\n",
       "operator_id            0.147173\n",
       "is_missed_call         0.130572\n",
       "calls_count            0.130572\n",
       "call_duration          0.130572\n",
       "total_call_duration    0.130572\n",
       "dtype: float64"
      ]
     },
     "execution_count": 10,
     "metadata": {},
     "output_type": "execute_result"
    }
   ],
   "source": [
    "#ascertaining low % of internal calls\n",
    "calls[calls.internal==1].count()/calls[calls.internal==0].count()"
   ]
  },
  {
   "cell_type": "code",
   "execution_count": 7,
   "metadata": {},
   "outputs": [
    {
     "data": {
      "text/html": [
       "<div>\n",
       "<style scoped>\n",
       "    .dataframe tbody tr th:only-of-type {\n",
       "        vertical-align: middle;\n",
       "    }\n",
       "\n",
       "    .dataframe tbody tr th {\n",
       "        vertical-align: top;\n",
       "    }\n",
       "\n",
       "    .dataframe thead th {\n",
       "        text-align: right;\n",
       "    }\n",
       "</style>\n",
       "<table border=\"1\" class=\"dataframe\">\n",
       "  <thead>\n",
       "    <tr style=\"text-align: right;\">\n",
       "      <th></th>\n",
       "      <th>user_id</th>\n",
       "      <th>date</th>\n",
       "      <th>direction</th>\n",
       "      <th>internal</th>\n",
       "      <th>operator_id</th>\n",
       "      <th>is_missed_call</th>\n",
       "      <th>calls_count</th>\n",
       "      <th>call_duration</th>\n",
       "      <th>total_call_duration</th>\n",
       "    </tr>\n",
       "  </thead>\n",
       "  <tbody>\n",
       "    <tr>\n",
       "      <td>29912</td>\n",
       "      <td>167264</td>\n",
       "      <td>2019-11-21</td>\n",
       "      <td>in</td>\n",
       "      <td>NaN</td>\n",
       "      <td>919552.0</td>\n",
       "      <td>False</td>\n",
       "      <td>1</td>\n",
       "      <td>55</td>\n",
       "      <td>80</td>\n",
       "    </tr>\n",
       "  </tbody>\n",
       "</table>\n",
       "</div>"
      ],
      "text/plain": [
       "       user_id       date direction internal  operator_id  is_missed_call  \\\n",
       "29912   167264 2019-11-21        in      NaN     919552.0           False   \n",
       "\n",
       "       calls_count  call_duration  total_call_duration  \n",
       "29912            1             55                   80  "
      ]
     },
     "execution_count": 7,
     "metadata": {},
     "output_type": "execute_result"
    }
   ],
   "source": [
    "calls[calls.internal.isna()&calls.call_duration>0].sample()#32 records and operator ID is not null!"
   ]
  },
  {
   "cell_type": "code",
   "execution_count": 137,
   "metadata": {},
   "outputs": [],
   "source": [
    "#filling the three dozen nulls with call duration that have operator id with the value that appears 87% of the time\n",
    "calls.loc[calls.internal.isna()&(calls.call_duration>0),'internal'] = False"
   ]
  },
  {
   "cell_type": "code",
   "execution_count": 26,
   "metadata": {},
   "outputs": [
    {
     "data": {
      "text/html": [
       "<div>\n",
       "<style scoped>\n",
       "    .dataframe tbody tr th:only-of-type {\n",
       "        vertical-align: middle;\n",
       "    }\n",
       "\n",
       "    .dataframe tbody tr th {\n",
       "        vertical-align: top;\n",
       "    }\n",
       "\n",
       "    .dataframe thead th {\n",
       "        text-align: right;\n",
       "    }\n",
       "</style>\n",
       "<table border=\"1\" class=\"dataframe\">\n",
       "  <thead>\n",
       "    <tr style=\"text-align: right;\">\n",
       "      <th></th>\n",
       "      <th>user_id</th>\n",
       "      <th>date</th>\n",
       "      <th>direction</th>\n",
       "      <th>internal</th>\n",
       "      <th>operator_id</th>\n",
       "      <th>is_missed_call</th>\n",
       "      <th>calls_count</th>\n",
       "      <th>call_duration</th>\n",
       "      <th>total_call_duration</th>\n",
       "    </tr>\n",
       "  </thead>\n",
       "  <tbody>\n",
       "    <tr>\n",
       "      <td>37580</td>\n",
       "      <td>167626</td>\n",
       "      <td>2019-10-18</td>\n",
       "      <td>in</td>\n",
       "      <td>NaN</td>\n",
       "      <td>NaN</td>\n",
       "      <td>True</td>\n",
       "      <td>2</td>\n",
       "      <td>0</td>\n",
       "      <td>4</td>\n",
       "    </tr>\n",
       "  </tbody>\n",
       "</table>\n",
       "</div>"
      ],
      "text/plain": [
       "       user_id       date direction internal  operator_id  is_missed_call  \\\n",
       "37580   167626 2019-10-18        in      NaN          NaN            True   \n",
       "\n",
       "       calls_count  call_duration  total_call_duration  \n",
       "37580            2              0                    4  "
      ]
     },
     "execution_count": 26,
     "metadata": {},
     "output_type": "execute_result"
    }
   ],
   "source": [
    "calls[calls.internal.isna()].sample()# for all the remainder, operator id is null!"
   ]
  },
  {
   "cell_type": "code",
   "execution_count": 32,
   "metadata": {},
   "outputs": [
    {
     "name": "stdout",
     "output_type": "stream",
     "text": [
      "7456\n"
     ]
    },
    {
     "data": {
      "text/plain": [
       "0.15215705481408923"
      ]
     },
     "execution_count": 32,
     "metadata": {},
     "output_type": "execute_result"
    }
   ],
   "source": [
    "print(calls[calls.operator_id.isna()].shape[0])\n",
    "calls[calls.operator_id.isna()].shape[0]/calls.shape[0]"
   ]
  },
  {
   "cell_type": "code",
   "execution_count": 13,
   "metadata": {},
   "outputs": [],
   "source": [
    "#a df for comparing the null-filled original df with the df after eliminating nulls\n",
    "initial=pd.read_csv('/datasets/telecom_dataset_us.csv')\n",
    "initial.drop_duplicates(inplace=True)"
   ]
  },
  {
   "cell_type": "code",
   "execution_count": 49,
   "metadata": {},
   "outputs": [
    {
     "data": {
      "text/html": [
       "<div>\n",
       "<style scoped>\n",
       "    .dataframe tbody tr th:only-of-type {\n",
       "        vertical-align: middle;\n",
       "    }\n",
       "\n",
       "    .dataframe tbody tr th {\n",
       "        vertical-align: top;\n",
       "    }\n",
       "\n",
       "    .dataframe thead th {\n",
       "        text-align: right;\n",
       "    }\n",
       "</style>\n",
       "<table border=\"1\" class=\"dataframe\">\n",
       "  <thead>\n",
       "    <tr style=\"text-align: right;\">\n",
       "      <th></th>\n",
       "      <th>user_id</th>\n",
       "      <th>operator_id</th>\n",
       "      <th>calls_count</th>\n",
       "      <th>call_duration</th>\n",
       "      <th>total_call_duration</th>\n",
       "    </tr>\n",
       "  </thead>\n",
       "  <tbody>\n",
       "    <tr>\n",
       "      <td>count</td>\n",
       "      <td>7456.000000</td>\n",
       "      <td>0.0</td>\n",
       "      <td>7456.000000</td>\n",
       "      <td>7456.000000</td>\n",
       "      <td>7456.000000</td>\n",
       "    </tr>\n",
       "    <tr>\n",
       "      <td>mean</td>\n",
       "      <td>167259.123793</td>\n",
       "      <td>NaN</td>\n",
       "      <td>14.024142</td>\n",
       "      <td>66.749598</td>\n",
       "      <td>236.959496</td>\n",
       "    </tr>\n",
       "    <tr>\n",
       "      <td>std</td>\n",
       "      <td>586.842979</td>\n",
       "      <td>NaN</td>\n",
       "      <td>81.785240</td>\n",
       "      <td>945.349645</td>\n",
       "      <td>1265.307052</td>\n",
       "    </tr>\n",
       "    <tr>\n",
       "      <td>min</td>\n",
       "      <td>166377.000000</td>\n",
       "      <td>NaN</td>\n",
       "      <td>1.000000</td>\n",
       "      <td>0.000000</td>\n",
       "      <td>0.000000</td>\n",
       "    </tr>\n",
       "    <tr>\n",
       "      <td>25%</td>\n",
       "      <td>166782.000000</td>\n",
       "      <td>NaN</td>\n",
       "      <td>1.000000</td>\n",
       "      <td>0.000000</td>\n",
       "      <td>7.000000</td>\n",
       "    </tr>\n",
       "    <tr>\n",
       "      <td>50%</td>\n",
       "      <td>167125.000000</td>\n",
       "      <td>NaN</td>\n",
       "      <td>2.000000</td>\n",
       "      <td>0.000000</td>\n",
       "      <td>35.000000</td>\n",
       "    </tr>\n",
       "    <tr>\n",
       "      <td>75%</td>\n",
       "      <td>167727.000000</td>\n",
       "      <td>NaN</td>\n",
       "      <td>7.000000</td>\n",
       "      <td>0.000000</td>\n",
       "      <td>115.000000</td>\n",
       "    </tr>\n",
       "    <tr>\n",
       "      <td>max</td>\n",
       "      <td>168606.000000</td>\n",
       "      <td>NaN</td>\n",
       "      <td>2168.000000</td>\n",
       "      <td>26175.000000</td>\n",
       "      <td>42667.000000</td>\n",
       "    </tr>\n",
       "  </tbody>\n",
       "</table>\n",
       "</div>"
      ],
      "text/plain": [
       "             user_id  operator_id  calls_count  call_duration  \\\n",
       "count    7456.000000          0.0  7456.000000    7456.000000   \n",
       "mean   167259.123793          NaN    14.024142      66.749598   \n",
       "std       586.842979          NaN    81.785240     945.349645   \n",
       "min    166377.000000          NaN     1.000000       0.000000   \n",
       "25%    166782.000000          NaN     1.000000       0.000000   \n",
       "50%    167125.000000          NaN     2.000000       0.000000   \n",
       "75%    167727.000000          NaN     7.000000       0.000000   \n",
       "max    168606.000000          NaN  2168.000000   26175.000000   \n",
       "\n",
       "       total_call_duration  \n",
       "count          7456.000000  \n",
       "mean            236.959496  \n",
       "std            1265.307052  \n",
       "min               0.000000  \n",
       "25%               7.000000  \n",
       "50%              35.000000  \n",
       "75%             115.000000  \n",
       "max           42667.000000  "
      ]
     },
     "execution_count": 49,
     "metadata": {},
     "output_type": "execute_result"
    }
   ],
   "source": [
    "initial[initial.operator_id.isna()].describe()"
   ]
  },
  {
   "cell_type": "code",
   "execution_count": 21,
   "metadata": {},
   "outputs": [
    {
     "data": {
      "text/html": [
       "<div>\n",
       "<style scoped>\n",
       "    .dataframe tbody tr th:only-of-type {\n",
       "        vertical-align: middle;\n",
       "    }\n",
       "\n",
       "    .dataframe tbody tr th {\n",
       "        vertical-align: top;\n",
       "    }\n",
       "\n",
       "    .dataframe thead th {\n",
       "        text-align: right;\n",
       "    }\n",
       "</style>\n",
       "<table border=\"1\" class=\"dataframe\">\n",
       "  <thead>\n",
       "    <tr style=\"text-align: right;\">\n",
       "      <th></th>\n",
       "      <th>user_id</th>\n",
       "      <th>operator_id</th>\n",
       "      <th>calls_count</th>\n",
       "      <th>call_duration</th>\n",
       "      <th>total_call_duration</th>\n",
       "    </tr>\n",
       "  </thead>\n",
       "  <tbody>\n",
       "    <tr>\n",
       "      <td>count</td>\n",
       "      <td>55.000000</td>\n",
       "      <td>0.0</td>\n",
       "      <td>55.000000</td>\n",
       "      <td>55.000000</td>\n",
       "      <td>55.000000</td>\n",
       "    </tr>\n",
       "    <tr>\n",
       "      <td>mean</td>\n",
       "      <td>167959.654545</td>\n",
       "      <td>NaN</td>\n",
       "      <td>7.890909</td>\n",
       "      <td>4114.418182</td>\n",
       "      <td>4178.145455</td>\n",
       "    </tr>\n",
       "    <tr>\n",
       "      <td>std</td>\n",
       "      <td>581.656995</td>\n",
       "      <td>NaN</td>\n",
       "      <td>11.270533</td>\n",
       "      <td>6363.974599</td>\n",
       "      <td>6436.639241</td>\n",
       "    </tr>\n",
       "    <tr>\n",
       "      <td>min</td>\n",
       "      <td>166503.000000</td>\n",
       "      <td>NaN</td>\n",
       "      <td>1.000000</td>\n",
       "      <td>5.000000</td>\n",
       "      <td>16.000000</td>\n",
       "    </tr>\n",
       "    <tr>\n",
       "      <td>25%</td>\n",
       "      <td>168252.000000</td>\n",
       "      <td>NaN</td>\n",
       "      <td>1.000000</td>\n",
       "      <td>140.000000</td>\n",
       "      <td>158.500000</td>\n",
       "    </tr>\n",
       "    <tr>\n",
       "      <td>50%</td>\n",
       "      <td>168252.000000</td>\n",
       "      <td>NaN</td>\n",
       "      <td>2.000000</td>\n",
       "      <td>951.000000</td>\n",
       "      <td>967.000000</td>\n",
       "    </tr>\n",
       "    <tr>\n",
       "      <td>75%</td>\n",
       "      <td>168252.000000</td>\n",
       "      <td>NaN</td>\n",
       "      <td>11.000000</td>\n",
       "      <td>5916.000000</td>\n",
       "      <td>6070.000000</td>\n",
       "    </tr>\n",
       "    <tr>\n",
       "      <td>max</td>\n",
       "      <td>168336.000000</td>\n",
       "      <td>NaN</td>\n",
       "      <td>52.000000</td>\n",
       "      <td>26175.000000</td>\n",
       "      <td>26347.000000</td>\n",
       "    </tr>\n",
       "  </tbody>\n",
       "</table>\n",
       "</div>"
      ],
      "text/plain": [
       "             user_id  operator_id  calls_count  call_duration  \\\n",
       "count      55.000000          0.0    55.000000      55.000000   \n",
       "mean   167959.654545          NaN     7.890909    4114.418182   \n",
       "std       581.656995          NaN    11.270533    6363.974599   \n",
       "min    166503.000000          NaN     1.000000       5.000000   \n",
       "25%    168252.000000          NaN     1.000000     140.000000   \n",
       "50%    168252.000000          NaN     2.000000     951.000000   \n",
       "75%    168252.000000          NaN    11.000000    5916.000000   \n",
       "max    168336.000000          NaN    52.000000   26175.000000   \n",
       "\n",
       "       total_call_duration  \n",
       "count            55.000000  \n",
       "mean           4178.145455  \n",
       "std            6436.639241  \n",
       "min              16.000000  \n",
       "25%             158.500000  \n",
       "50%             967.000000  \n",
       "75%            6070.000000  \n",
       "max           26347.000000  "
      ]
     },
     "execution_count": 21,
     "metadata": {},
     "output_type": "execute_result"
    }
   ],
   "source": [
    "initial[initial.operator_id.isna()&initial.call_duration>0].describe()"
   ]
  },
  {
   "cell_type": "code",
   "execution_count": 25,
   "metadata": {},
   "outputs": [
    {
     "data": {
      "text/html": [
       "<div>\n",
       "<style scoped>\n",
       "    .dataframe tbody tr th:only-of-type {\n",
       "        vertical-align: middle;\n",
       "    }\n",
       "\n",
       "    .dataframe tbody tr th {\n",
       "        vertical-align: top;\n",
       "    }\n",
       "\n",
       "    .dataframe thead th {\n",
       "        text-align: right;\n",
       "    }\n",
       "</style>\n",
       "<table border=\"1\" class=\"dataframe\">\n",
       "  <thead>\n",
       "    <tr style=\"text-align: right;\">\n",
       "      <th></th>\n",
       "      <th>user_id</th>\n",
       "      <th>operator_id</th>\n",
       "      <th>calls_count</th>\n",
       "      <th>call_duration</th>\n",
       "      <th>total_call_duration</th>\n",
       "    </tr>\n",
       "  </thead>\n",
       "  <tbody>\n",
       "    <tr>\n",
       "      <td>count</td>\n",
       "      <td>83.0</td>\n",
       "      <td>0.0</td>\n",
       "      <td>83.000000</td>\n",
       "      <td>83.000000</td>\n",
       "      <td>83.000000</td>\n",
       "    </tr>\n",
       "    <tr>\n",
       "      <td>mean</td>\n",
       "      <td>168252.0</td>\n",
       "      <td>NaN</td>\n",
       "      <td>11.144578</td>\n",
       "      <td>5931.987952</td>\n",
       "      <td>6014.710843</td>\n",
       "    </tr>\n",
       "    <tr>\n",
       "      <td>std</td>\n",
       "      <td>0.0</td>\n",
       "      <td>NaN</td>\n",
       "      <td>12.898414</td>\n",
       "      <td>6783.096294</td>\n",
       "      <td>6849.794465</td>\n",
       "    </tr>\n",
       "    <tr>\n",
       "      <td>min</td>\n",
       "      <td>168252.0</td>\n",
       "      <td>NaN</td>\n",
       "      <td>1.000000</td>\n",
       "      <td>46.000000</td>\n",
       "      <td>54.000000</td>\n",
       "    </tr>\n",
       "    <tr>\n",
       "      <td>25%</td>\n",
       "      <td>168252.0</td>\n",
       "      <td>NaN</td>\n",
       "      <td>2.000000</td>\n",
       "      <td>656.500000</td>\n",
       "      <td>664.000000</td>\n",
       "    </tr>\n",
       "    <tr>\n",
       "      <td>50%</td>\n",
       "      <td>168252.0</td>\n",
       "      <td>NaN</td>\n",
       "      <td>5.000000</td>\n",
       "      <td>3225.000000</td>\n",
       "      <td>3287.000000</td>\n",
       "    </tr>\n",
       "    <tr>\n",
       "      <td>75%</td>\n",
       "      <td>168252.0</td>\n",
       "      <td>NaN</td>\n",
       "      <td>15.000000</td>\n",
       "      <td>8071.500000</td>\n",
       "      <td>8297.000000</td>\n",
       "    </tr>\n",
       "    <tr>\n",
       "      <td>max</td>\n",
       "      <td>168252.0</td>\n",
       "      <td>NaN</td>\n",
       "      <td>52.000000</td>\n",
       "      <td>26175.000000</td>\n",
       "      <td>26347.000000</td>\n",
       "    </tr>\n",
       "  </tbody>\n",
       "</table>\n",
       "</div>"
      ],
      "text/plain": [
       "        user_id  operator_id  calls_count  call_duration  total_call_duration\n",
       "count      83.0          0.0    83.000000      83.000000            83.000000\n",
       "mean   168252.0          NaN    11.144578    5931.987952          6014.710843\n",
       "std         0.0          NaN    12.898414    6783.096294          6849.794465\n",
       "min    168252.0          NaN     1.000000      46.000000            54.000000\n",
       "25%    168252.0          NaN     2.000000     656.500000           664.000000\n",
       "50%    168252.0          NaN     5.000000    3225.000000          3287.000000\n",
       "75%    168252.0          NaN    15.000000    8071.500000          8297.000000\n",
       "max    168252.0          NaN    52.000000   26175.000000         26347.000000"
      ]
     },
     "execution_count": 25,
     "metadata": {},
     "output_type": "execute_result"
    }
   ],
   "source": [
    "initial[(initial.call_duration>0)&(initial.user_id==168252)].operator_id.nunique()#28\n",
    "initial[(initial.call_duration>0)&(initial.user_id==168252)].count()\n",
    "initial[(initial.call_duration>0)&(initial.user_id==168252)&(initial.operator_id.isna())].describe()"
   ]
  },
  {
   "cell_type": "code",
   "execution_count": 48,
   "metadata": {},
   "outputs": [
    {
     "data": {
      "text/html": [
       "<div>\n",
       "<style scoped>\n",
       "    .dataframe tbody tr th:only-of-type {\n",
       "        vertical-align: middle;\n",
       "    }\n",
       "\n",
       "    .dataframe tbody tr th {\n",
       "        vertical-align: top;\n",
       "    }\n",
       "\n",
       "    .dataframe thead th {\n",
       "        text-align: right;\n",
       "    }\n",
       "</style>\n",
       "<table border=\"1\" class=\"dataframe\">\n",
       "  <thead>\n",
       "    <tr style=\"text-align: right;\">\n",
       "      <th></th>\n",
       "      <th>user_id</th>\n",
       "      <th>date</th>\n",
       "      <th>direction</th>\n",
       "      <th>internal</th>\n",
       "      <th>operator_id</th>\n",
       "      <th>is_missed_call</th>\n",
       "      <th>calls_count</th>\n",
       "      <th>call_duration</th>\n",
       "      <th>total_call_duration</th>\n",
       "    </tr>\n",
       "  </thead>\n",
       "  <tbody>\n",
       "    <tr>\n",
       "      <td>count</td>\n",
       "      <td>49002.000000</td>\n",
       "      <td>49002</td>\n",
       "      <td>49002</td>\n",
       "      <td>48892</td>\n",
       "      <td>41546.000000</td>\n",
       "      <td>49002</td>\n",
       "      <td>49002.000000</td>\n",
       "      <td>49002.000000</td>\n",
       "      <td>49002.000000</td>\n",
       "    </tr>\n",
       "    <tr>\n",
       "      <td>unique</td>\n",
       "      <td>NaN</td>\n",
       "      <td>119</td>\n",
       "      <td>2</td>\n",
       "      <td>2</td>\n",
       "      <td>NaN</td>\n",
       "      <td>2</td>\n",
       "      <td>NaN</td>\n",
       "      <td>NaN</td>\n",
       "      <td>NaN</td>\n",
       "    </tr>\n",
       "    <tr>\n",
       "      <td>top</td>\n",
       "      <td>NaN</td>\n",
       "      <td>2019-11-25 00:00:00+03:00</td>\n",
       "      <td>out</td>\n",
       "      <td>False</td>\n",
       "      <td>NaN</td>\n",
       "      <td>False</td>\n",
       "      <td>NaN</td>\n",
       "      <td>NaN</td>\n",
       "      <td>NaN</td>\n",
       "    </tr>\n",
       "    <tr>\n",
       "      <td>freq</td>\n",
       "      <td>NaN</td>\n",
       "      <td>1109</td>\n",
       "      <td>28999</td>\n",
       "      <td>43239</td>\n",
       "      <td>NaN</td>\n",
       "      <td>27549</td>\n",
       "      <td>NaN</td>\n",
       "      <td>NaN</td>\n",
       "      <td>NaN</td>\n",
       "    </tr>\n",
       "    <tr>\n",
       "      <td>mean</td>\n",
       "      <td>167294.892759</td>\n",
       "      <td>NaN</td>\n",
       "      <td>NaN</td>\n",
       "      <td>NaN</td>\n",
       "      <td>916523.315409</td>\n",
       "      <td>NaN</td>\n",
       "      <td>16.462777</td>\n",
       "      <td>866.282091</td>\n",
       "      <td>1156.558202</td>\n",
       "    </tr>\n",
       "    <tr>\n",
       "      <td>std</td>\n",
       "      <td>598.558965</td>\n",
       "      <td>NaN</td>\n",
       "      <td>NaN</td>\n",
       "      <td>NaN</td>\n",
       "      <td>21230.041008</td>\n",
       "      <td>NaN</td>\n",
       "      <td>63.604098</td>\n",
       "      <td>3775.503352</td>\n",
       "      <td>4451.473661</td>\n",
       "    </tr>\n",
       "    <tr>\n",
       "      <td>min</td>\n",
       "      <td>166377.000000</td>\n",
       "      <td>NaN</td>\n",
       "      <td>NaN</td>\n",
       "      <td>NaN</td>\n",
       "      <td>879896.000000</td>\n",
       "      <td>NaN</td>\n",
       "      <td>1.000000</td>\n",
       "      <td>0.000000</td>\n",
       "      <td>0.000000</td>\n",
       "    </tr>\n",
       "    <tr>\n",
       "      <td>25%</td>\n",
       "      <td>166782.000000</td>\n",
       "      <td>NaN</td>\n",
       "      <td>NaN</td>\n",
       "      <td>NaN</td>\n",
       "      <td>900790.500000</td>\n",
       "      <td>NaN</td>\n",
       "      <td>1.000000</td>\n",
       "      <td>0.000000</td>\n",
       "      <td>46.000000</td>\n",
       "    </tr>\n",
       "    <tr>\n",
       "      <td>50%</td>\n",
       "      <td>167158.000000</td>\n",
       "      <td>NaN</td>\n",
       "      <td>NaN</td>\n",
       "      <td>NaN</td>\n",
       "      <td>913938.000000</td>\n",
       "      <td>NaN</td>\n",
       "      <td>4.000000</td>\n",
       "      <td>37.000000</td>\n",
       "      <td>208.000000</td>\n",
       "    </tr>\n",
       "    <tr>\n",
       "      <td>75%</td>\n",
       "      <td>167819.000000</td>\n",
       "      <td>NaN</td>\n",
       "      <td>NaN</td>\n",
       "      <td>NaN</td>\n",
       "      <td>937708.000000</td>\n",
       "      <td>NaN</td>\n",
       "      <td>12.000000</td>\n",
       "      <td>570.000000</td>\n",
       "      <td>901.000000</td>\n",
       "    </tr>\n",
       "    <tr>\n",
       "      <td>max</td>\n",
       "      <td>168606.000000</td>\n",
       "      <td>NaN</td>\n",
       "      <td>NaN</td>\n",
       "      <td>NaN</td>\n",
       "      <td>973286.000000</td>\n",
       "      <td>NaN</td>\n",
       "      <td>4817.000000</td>\n",
       "      <td>144395.000000</td>\n",
       "      <td>166155.000000</td>\n",
       "    </tr>\n",
       "  </tbody>\n",
       "</table>\n",
       "</div>"
      ],
      "text/plain": [
       "              user_id                       date direction internal  \\\n",
       "count    49002.000000                      49002     49002    48892   \n",
       "unique            NaN                        119         2        2   \n",
       "top               NaN  2019-11-25 00:00:00+03:00       out    False   \n",
       "freq              NaN                       1109     28999    43239   \n",
       "mean    167294.892759                        NaN       NaN      NaN   \n",
       "std        598.558965                        NaN       NaN      NaN   \n",
       "min     166377.000000                        NaN       NaN      NaN   \n",
       "25%     166782.000000                        NaN       NaN      NaN   \n",
       "50%     167158.000000                        NaN       NaN      NaN   \n",
       "75%     167819.000000                        NaN       NaN      NaN   \n",
       "max     168606.000000                        NaN       NaN      NaN   \n",
       "\n",
       "          operator_id is_missed_call   calls_count  call_duration  \\\n",
       "count    41546.000000          49002  49002.000000   49002.000000   \n",
       "unique            NaN              2           NaN            NaN   \n",
       "top               NaN          False           NaN            NaN   \n",
       "freq              NaN          27549           NaN            NaN   \n",
       "mean    916523.315409            NaN     16.462777     866.282091   \n",
       "std      21230.041008            NaN     63.604098    3775.503352   \n",
       "min     879896.000000            NaN      1.000000       0.000000   \n",
       "25%     900790.500000            NaN      1.000000       0.000000   \n",
       "50%     913938.000000            NaN      4.000000      37.000000   \n",
       "75%     937708.000000            NaN     12.000000     570.000000   \n",
       "max     973286.000000            NaN   4817.000000  144395.000000   \n",
       "\n",
       "        total_call_duration  \n",
       "count          49002.000000  \n",
       "unique                  NaN  \n",
       "top                     NaN  \n",
       "freq                    NaN  \n",
       "mean            1156.558202  \n",
       "std             4451.473661  \n",
       "min                0.000000  \n",
       "25%               46.000000  \n",
       "50%              208.000000  \n",
       "75%              901.000000  \n",
       "max           166155.000000  "
      ]
     },
     "execution_count": 48,
     "metadata": {},
     "output_type": "execute_result"
    }
   ],
   "source": [
    "initial.describe(include='all')"
   ]
  },
  {
   "cell_type": "code",
   "execution_count": 42,
   "metadata": {},
   "outputs": [
    {
     "data": {
      "text/html": [
       "<div>\n",
       "<style scoped>\n",
       "    .dataframe tbody tr th:only-of-type {\n",
       "        vertical-align: middle;\n",
       "    }\n",
       "\n",
       "    .dataframe tbody tr th {\n",
       "        vertical-align: top;\n",
       "    }\n",
       "\n",
       "    .dataframe thead th {\n",
       "        text-align: right;\n",
       "    }\n",
       "</style>\n",
       "<table border=\"1\" class=\"dataframe\">\n",
       "  <thead>\n",
       "    <tr style=\"text-align: right;\">\n",
       "      <th></th>\n",
       "      <th>index</th>\n",
       "      <th>user_id</th>\n",
       "      <th>date</th>\n",
       "      <th>direction</th>\n",
       "      <th>internal</th>\n",
       "      <th>operator_id</th>\n",
       "      <th>is_missed_call</th>\n",
       "      <th>calls_count</th>\n",
       "      <th>call_duration</th>\n",
       "      <th>total_call_duration</th>\n",
       "    </tr>\n",
       "  </thead>\n",
       "  <tbody>\n",
       "    <tr>\n",
       "      <td>0</td>\n",
       "      <td>1</td>\n",
       "      <td>166377</td>\n",
       "      <td>2019-08-05</td>\n",
       "      <td>out</td>\n",
       "      <td>True</td>\n",
       "      <td>880022.0</td>\n",
       "      <td>True</td>\n",
       "      <td>3</td>\n",
       "      <td>0</td>\n",
       "      <td>5</td>\n",
       "    </tr>\n",
       "    <tr>\n",
       "      <td>1</td>\n",
       "      <td>2</td>\n",
       "      <td>166377</td>\n",
       "      <td>2019-08-05</td>\n",
       "      <td>out</td>\n",
       "      <td>True</td>\n",
       "      <td>880020.0</td>\n",
       "      <td>True</td>\n",
       "      <td>1</td>\n",
       "      <td>0</td>\n",
       "      <td>1</td>\n",
       "    </tr>\n",
       "    <tr>\n",
       "      <td>2</td>\n",
       "      <td>3</td>\n",
       "      <td>166377</td>\n",
       "      <td>2019-08-05</td>\n",
       "      <td>out</td>\n",
       "      <td>True</td>\n",
       "      <td>880020.0</td>\n",
       "      <td>False</td>\n",
       "      <td>1</td>\n",
       "      <td>10</td>\n",
       "      <td>18</td>\n",
       "    </tr>\n",
       "  </tbody>\n",
       "</table>\n",
       "</div>"
      ],
      "text/plain": [
       "   index  user_id       date direction  internal  operator_id  is_missed_call  \\\n",
       "0      1   166377 2019-08-05       out      True     880022.0            True   \n",
       "1      2   166377 2019-08-05       out      True     880020.0            True   \n",
       "2      3   166377 2019-08-05       out      True     880020.0           False   \n",
       "\n",
       "   calls_count  call_duration  total_call_duration  \n",
       "0            3              0                    5  \n",
       "1            1              0                    1  \n",
       "2            1             10                   18  "
      ]
     },
     "execution_count": 42,
     "metadata": {},
     "output_type": "execute_result"
    }
   ],
   "source": [
    "calls.head(3)"
   ]
  },
  {
   "cell_type": "code",
   "execution_count": 138,
   "metadata": {},
   "outputs": [
    {
     "data": {
      "text/html": [
       "<div>\n",
       "<style scoped>\n",
       "    .dataframe tbody tr th:only-of-type {\n",
       "        vertical-align: middle;\n",
       "    }\n",
       "\n",
       "    .dataframe tbody tr th {\n",
       "        vertical-align: top;\n",
       "    }\n",
       "\n",
       "    .dataframe thead th {\n",
       "        text-align: right;\n",
       "    }\n",
       "</style>\n",
       "<table border=\"1\" class=\"dataframe\">\n",
       "  <thead>\n",
       "    <tr style=\"text-align: right;\">\n",
       "      <th></th>\n",
       "      <th>user_id</th>\n",
       "      <th>date</th>\n",
       "      <th>direction</th>\n",
       "      <th>internal</th>\n",
       "      <th>operator_id</th>\n",
       "      <th>is_missed_call</th>\n",
       "      <th>calls_count</th>\n",
       "      <th>call_duration</th>\n",
       "      <th>total_call_duration</th>\n",
       "    </tr>\n",
       "  </thead>\n",
       "  <tbody>\n",
       "    <tr>\n",
       "      <td>count</td>\n",
       "      <td>41546.000000</td>\n",
       "      <td>41546</td>\n",
       "      <td>41546</td>\n",
       "      <td>41546</td>\n",
       "      <td>41546.000000</td>\n",
       "      <td>41546</td>\n",
       "      <td>41546.000000</td>\n",
       "      <td>41546.000000</td>\n",
       "      <td>41546.000000</td>\n",
       "    </tr>\n",
       "    <tr>\n",
       "      <td>unique</td>\n",
       "      <td>NaN</td>\n",
       "      <td>118</td>\n",
       "      <td>2</td>\n",
       "      <td>2</td>\n",
       "      <td>NaN</td>\n",
       "      <td>2</td>\n",
       "      <td>NaN</td>\n",
       "      <td>NaN</td>\n",
       "      <td>NaN</td>\n",
       "    </tr>\n",
       "    <tr>\n",
       "      <td>top</td>\n",
       "      <td>NaN</td>\n",
       "      <td>2019-11-25 00:00:00</td>\n",
       "      <td>out</td>\n",
       "      <td>False</td>\n",
       "      <td>NaN</td>\n",
       "      <td>False</td>\n",
       "      <td>NaN</td>\n",
       "      <td>NaN</td>\n",
       "      <td>NaN</td>\n",
       "    </tr>\n",
       "    <tr>\n",
       "      <td>freq</td>\n",
       "      <td>NaN</td>\n",
       "      <td>988</td>\n",
       "      <td>28813</td>\n",
       "      <td>36161</td>\n",
       "      <td>NaN</td>\n",
       "      <td>27436</td>\n",
       "      <td>NaN</td>\n",
       "      <td>NaN</td>\n",
       "      <td>NaN</td>\n",
       "    </tr>\n",
       "    <tr>\n",
       "      <td>first</td>\n",
       "      <td>NaN</td>\n",
       "      <td>2019-08-02 00:00:00</td>\n",
       "      <td>NaN</td>\n",
       "      <td>NaN</td>\n",
       "      <td>NaN</td>\n",
       "      <td>NaN</td>\n",
       "      <td>NaN</td>\n",
       "      <td>NaN</td>\n",
       "      <td>NaN</td>\n",
       "    </tr>\n",
       "    <tr>\n",
       "      <td>last</td>\n",
       "      <td>NaN</td>\n",
       "      <td>2019-11-28 00:00:00</td>\n",
       "      <td>NaN</td>\n",
       "      <td>NaN</td>\n",
       "      <td>NaN</td>\n",
       "      <td>NaN</td>\n",
       "      <td>NaN</td>\n",
       "      <td>NaN</td>\n",
       "      <td>NaN</td>\n",
       "    </tr>\n",
       "    <tr>\n",
       "      <td>mean</td>\n",
       "      <td>167301.311992</td>\n",
       "      <td>NaN</td>\n",
       "      <td>NaN</td>\n",
       "      <td>NaN</td>\n",
       "      <td>916523.315409</td>\n",
       "      <td>NaN</td>\n",
       "      <td>16.900424</td>\n",
       "      <td>1009.769172</td>\n",
       "      <td>1321.592813</td>\n",
       "    </tr>\n",
       "    <tr>\n",
       "      <td>std</td>\n",
       "      <td>600.418838</td>\n",
       "      <td>NaN</td>\n",
       "      <td>NaN</td>\n",
       "      <td>NaN</td>\n",
       "      <td>21230.041008</td>\n",
       "      <td>NaN</td>\n",
       "      <td>59.749373</td>\n",
       "      <td>4064.106117</td>\n",
       "      <td>4785.978633</td>\n",
       "    </tr>\n",
       "    <tr>\n",
       "      <td>min</td>\n",
       "      <td>166377.000000</td>\n",
       "      <td>NaN</td>\n",
       "      <td>NaN</td>\n",
       "      <td>NaN</td>\n",
       "      <td>879896.000000</td>\n",
       "      <td>NaN</td>\n",
       "      <td>1.000000</td>\n",
       "      <td>0.000000</td>\n",
       "      <td>0.000000</td>\n",
       "    </tr>\n",
       "    <tr>\n",
       "      <td>25%</td>\n",
       "      <td>166782.000000</td>\n",
       "      <td>NaN</td>\n",
       "      <td>NaN</td>\n",
       "      <td>NaN</td>\n",
       "      <td>900790.500000</td>\n",
       "      <td>NaN</td>\n",
       "      <td>1.000000</td>\n",
       "      <td>0.000000</td>\n",
       "      <td>67.000000</td>\n",
       "    </tr>\n",
       "    <tr>\n",
       "      <td>50%</td>\n",
       "      <td>167175.000000</td>\n",
       "      <td>NaN</td>\n",
       "      <td>NaN</td>\n",
       "      <td>NaN</td>\n",
       "      <td>913938.000000</td>\n",
       "      <td>NaN</td>\n",
       "      <td>4.000000</td>\n",
       "      <td>106.000000</td>\n",
       "      <td>288.000000</td>\n",
       "    </tr>\n",
       "    <tr>\n",
       "      <td>75%</td>\n",
       "      <td>167827.000000</td>\n",
       "      <td>NaN</td>\n",
       "      <td>NaN</td>\n",
       "      <td>NaN</td>\n",
       "      <td>937708.000000</td>\n",
       "      <td>NaN</td>\n",
       "      <td>13.000000</td>\n",
       "      <td>770.000000</td>\n",
       "      <td>1104.000000</td>\n",
       "    </tr>\n",
       "    <tr>\n",
       "      <td>max</td>\n",
       "      <td>168606.000000</td>\n",
       "      <td>NaN</td>\n",
       "      <td>NaN</td>\n",
       "      <td>NaN</td>\n",
       "      <td>973286.000000</td>\n",
       "      <td>NaN</td>\n",
       "      <td>4817.000000</td>\n",
       "      <td>144395.000000</td>\n",
       "      <td>166155.000000</td>\n",
       "    </tr>\n",
       "  </tbody>\n",
       "</table>\n",
       "</div>"
      ],
      "text/plain": [
       "              user_id                 date direction internal    operator_id  \\\n",
       "count    41546.000000                41546     41546    41546   41546.000000   \n",
       "unique            NaN                  118         2        2            NaN   \n",
       "top               NaN  2019-11-25 00:00:00       out    False            NaN   \n",
       "freq              NaN                  988     28813    36161            NaN   \n",
       "first             NaN  2019-08-02 00:00:00       NaN      NaN            NaN   \n",
       "last              NaN  2019-11-28 00:00:00       NaN      NaN            NaN   \n",
       "mean    167301.311992                  NaN       NaN      NaN  916523.315409   \n",
       "std        600.418838                  NaN       NaN      NaN   21230.041008   \n",
       "min     166377.000000                  NaN       NaN      NaN  879896.000000   \n",
       "25%     166782.000000                  NaN       NaN      NaN  900790.500000   \n",
       "50%     167175.000000                  NaN       NaN      NaN  913938.000000   \n",
       "75%     167827.000000                  NaN       NaN      NaN  937708.000000   \n",
       "max     168606.000000                  NaN       NaN      NaN  973286.000000   \n",
       "\n",
       "       is_missed_call   calls_count  call_duration  total_call_duration  \n",
       "count           41546  41546.000000   41546.000000         41546.000000  \n",
       "unique              2           NaN            NaN                  NaN  \n",
       "top             False           NaN            NaN                  NaN  \n",
       "freq            27436           NaN            NaN                  NaN  \n",
       "first             NaN           NaN            NaN                  NaN  \n",
       "last              NaN           NaN            NaN                  NaN  \n",
       "mean              NaN     16.900424    1009.769172          1321.592813  \n",
       "std               NaN     59.749373    4064.106117          4785.978633  \n",
       "min               NaN      1.000000       0.000000             0.000000  \n",
       "25%               NaN      1.000000       0.000000            67.000000  \n",
       "50%               NaN      4.000000     106.000000           288.000000  \n",
       "75%               NaN     13.000000     770.000000          1104.000000  \n",
       "max               NaN   4817.000000  144395.000000        166155.000000  "
      ]
     },
     "execution_count": 138,
     "metadata": {},
     "output_type": "execute_result"
    }
   ],
   "source": [
    "#focusing df for analysis on known operator_ids\n",
    "calls=calls.dropna().reset_index(drop=True)\n",
    "calls.describe(include='all')"
   ]
  },
  {
   "cell_type": "markdown",
   "metadata": {},
   "source": [
    "### <font color=#F87217>Assessing the role of nulls in this dataset</font>\n",
    "<p style=\"font-size:17px\"> \n",
    "A significant share, 15%, of the data consists of null operator values. On the one hand, you can see valuable information in call count, duration and missed calls for these null records.<br>\n",
    "<br>\n",
    "On the other hand, all of those details do not point to specific operators. Moreover, their inclusion would have an impact on assessment of success/failure for existing operators.<br>\n",
    "<br>\n",
    "So no matter what value would be assigned to fill in an operator's null, the addition of the data from the other columns would alter the distribution of every other parameter in the dataset.<br>\n",
    "<br>    \n",
    "As it is, the distribution of call data skews far right. A quarter of operators handle 5 or less calls and a full half of operators handle 19 or less. So the addition of filled-null operators comprising 15% of the records in the dataset would have a significant impact on the assessment of actual, non-null operators. To give this broad impact to non-identifiable operators is not fair to the existing operators."
   ]
  },
  {
   "cell_type": "markdown",
   "metadata": {},
   "source": [
    "<p style=\"font-size:17px\"> \n",
    "Moreover,\n",
    "out of 7456 null operators, only 55! (less than 1%) have call durations. <br>\n",
    "    <br>\n",
    "And 41 out of those 55 are all call sessions from a single user_id! In its sessions with null operators, that user has call direction split evenly and has call durations and wait time all over the board, with high std. <br>\n",
    "    <br>\n",
    "All told, that user has 28 unique operators handling its overall 521 call sessions with operator_id. Given the active nature of this user, combined with such diverse behavior, it is not possible to narrow down the operator_id to fill in the missing values.<br>\n",
    "    <br>\n",
    "Dropping the null operators resulted in slightly more outgoing calls and 113 less missed calls.\n",
    "Although the overall call count diminished, the mean call count remained essentially the same. <br>\n",
    "    <br>\n",
    "The primary impact eliminating the null operators, with such a preponderance of zero duration calls, had on the parameters was to elevate the call duration and wait time."
   ]
  },
  {
   "cell_type": "markdown",
   "metadata": {},
   "source": [
    "<font color='#15317E'><h3>Preliminary Date Evaluation</h3>"
   ]
  },
  {
   "cell_type": "code",
   "execution_count": 8,
   "metadata": {},
   "outputs": [
    {
     "data": {
      "text/plain": [
       "Timestamp('2019-08-02 00:00:00')"
      ]
     },
     "execution_count": 8,
     "metadata": {},
     "output_type": "execute_result"
    }
   ],
   "source": [
    "#when the assessment begins\n",
    "calls.date.min()"
   ]
  },
  {
   "cell_type": "code",
   "execution_count": 10,
   "metadata": {},
   "outputs": [
    {
     "data": {
      "text/plain": [
       "Timestamp('2019-11-28 00:00:00')"
      ]
     },
     "execution_count": 10,
     "metadata": {},
     "output_type": "execute_result"
    }
   ],
   "source": [
    "#last date of assessment\n",
    "calls.date.max()"
   ]
  },
  {
   "cell_type": "code",
   "execution_count": 27,
   "metadata": {},
   "outputs": [
    {
     "data": {
      "text/plain": [
       "2019-08-11 00:00:00+03:00    2\n",
       "2019-08-04 00:00:00+03:00    4\n",
       "2019-08-10 00:00:00+03:00    7\n",
       "2019-08-02 00:00:00+03:00    8\n",
       "2019-08-03 00:00:00+03:00    9\n",
       "Name: date, dtype: int64"
      ]
     },
     "execution_count": 27,
     "metadata": {},
     "output_type": "execute_result"
    }
   ],
   "source": [
    "# the least calls are at the beginning of the time period in the dataset\n",
    "calls.date.value_counts().nsmallest()"
   ]
  },
  {
   "cell_type": "code",
   "execution_count": 26,
   "metadata": {},
   "outputs": [
    {
     "data": {
      "text/plain": [
       "2019-11-25 00:00:00+03:00    1220\n",
       "2019-11-28 00:00:00+03:00    1198\n",
       "2019-11-21 00:00:00+03:00    1186\n",
       "2019-11-27 00:00:00+03:00    1180\n",
       "2019-11-22 00:00:00+03:00    1176\n",
       "Name: date, dtype: int64"
      ]
     },
     "execution_count": 26,
     "metadata": {},
     "output_type": "execute_result"
    }
   ],
   "source": [
    "#the most calls are at the tail end of the time period in the dataset, which overlaps Thanksgiving holiday weekend\n",
    "calls.date.value_counts().nlargest()"
   ]
  },
  {
   "cell_type": "code",
   "execution_count": 15,
   "metadata": {},
   "outputs": [],
   "source": [
    "import sys\n",
    "import warnings\n",
    "if not sys.warnoptions:\n",
    "    warnings.simplefilter('ignore')"
   ]
  },
  {
   "cell_type": "code",
   "execution_count": 16,
   "metadata": {},
   "outputs": [
    {
     "data": {
      "image/png": "[encoded data removed]",
      "text/plain": [
       "<Figure size 432x288 with 1 Axes>"
      ]
     },
     "metadata": {
      "needs_background": "light"
     },
     "output_type": "display_data"
    },
    {
     "name": "stdout",
     "output_type": "stream",
     "text": [
      "\u001b[38;5;39m\u001b[1mThis distribution presents\u001b[31;1m red \u001b[38;5;39mflags!\u001b[0m\n"
     ]
    }
   ],
   "source": [
    "#glance at the distribution over the entire time\n",
    "ax=calls.date.hist(bins=100)\n",
    "ax.xaxis.set_major_locator(MonthLocator())\n",
    "ax.xaxis.set_major_formatter(DateFormatter('%b'))\n",
    "ax.set_ylabel('amount of records')\n",
    "ax.set_title('Distribution of records by date')\n",
    "plt.show();\n",
    "print(style.SBLUE+style.BOLD+\"This distribution presents\"+style.BRED+\" red \"+ style.SBLUE+ \"flags!\"+style.END)"
   ]
  },
  {
   "cell_type": "code",
   "execution_count": 22,
   "metadata": {},
   "outputs": [
    {
     "data": {
      "image/png": "[encoded data removed]",
      "text/plain": [
       "<Figure size 864x288 with 1 Axes>"
      ]
     },
     "metadata": {
      "needs_background": "light"
     },
     "output_type": "display_data"
    }
   ],
   "source": [
    "#a closer look at call by date\n",
    "callsperdate=calls.groupby('date')['user_id'].count()\n",
    "fig, ax = plt.subplots(figsize=(12, 4))\n",
    "callsperdate.plot(ax=ax)\n",
    "ax.set_xlabel('dates')\n",
    "ax.set_title('calls by date')\n",
    "ax.set_xticks(['2019-08-02','2019-08-15','2019-08-30','2019-09-15','2019-09-30','2019-10-15','2019-10-30','2019-11-15','2019-11-30'])\n",
    "ax.set_xticklabels(['2019-08-02','2019-08-15','2019-08-30','2019-09-15','2019-09-30','2019-10-15','2019-10-30','2019-11-15','2019-11-30']);"
   ]
  },
  {
   "cell_type": "code",
   "execution_count": 139,
   "metadata": {},
   "outputs": [],
   "source": [
    "#df for all non-missed calls with date + operator\n",
    "datedf=calls[calls.is_missed_call==False].drop(\n",
    "    ['user_id','direction','internal','is_missed_call','calls_count','call_duration','total_call_duration'],axis=1).reset_index(drop=True)"
   ]
  },
  {
   "cell_type": "code",
   "execution_count": 50,
   "metadata": {},
   "outputs": [
    {
     "name": "stdout",
     "output_type": "stream",
     "text": [
      "<class 'pandas.core.frame.DataFrame'>\n",
      "RangeIndex: 27436 entries, 0 to 27435\n",
      "Data columns (total 2 columns):\n",
      "date           27436 non-null datetime64[ns]\n",
      "operator_id    27436 non-null float64\n",
      "dtypes: datetime64[ns](1), float64(1)\n",
      "memory usage: 428.8 KB\n"
     ]
    }
   ],
   "source": [
    "datedf.info()"
   ]
  },
  {
   "cell_type": "markdown",
   "metadata": {},
   "source": [
    "### <font color=#F87217>Calls per date Interim Questions Raised</font>\n",
    "<p style=\"font-size:17px\"> \n",
    "This roller coaster distribution by date begs the following questions:<br>\n",
    "<br>\n",
    "Are the effective operators the ones that conduct calls on those scant days?<br>\n",
    "Is it always the same operators that handle the low volume days?<br>\n",
    "Which category of operators handles the down days? Does that differ from the category handling the nearby high volume days?<br>\n",
    "<br>\n",
    "After segmentation of operators, the above questions and more will be analyzed."
   ]
  },
  {
   "cell_type": "markdown",
   "metadata": {},
   "source": [
    "### <font color='skyblue'>A brief foray into the Clients table</font>"
   ]
  },
  {
   "cell_type": "code",
   "execution_count": 17,
   "metadata": {},
   "outputs": [
    {
     "data": {
      "text/plain": [
       "290"
      ]
     },
     "execution_count": 17,
     "metadata": {},
     "output_type": "execute_result"
    }
   ],
   "source": [
    "uniqueclients= clients.user_id.unique()\n",
    "uniquecallers=calls.user_id.unique()\n",
    "len(uniqueclients)#732\n",
    "len(uniquecallers)#307withnulloperators,290without"
   ]
  },
  {
   "cell_type": "code",
   "execution_count": 64,
   "metadata": {},
   "outputs": [
    {
     "data": {
      "text/plain": [
       "0.39617486338797814"
      ]
     },
     "execution_count": 64,
     "metadata": {},
     "output_type": "execute_result"
    }
   ],
   "source": [
    "len(uniquecallers)/len(uniqueclients)"
   ]
  },
  {
   "cell_type": "code",
   "execution_count": 18,
   "metadata": {},
   "outputs": [
    {
     "data": {
      "text/plain": [
       "442"
      ]
     },
     "execution_count": 18,
     "metadata": {},
     "output_type": "execute_result"
    }
   ],
   "source": [
    "clientsnotincallersagain=set(uniqueclients).symmetric_difference(set(uniquecallers))\n",
    "len(clientsnotincallersagain)#425withnulloperators, 442without"
   ]
  },
  {
   "cell_type": "code",
   "execution_count": 62,
   "metadata": {},
   "outputs": [
    {
     "data": {
      "text/plain": [
       "C    395\n",
       "B    261\n",
       "A     76\n",
       "Name: tariff_plan, dtype: int64"
      ]
     },
     "execution_count": 62,
     "metadata": {},
     "output_type": "execute_result"
    }
   ],
   "source": [
    "clients.tariff_plan.value_counts()"
   ]
  },
  {
   "cell_type": "markdown",
   "metadata": {},
   "source": [
    "### <font color='skyblue'>View to the Clients</font>\n",
    "<p style=\"font-size:17px\"> While it would ordinarily make sense to split the users by tariff plan and assess the difference in efficiency metrics segmented by tariff, in this case it does not, simply because we learned at the outset of this inquiry that the three tariff plans result in no difference to the bottom line.\n",
    "<br><br>\n",
    "So the primary data left to explore in the clients table concerns users. I compared the user list in the clients table with the user list in the calls table and discovered that 40 per cent of the unique users in the clients table are actively making calls.\n",
    "<br>\n",
    "Prior to removing null operators there were 17 more clients in the calls table. Now a full 442 of the clients are not yet making calls.\n",
    "<br><br>\n",
    "If this were an analysis of users, it would make sense to explore why certain users are making calls and others are not and to explore whether tariff or start date impacts their participation rate. However, this is analysis of operators, so that line of inquiry is not relevant."
   ]
  },
  {
   "cell_type": "markdown",
   "metadata": {},
   "source": [
    "<font color='#15317E'><h3>Closer Look at Parameters Effecting Operator Performance</h3>"
   ]
  },
  {
   "cell_type": "markdown",
   "metadata": {},
   "source": [
    "<p style=\"font-size:17px\">Beyond the unusual performance of operators by date, there are the criteria by which their performance must be measured. This section will look at the parameters measured in the dataset to understand operator performance overall to get a better sense of the range of performance from excellent to abysmal. "
   ]
  },
  {
   "cell_type": "markdown",
   "metadata": {},
   "source": [
    "<font color='orange'><p style=\"font-size:17px\"><b> Wait Time</b></font>"
   ]
  },
  {
   "cell_type": "code",
   "execution_count": 140,
   "metadata": {},
   "outputs": [
    {
     "data": {
      "text/html": [
       "<div>\n",
       "<style scoped>\n",
       "    .dataframe tbody tr th:only-of-type {\n",
       "        vertical-align: middle;\n",
       "    }\n",
       "\n",
       "    .dataframe tbody tr th {\n",
       "        vertical-align: top;\n",
       "    }\n",
       "\n",
       "    .dataframe thead th {\n",
       "        text-align: right;\n",
       "    }\n",
       "</style>\n",
       "<table border=\"1\" class=\"dataframe\">\n",
       "  <thead>\n",
       "    <tr style=\"text-align: right;\">\n",
       "      <th></th>\n",
       "      <th>wait</th>\n",
       "    </tr>\n",
       "  </thead>\n",
       "  <tbody>\n",
       "    <tr>\n",
       "      <td>0</td>\n",
       "      <td>5</td>\n",
       "    </tr>\n",
       "    <tr>\n",
       "      <td>1</td>\n",
       "      <td>1</td>\n",
       "    </tr>\n",
       "  </tbody>\n",
       "</table>\n",
       "</div>"
      ],
      "text/plain": [
       "   wait\n",
       "0     5\n",
       "1     1"
      ]
     },
     "execution_count": 140,
     "metadata": {},
     "output_type": "execute_result"
    }
   ],
   "source": [
    "calldifference=(calls.total_call_duration-calls.call_duration).to_list()\n",
    "wait = pd.DataFrame(calldifference)\n",
    "wait.columns = ['wait']\n",
    "wait.head(2)"
   ]
  },
  {
   "cell_type": "code",
   "execution_count": 16,
   "metadata": {},
   "outputs": [
    {
     "data": {
      "image/png": "[encoded data removed]",
      "text/plain": [
       "<Figure size 432x288 with 1 Axes>"
      ]
     },
     "metadata": {
      "needs_background": "light"
     },
     "output_type": "display_data"
    }
   ],
   "source": [
    "wait.hist(color='orange',log=True,ec='navajowhite')\n",
    "plt.title('Wait time logscale distribution in seconds');"
   ]
  },
  {
   "cell_type": "code",
   "execution_count": 13,
   "metadata": {},
   "outputs": [
    {
     "name": "stdout",
     "output_type": "stream",
     "text": [
      "<class 'pandas.core.frame.DataFrame'>\n",
      "RangeIndex: 41491 entries, 0 to 41490\n",
      "Data columns (total 1 columns):\n",
      "wait    41491 non-null int64\n",
      "dtypes: int64(1)\n",
      "memory usage: 324.3 KB\n"
     ]
    }
   ],
   "source": [
    "wait.info()"
   ]
  },
  {
   "cell_type": "code",
   "execution_count": 72,
   "metadata": {},
   "outputs": [
    {
     "data": {
      "text/html": [
       "<div>\n",
       "<style scoped>\n",
       "    .dataframe tbody tr th:only-of-type {\n",
       "        vertical-align: middle;\n",
       "    }\n",
       "\n",
       "    .dataframe tbody tr th {\n",
       "        vertical-align: top;\n",
       "    }\n",
       "\n",
       "    .dataframe thead th {\n",
       "        text-align: right;\n",
       "    }\n",
       "</style>\n",
       "<table border=\"1\" class=\"dataframe\">\n",
       "  <thead>\n",
       "    <tr style=\"text-align: right;\">\n",
       "      <th></th>\n",
       "      <th>user_id</th>\n",
       "      <th>date</th>\n",
       "      <th>direction</th>\n",
       "      <th>internal</th>\n",
       "      <th>operator_id</th>\n",
       "      <th>is_missed_call</th>\n",
       "      <th>calls_count</th>\n",
       "      <th>call_duration</th>\n",
       "      <th>total_call_duration</th>\n",
       "    </tr>\n",
       "  </thead>\n",
       "  <tbody>\n",
       "    <tr>\n",
       "      <td>16883</td>\n",
       "      <td>167059</td>\n",
       "      <td>2019-09-16</td>\n",
       "      <td>in</td>\n",
       "      <td>False</td>\n",
       "      <td>911142.0</td>\n",
       "      <td>True</td>\n",
       "      <td>1</td>\n",
       "      <td>0</td>\n",
       "      <td>41</td>\n",
       "    </tr>\n",
       "  </tbody>\n",
       "</table>\n",
       "</div>"
      ],
      "text/plain": [
       "       user_id       date direction  internal  operator_id  is_missed_call  \\\n",
       "16883   167059 2019-09-16        in     False     911142.0            True   \n",
       "\n",
       "       calls_count  call_duration  total_call_duration  \n",
       "16883            1              0                   41  "
      ]
     },
     "execution_count": 72,
     "metadata": {},
     "output_type": "execute_result"
    }
   ],
   "source": [
    "calls.sample()"
   ]
  },
  {
   "cell_type": "code",
   "execution_count": 141,
   "metadata": {},
   "outputs": [],
   "source": [
    "calls=pd.merge(calls,wait,left_index=True,right_index=True)"
   ]
  },
  {
   "cell_type": "code",
   "execution_count": 102,
   "metadata": {},
   "outputs": [
    {
     "data": {
      "text/html": [
       "<div>\n",
       "<style scoped>\n",
       "    .dataframe tbody tr th:only-of-type {\n",
       "        vertical-align: middle;\n",
       "    }\n",
       "\n",
       "    .dataframe tbody tr th {\n",
       "        vertical-align: top;\n",
       "    }\n",
       "\n",
       "    .dataframe thead th {\n",
       "        text-align: right;\n",
       "    }\n",
       "</style>\n",
       "<table border=\"1\" class=\"dataframe\">\n",
       "  <thead>\n",
       "    <tr style=\"text-align: right;\">\n",
       "      <th></th>\n",
       "      <th>user_id</th>\n",
       "      <th>date</th>\n",
       "      <th>direction</th>\n",
       "      <th>internal</th>\n",
       "      <th>operator_id</th>\n",
       "      <th>is_missed_call</th>\n",
       "      <th>calls_count</th>\n",
       "      <th>call_duration</th>\n",
       "      <th>total_call_duration</th>\n",
       "      <th>wait</th>\n",
       "    </tr>\n",
       "  </thead>\n",
       "  <tbody>\n",
       "    <tr>\n",
       "      <td>0</td>\n",
       "      <td>166377</td>\n",
       "      <td>2019-08-05</td>\n",
       "      <td>out</td>\n",
       "      <td>True</td>\n",
       "      <td>880022.0</td>\n",
       "      <td>True</td>\n",
       "      <td>3</td>\n",
       "      <td>0</td>\n",
       "      <td>5</td>\n",
       "      <td>5</td>\n",
       "    </tr>\n",
       "    <tr>\n",
       "      <td>1</td>\n",
       "      <td>166377</td>\n",
       "      <td>2019-08-05</td>\n",
       "      <td>out</td>\n",
       "      <td>True</td>\n",
       "      <td>880020.0</td>\n",
       "      <td>True</td>\n",
       "      <td>1</td>\n",
       "      <td>0</td>\n",
       "      <td>1</td>\n",
       "      <td>1</td>\n",
       "    </tr>\n",
       "    <tr>\n",
       "      <td>2</td>\n",
       "      <td>166377</td>\n",
       "      <td>2019-08-05</td>\n",
       "      <td>out</td>\n",
       "      <td>True</td>\n",
       "      <td>880020.0</td>\n",
       "      <td>False</td>\n",
       "      <td>1</td>\n",
       "      <td>10</td>\n",
       "      <td>18</td>\n",
       "      <td>8</td>\n",
       "    </tr>\n",
       "  </tbody>\n",
       "</table>\n",
       "</div>"
      ],
      "text/plain": [
       "   user_id       date direction  internal  operator_id  is_missed_call  \\\n",
       "0   166377 2019-08-05       out      True     880022.0            True   \n",
       "1   166377 2019-08-05       out      True     880020.0            True   \n",
       "2   166377 2019-08-05       out      True     880020.0           False   \n",
       "\n",
       "   calls_count  call_duration  total_call_duration  wait  \n",
       "0            3              0                    5     5  \n",
       "1            1              0                    1     1  \n",
       "2            1             10                   18     8  "
      ]
     },
     "execution_count": 102,
     "metadata": {},
     "output_type": "execute_result"
    }
   ],
   "source": [
    "calls.head(3)"
   ]
  },
  {
   "cell_type": "code",
   "execution_count": 176,
   "metadata": {},
   "outputs": [
    {
     "data": {
      "text/plain": [
       "count    41546.000000\n",
       "mean       311.823641\n",
       "std       1175.373073\n",
       "min          0.000000\n",
       "25%         19.000000\n",
       "50%         60.000000\n",
       "75%        219.000000\n",
       "max      46474.000000\n",
       "Name: wait, dtype: float64"
      ]
     },
     "execution_count": 176,
     "metadata": {},
     "output_type": "execute_result"
    }
   ],
   "source": [
    "calls.wait.describe()"
   ]
  },
  {
   "cell_type": "code",
   "execution_count": 19,
   "metadata": {},
   "outputs": [
    {
     "data": {
      "image/png": "[encoded data removed]",
      "text/plain": [
       "<Figure size 432x288 with 1 Axes>"
      ]
     },
     "metadata": {
      "needs_background": "light"
     },
     "output_type": "display_data"
    }
   ],
   "source": [
    "y1=calls.wait\n",
    "y2=calls.call_duration\n",
    "colors = ['orange','deepskyblue']\n",
    "fig,ax1=plt.subplots()\n",
    "ax1.hist([y1,y2],color=colors,log=True,bins=7)\n",
    "ax1.set_ylabel('logscale density')\n",
    "ax1.set_xlabel('seconds')\n",
    "ax1.set_title('Distribution of wait & call duration by seconds')\n",
    "ax1.legend(['wait','call duration']);"
   ]
  },
  {
   "cell_type": "code",
   "execution_count": 84,
   "metadata": {},
   "outputs": [
    {
     "data": {
      "text/html": [
       "<div>\n",
       "<style scoped>\n",
       "    .dataframe tbody tr th:only-of-type {\n",
       "        vertical-align: middle;\n",
       "    }\n",
       "\n",
       "    .dataframe tbody tr th {\n",
       "        vertical-align: top;\n",
       "    }\n",
       "\n",
       "    .dataframe thead th {\n",
       "        text-align: right;\n",
       "    }\n",
       "</style>\n",
       "<table border=\"1\" class=\"dataframe\">\n",
       "  <thead>\n",
       "    <tr style=\"text-align: right;\">\n",
       "      <th></th>\n",
       "      <th>wait</th>\n",
       "    </tr>\n",
       "  </thead>\n",
       "  <tbody>\n",
       "    <tr>\n",
       "      <td>count</td>\n",
       "      <td>10365.000000</td>\n",
       "    </tr>\n",
       "    <tr>\n",
       "      <td>mean</td>\n",
       "      <td>1084.273034</td>\n",
       "    </tr>\n",
       "    <tr>\n",
       "      <td>std</td>\n",
       "      <td>2175.721815</td>\n",
       "    </tr>\n",
       "    <tr>\n",
       "      <td>min</td>\n",
       "      <td>220.000000</td>\n",
       "    </tr>\n",
       "    <tr>\n",
       "      <td>25%</td>\n",
       "      <td>322.000000</td>\n",
       "    </tr>\n",
       "    <tr>\n",
       "      <td>50%</td>\n",
       "      <td>526.000000</td>\n",
       "    </tr>\n",
       "    <tr>\n",
       "      <td>75%</td>\n",
       "      <td>1035.000000</td>\n",
       "    </tr>\n",
       "    <tr>\n",
       "      <td>max</td>\n",
       "      <td>46474.000000</td>\n",
       "    </tr>\n",
       "  </tbody>\n",
       "</table>\n",
       "</div>"
      ],
      "text/plain": [
       "               wait\n",
       "count  10365.000000\n",
       "mean    1084.273034\n",
       "std     2175.721815\n",
       "min      220.000000\n",
       "25%      322.000000\n",
       "50%      526.000000\n",
       "75%     1035.000000\n",
       "max    46474.000000"
      ]
     },
     "execution_count": 84,
     "metadata": {},
     "output_type": "execute_result"
    }
   ],
   "source": [
    "#examining the top quarter wait time\n",
    "topquartwait=wait[wait.wait>219]\n",
    "topquartwait.describe()"
   ]
  },
  {
   "cell_type": "code",
   "execution_count": 101,
   "metadata": {},
   "outputs": [
    {
     "data": {
      "text/html": [
       "<div>\n",
       "<style scoped>\n",
       "    .dataframe tbody tr th:only-of-type {\n",
       "        vertical-align: middle;\n",
       "    }\n",
       "\n",
       "    .dataframe tbody tr th {\n",
       "        vertical-align: top;\n",
       "    }\n",
       "\n",
       "    .dataframe thead th {\n",
       "        text-align: right;\n",
       "    }\n",
       "</style>\n",
       "<table border=\"1\" class=\"dataframe\">\n",
       "  <thead>\n",
       "    <tr style=\"text-align: right;\">\n",
       "      <th></th>\n",
       "      <th>wait</th>\n",
       "    </tr>\n",
       "  </thead>\n",
       "  <tbody>\n",
       "    <tr>\n",
       "      <td>count</td>\n",
       "      <td>7975.000000</td>\n",
       "    </tr>\n",
       "    <tr>\n",
       "      <td>mean</td>\n",
       "      <td>1330.720376</td>\n",
       "    </tr>\n",
       "    <tr>\n",
       "      <td>std</td>\n",
       "      <td>2426.714045</td>\n",
       "    </tr>\n",
       "    <tr>\n",
       "      <td>min</td>\n",
       "      <td>312.000000</td>\n",
       "    </tr>\n",
       "    <tr>\n",
       "      <td>25%</td>\n",
       "      <td>443.000000</td>\n",
       "    </tr>\n",
       "    <tr>\n",
       "      <td>50%</td>\n",
       "      <td>688.000000</td>\n",
       "    </tr>\n",
       "    <tr>\n",
       "      <td>75%</td>\n",
       "      <td>1264.000000</td>\n",
       "    </tr>\n",
       "    <tr>\n",
       "      <td>max</td>\n",
       "      <td>46474.000000</td>\n",
       "    </tr>\n",
       "  </tbody>\n",
       "</table>\n",
       "</div>"
      ],
      "text/plain": [
       "               wait\n",
       "count   7975.000000\n",
       "mean    1330.720376\n",
       "std     2426.714045\n",
       "min      312.000000\n",
       "25%      443.000000\n",
       "50%      688.000000\n",
       "75%     1264.000000\n",
       "max    46474.000000"
      ]
     },
     "execution_count": 101,
     "metadata": {},
     "output_type": "execute_result"
    }
   ],
   "source": [
    "wait[wait>wait.mean()].describe()"
   ]
  },
  {
   "cell_type": "code",
   "execution_count": 62,
   "metadata": {},
   "outputs": [
    {
     "data": {
      "text/html": [
       "<div>\n",
       "<style scoped>\n",
       "    .dataframe tbody tr th:only-of-type {\n",
       "        vertical-align: middle;\n",
       "    }\n",
       "\n",
       "    .dataframe tbody tr th {\n",
       "        vertical-align: top;\n",
       "    }\n",
       "\n",
       "    .dataframe thead th {\n",
       "        text-align: right;\n",
       "    }\n",
       "</style>\n",
       "<table border=\"1\" class=\"dataframe\">\n",
       "  <thead>\n",
       "    <tr style=\"text-align: right;\">\n",
       "      <th></th>\n",
       "      <th>wait</th>\n",
       "    </tr>\n",
       "  </thead>\n",
       "  <tbody>\n",
       "    <tr>\n",
       "      <td>count</td>\n",
       "      <td>2591.000000</td>\n",
       "    </tr>\n",
       "    <tr>\n",
       "      <td>mean</td>\n",
       "      <td>2930.829024</td>\n",
       "    </tr>\n",
       "    <tr>\n",
       "      <td>std</td>\n",
       "      <td>3775.711571</td>\n",
       "    </tr>\n",
       "    <tr>\n",
       "      <td>min</td>\n",
       "      <td>1036.000000</td>\n",
       "    </tr>\n",
       "    <tr>\n",
       "      <td>25%</td>\n",
       "      <td>1286.000000</td>\n",
       "    </tr>\n",
       "    <tr>\n",
       "      <td>50%</td>\n",
       "      <td>1672.000000</td>\n",
       "    </tr>\n",
       "    <tr>\n",
       "      <td>75%</td>\n",
       "      <td>2445.500000</td>\n",
       "    </tr>\n",
       "    <tr>\n",
       "      <td>max</td>\n",
       "      <td>46474.000000</td>\n",
       "    </tr>\n",
       "  </tbody>\n",
       "</table>\n",
       "</div>"
      ],
      "text/plain": [
       "               wait\n",
       "count   2591.000000\n",
       "mean    2930.829024\n",
       "std     3775.711571\n",
       "min     1036.000000\n",
       "25%     1286.000000\n",
       "50%     1672.000000\n",
       "75%     2445.500000\n",
       "max    46474.000000"
      ]
     },
     "execution_count": 62,
     "metadata": {},
     "output_type": "execute_result"
    }
   ],
   "source": [
    "#examining wait time for the top 1/16th (min 17 minutes)\n",
    "topquartwait[topquartwait.wait>1035].describe()"
   ]
  },
  {
   "cell_type": "code",
   "execution_count": 71,
   "metadata": {},
   "outputs": [
    {
     "data": {
      "text/html": [
       "<div>\n",
       "<style scoped>\n",
       "    .dataframe tbody tr th:only-of-type {\n",
       "        vertical-align: middle;\n",
       "    }\n",
       "\n",
       "    .dataframe tbody tr th {\n",
       "        vertical-align: top;\n",
       "    }\n",
       "\n",
       "    .dataframe thead th {\n",
       "        text-align: right;\n",
       "    }\n",
       "</style>\n",
       "<table border=\"1\" class=\"dataframe\">\n",
       "  <thead>\n",
       "    <tr style=\"text-align: right;\">\n",
       "      <th></th>\n",
       "      <th>wait</th>\n",
       "    </tr>\n",
       "  </thead>\n",
       "  <tbody>\n",
       "    <tr>\n",
       "      <td>count</td>\n",
       "      <td>648.000000</td>\n",
       "    </tr>\n",
       "    <tr>\n",
       "      <td>mean</td>\n",
       "      <td>7101.483025</td>\n",
       "    </tr>\n",
       "    <tr>\n",
       "      <td>std</td>\n",
       "      <td>5780.517416</td>\n",
       "    </tr>\n",
       "    <tr>\n",
       "      <td>min</td>\n",
       "      <td>2446.000000</td>\n",
       "    </tr>\n",
       "    <tr>\n",
       "      <td>25%</td>\n",
       "      <td>3054.500000</td>\n",
       "    </tr>\n",
       "    <tr>\n",
       "      <td>50%</td>\n",
       "      <td>4457.000000</td>\n",
       "    </tr>\n",
       "    <tr>\n",
       "      <td>75%</td>\n",
       "      <td>9983.750000</td>\n",
       "    </tr>\n",
       "    <tr>\n",
       "      <td>max</td>\n",
       "      <td>46474.000000</td>\n",
       "    </tr>\n",
       "  </tbody>\n",
       "</table>\n",
       "</div>"
      ],
      "text/plain": [
       "               wait\n",
       "count    648.000000\n",
       "mean    7101.483025\n",
       "std     5780.517416\n",
       "min     2446.000000\n",
       "25%     3054.500000\n",
       "50%     4457.000000\n",
       "75%     9983.750000\n",
       "max    46474.000000"
      ]
     },
     "execution_count": 71,
     "metadata": {},
     "output_type": "execute_result"
    }
   ],
   "source": [
    "#examining the wait time for the top nearly 2%\n",
    "topquartwait[topquartwait.wait>2445].describe()"
   ]
  },
  {
   "cell_type": "code",
   "execution_count": 64,
   "metadata": {},
   "outputs": [
    {
     "data": {
      "text/html": [
       "<div>\n",
       "<style scoped>\n",
       "    .dataframe tbody tr th:only-of-type {\n",
       "        vertical-align: middle;\n",
       "    }\n",
       "\n",
       "    .dataframe tbody tr th {\n",
       "        vertical-align: top;\n",
       "    }\n",
       "\n",
       "    .dataframe thead th {\n",
       "        text-align: right;\n",
       "    }\n",
       "</style>\n",
       "<table border=\"1\" class=\"dataframe\">\n",
       "  <thead>\n",
       "    <tr style=\"text-align: right;\">\n",
       "      <th></th>\n",
       "      <th>wait</th>\n",
       "    </tr>\n",
       "  </thead>\n",
       "  <tbody>\n",
       "    <tr>\n",
       "      <td>count</td>\n",
       "      <td>162.000000</td>\n",
       "    </tr>\n",
       "    <tr>\n",
       "      <td>mean</td>\n",
       "      <td>15226.160494</td>\n",
       "    </tr>\n",
       "    <tr>\n",
       "      <td>std</td>\n",
       "      <td>5738.752413</td>\n",
       "    </tr>\n",
       "    <tr>\n",
       "      <td>min</td>\n",
       "      <td>10109.000000</td>\n",
       "    </tr>\n",
       "    <tr>\n",
       "      <td>25%</td>\n",
       "      <td>11639.750000</td>\n",
       "    </tr>\n",
       "    <tr>\n",
       "      <td>50%</td>\n",
       "      <td>13390.500000</td>\n",
       "    </tr>\n",
       "    <tr>\n",
       "      <td>75%</td>\n",
       "      <td>16930.500000</td>\n",
       "    </tr>\n",
       "    <tr>\n",
       "      <td>max</td>\n",
       "      <td>46474.000000</td>\n",
       "    </tr>\n",
       "  </tbody>\n",
       "</table>\n",
       "</div>"
      ],
      "text/plain": [
       "               wait\n",
       "count    162.000000\n",
       "mean   15226.160494\n",
       "std     5738.752413\n",
       "min    10109.000000\n",
       "25%    11639.750000\n",
       "50%    13390.500000\n",
       "75%    16930.500000\n",
       "max    46474.000000"
      ]
     },
     "execution_count": 64,
     "metadata": {},
     "output_type": "execute_result"
    }
   ],
   "source": [
    "#the top several outlier wait times\n",
    "topquartwait[topquartwait.wait>9983].describe()"
   ]
  },
  {
   "cell_type": "markdown",
   "metadata": {},
   "source": [
    "<font color='orange'><p style=\"font-size:17px\"><b> Wait Precis</b></font><br>\n",
    "How long do callers wait before they hang up?<br>\n",
    "\"You often only get one shot at connecting with an inbound caller,\" according to Voice Response, Inc., which reports that \"about 34% of callers who hang up won’t call back, ever.\" In a survey of corporate customers conducted by Talkdesk, 15% to a quarter of callers abandoned the call after waiting awhile.<br>\n",
    "According to Talkroute, 15 seconds allows time for a call to connect. That means that the first quartile, up to 19 seconds, is within the realm of connection speed, namely excellent service. The median wait time of 60 seconds, is four-times as long as it takes to connect. That already feels like a wait, so not encouraging for callers. The 75% percentile falls at a 3.5 minute wait. Since wait time presents a right-skewed distribution with a mean more than five times as long as the median, the mean even exceeds the 75% mark. It is more than a more than 5 minute long wait.<br>\n",
    "If we were examining anything besides operator efficiency, it would make sense to drop the nearly 2600 records (the 16th of records with the longest wait) waiting longer than 17 minutes, which, in general, isn't a very plausible wait time and surely the 75% quartile of that top 16th of records that waits about 41 minutes or longer, is an aberration. These records need to be kept in this case, because they form part of the spread on this measure of inefficiency."
   ]
  },
  {
   "cell_type": "markdown",
   "metadata": {},
   "source": [
    "<font color='crimson'><p style=\"font-size:17px\"><b> Missed Calls</b></font>\n",
    "<br>\n",
    "What is the cost of a missed call?<br><br>\n",
    "Research in 2019 from British Telecom estimated that one missed prospect call costs a business \\\\$1633 over a customer lifetime and that UK small businesses could be missing out on $123million dollars worth of business from missed calls.<br><br>\n",
    "Depending on the market, missed calls be a significant revenue loss or boon. This section will further understand the missed call records in this dataset."
   ]
  },
  {
   "cell_type": "code",
   "execution_count": 21,
   "metadata": {},
   "outputs": [
    {
     "data": {
      "text/plain": [
       "14110"
      ]
     },
     "execution_count": 21,
     "metadata": {},
     "output_type": "execute_result"
    }
   ],
   "source": [
    "missedcalls=calls.loc[calls.is_missed_call==True]\n",
    "missedcalls.shape[0]"
   ]
  },
  {
   "cell_type": "code",
   "execution_count": 22,
   "metadata": {},
   "outputs": [],
   "source": [
    "missedcalls.head()\n",
    "datemissed=missedcalls.drop(['user_id','direction','internal','is_missed_call','calls_count','call_duration','total_call_duration','wait'],axis=1).reset_index(drop=True)"
   ]
  },
  {
   "cell_type": "code",
   "execution_count": 39,
   "metadata": {},
   "outputs": [
    {
     "data": {
      "text/plain": [
       "0.3396235498002214"
      ]
     },
     "execution_count": 39,
     "metadata": {},
     "output_type": "execute_result"
    }
   ],
   "source": [
    "missedcalls.shape[0]/calls.is_missed_call.shape[0]"
   ]
  },
  {
   "cell_type": "code",
   "execution_count": 18,
   "metadata": {},
   "outputs": [
    {
     "data": {
      "text/plain": [
       "13814"
      ]
     },
     "execution_count": 18,
     "metadata": {},
     "output_type": "execute_result"
    }
   ],
   "source": [
    "missed0=missedcalls.loc[missedcalls.call_duration==0]\n",
    "missed0.shape[0]"
   ]
  },
  {
   "cell_type": "code",
   "execution_count": 19,
   "metadata": {},
   "outputs": [
    {
     "data": {
      "text/plain": [
       "0.9790219702338767"
      ]
     },
     "execution_count": 19,
     "metadata": {},
     "output_type": "execute_result"
    }
   ],
   "source": [
    "missed0.shape[0]/missedcalls.shape[0]"
   ]
  },
  {
   "cell_type": "code",
   "execution_count": 137,
   "metadata": {},
   "outputs": [
    {
     "data": {
      "text/plain": [
       "key_0                  296\n",
       "user_id                296\n",
       "date                   296\n",
       "direction              296\n",
       "internal               296\n",
       "operator_id            296\n",
       "is_missed_call         296\n",
       "calls_count            296\n",
       "call_duration          296\n",
       "total_call_duration    296\n",
       "wait                   296\n",
       "dtype: int64"
      ]
     },
     "execution_count": 137,
     "metadata": {},
     "output_type": "execute_result"
    }
   ],
   "source": [
    "missedcalls.count()-missed0.count()"
   ]
  },
  {
   "cell_type": "code",
   "execution_count": 138,
   "metadata": {},
   "outputs": [
    {
     "data": {
      "text/plain": [
       "104"
      ]
     },
     "execution_count": 138,
     "metadata": {},
     "output_type": "execute_result"
    }
   ],
   "source": [
    "missedcalls.loc[missedcalls.call_duration==1].shape[0]"
   ]
  },
  {
   "cell_type": "code",
   "execution_count": 21,
   "metadata": {},
   "outputs": [
    {
     "data": {
      "text/plain": [
       "0.9920287253141831"
      ]
     },
     "execution_count": 21,
     "metadata": {},
     "output_type": "execute_result"
    }
   ],
   "source": [
    "missed0.shape[0]/missedcalls.loc[missedcalls.call_duration<3].shape[0]"
   ]
  },
  {
   "cell_type": "code",
   "execution_count": 139,
   "metadata": {},
   "outputs": [
    {
     "name": "stdout",
     "output_type": "stream",
     "text": [
      "31056\n"
     ]
    },
    {
     "data": {
      "text/plain": [
       "10198"
      ]
     },
     "execution_count": 139,
     "metadata": {},
     "output_type": "execute_result"
    }
   ],
   "source": [
    "morethan1=calls.loc[calls.calls_count>1]\n",
    "print(morethan1.shape[0])\n",
    "morethan1.loc[morethan1.is_missed_call==True].shape[0]"
   ]
  },
  {
   "cell_type": "code",
   "execution_count": 25,
   "metadata": {},
   "outputs": [
    {
     "name": "stdout",
     "output_type": "stream",
     "text": [
      "<class 'pandas.core.frame.DataFrame'>\n",
      "Int64Index: 14110 entries, 0 to 41543\n",
      "Data columns (total 11 columns):\n",
      "index                  14110 non-null int64\n",
      "user_id                14110 non-null int64\n",
      "date                   14110 non-null datetime64[ns]\n",
      "direction              14110 non-null object\n",
      "internal               14110 non-null bool\n",
      "operator_id            14110 non-null float64\n",
      "is_missed_call         14110 non-null bool\n",
      "calls_count            14110 non-null int64\n",
      "call_duration          14110 non-null int64\n",
      "total_call_duration    14110 non-null int64\n",
      "wait                   14110 non-null int64\n",
      "dtypes: bool(2), datetime64[ns](1), float64(1), int64(6), object(1)\n",
      "memory usage: 1.1+ MB\n"
     ]
    }
   ],
   "source": [
    "missedcalls.info()"
   ]
  },
  {
   "cell_type": "code",
   "execution_count": 23,
   "metadata": {},
   "outputs": [],
   "source": [
    "missedcallslast=missedcalls.loc[missedcalls.call_duration>5]"
   ]
  },
  {
   "cell_type": "code",
   "execution_count": 34,
   "metadata": {},
   "outputs": [
    {
     "data": {
      "text/html": [
       "<div>\n",
       "<style scoped>\n",
       "    .dataframe tbody tr th:only-of-type {\n",
       "        vertical-align: middle;\n",
       "    }\n",
       "\n",
       "    .dataframe tbody tr th {\n",
       "        vertical-align: top;\n",
       "    }\n",
       "\n",
       "    .dataframe thead th {\n",
       "        text-align: right;\n",
       "    }\n",
       "</style>\n",
       "<table border=\"1\" class=\"dataframe\">\n",
       "  <thead>\n",
       "    <tr style=\"text-align: right;\">\n",
       "      <th></th>\n",
       "      <th>index</th>\n",
       "      <th>user_id</th>\n",
       "      <th>operator_id</th>\n",
       "      <th>calls_count</th>\n",
       "      <th>call_duration</th>\n",
       "      <th>total_call_duration</th>\n",
       "      <th>wait</th>\n",
       "    </tr>\n",
       "  </thead>\n",
       "  <tbody>\n",
       "    <tr>\n",
       "      <td>count</td>\n",
       "      <td>181.000000</td>\n",
       "      <td>181.000000</td>\n",
       "      <td>181.000000</td>\n",
       "      <td>181.000000</td>\n",
       "      <td>181.000000</td>\n",
       "      <td>181.000000</td>\n",
       "      <td>181.000000</td>\n",
       "    </tr>\n",
       "    <tr>\n",
       "      <td>mean</td>\n",
       "      <td>26129.558011</td>\n",
       "      <td>167578.640884</td>\n",
       "      <td>925717.988950</td>\n",
       "      <td>1.740331</td>\n",
       "      <td>130.541436</td>\n",
       "      <td>156.298343</td>\n",
       "      <td>25.756906</td>\n",
       "    </tr>\n",
       "    <tr>\n",
       "      <td>std</td>\n",
       "      <td>12313.915567</td>\n",
       "      <td>636.037253</td>\n",
       "      <td>19953.016268</td>\n",
       "      <td>1.334990</td>\n",
       "      <td>145.324979</td>\n",
       "      <td>145.485965</td>\n",
       "      <td>29.773339</td>\n",
       "    </tr>\n",
       "    <tr>\n",
       "      <td>min</td>\n",
       "      <td>1261.000000</td>\n",
       "      <td>166405.000000</td>\n",
       "      <td>884408.000000</td>\n",
       "      <td>1.000000</td>\n",
       "      <td>6.000000</td>\n",
       "      <td>11.000000</td>\n",
       "      <td>1.000000</td>\n",
       "    </tr>\n",
       "    <tr>\n",
       "      <td>25%</td>\n",
       "      <td>13008.000000</td>\n",
       "      <td>166916.000000</td>\n",
       "      <td>906408.000000</td>\n",
       "      <td>1.000000</td>\n",
       "      <td>43.000000</td>\n",
       "      <td>68.000000</td>\n",
       "      <td>6.000000</td>\n",
       "    </tr>\n",
       "    <tr>\n",
       "      <td>50%</td>\n",
       "      <td>27461.000000</td>\n",
       "      <td>167545.000000</td>\n",
       "      <td>933986.000000</td>\n",
       "      <td>1.000000</td>\n",
       "      <td>79.000000</td>\n",
       "      <td>103.000000</td>\n",
       "      <td>15.000000</td>\n",
       "    </tr>\n",
       "    <tr>\n",
       "      <td>75%</td>\n",
       "      <td>38774.000000</td>\n",
       "      <td>168252.000000</td>\n",
       "      <td>940630.000000</td>\n",
       "      <td>2.000000</td>\n",
       "      <td>147.000000</td>\n",
       "      <td>175.000000</td>\n",
       "      <td>35.000000</td>\n",
       "    </tr>\n",
       "    <tr>\n",
       "      <td>max</td>\n",
       "      <td>39980.000000</td>\n",
       "      <td>168336.000000</td>\n",
       "      <td>964666.000000</td>\n",
       "      <td>8.000000</td>\n",
       "      <td>741.000000</td>\n",
       "      <td>747.000000</td>\n",
       "      <td>265.000000</td>\n",
       "    </tr>\n",
       "  </tbody>\n",
       "</table>\n",
       "</div>"
      ],
      "text/plain": [
       "              index        user_id    operator_id  calls_count  call_duration  \\\n",
       "count    181.000000     181.000000     181.000000   181.000000     181.000000   \n",
       "mean   26129.558011  167578.640884  925717.988950     1.740331     130.541436   \n",
       "std    12313.915567     636.037253   19953.016268     1.334990     145.324979   \n",
       "min     1261.000000  166405.000000  884408.000000     1.000000       6.000000   \n",
       "25%    13008.000000  166916.000000  906408.000000     1.000000      43.000000   \n",
       "50%    27461.000000  167545.000000  933986.000000     1.000000      79.000000   \n",
       "75%    38774.000000  168252.000000  940630.000000     2.000000     147.000000   \n",
       "max    39980.000000  168336.000000  964666.000000     8.000000     741.000000   \n",
       "\n",
       "       total_call_duration        wait  \n",
       "count           181.000000  181.000000  \n",
       "mean            156.298343   25.756906  \n",
       "std             145.485965   29.773339  \n",
       "min              11.000000    1.000000  \n",
       "25%              68.000000    6.000000  \n",
       "50%             103.000000   15.000000  \n",
       "75%             175.000000   35.000000  \n",
       "max             747.000000  265.000000  "
      ]
     },
     "execution_count": 34,
     "metadata": {},
     "output_type": "execute_result"
    }
   ],
   "source": [
    "missedcallslast.describe()"
   ]
  },
  {
   "cell_type": "code",
   "execution_count": 37,
   "metadata": {},
   "outputs": [
    {
     "data": {
      "text/plain": [
       "168252    54\n",
       "166916    34\n",
       "167176    11\n",
       "167264    11\n",
       "168062    10\n",
       "168187     7\n",
       "167150     6\n",
       "168091     5\n",
       "167977     5\n",
       "166503     4\n",
       "168336     4\n",
       "166837     4\n",
       "167445     3\n",
       "166732     3\n",
       "166974     3\n",
       "166485     2\n",
       "166541     2\n",
       "166997     2\n",
       "167994     1\n",
       "166405     1\n",
       "Name: user_id, dtype: int64"
      ]
     },
     "execution_count": 37,
     "metadata": {},
     "output_type": "execute_result"
    }
   ],
   "source": [
    "missedcallslast.user_id.value_counts().head(20)"
   ]
  },
  {
   "cell_type": "code",
   "execution_count": 24,
   "metadata": {},
   "outputs": [
    {
     "data": {
      "image/png": "[encoded data removed]",
      "text/plain": [
       "<Figure size 1152x288 with 1 Axes>"
      ]
     },
     "metadata": {
      "needs_background": "light"
     },
     "output_type": "display_data"
    }
   ],
   "source": [
    "missedcallsgroupby=missedcallslast.groupby('call_duration')['user_id'].count()\n",
    "fig, ax = plt.subplots(figsize=(16, 4))\n",
    "missedcallsgroupby.plot(ax=ax,color='crimson')\n",
    "ax.set_xlabel('duration in seconds')\n",
    "ax.set_ylabel('number of calls')\n",
    "ax.set_title('Amounts of calls with missed call duration exceeding 5 seconds');"
   ]
  },
  {
   "cell_type": "markdown",
   "metadata": {},
   "source": [
    "<font color='crimson'><p style=\"font-size:17px\"><b> Missed Call Summary</b></font>\n",
    "<br>\n",
    "In this dataset, with the duplicates and nulls removed, 34% of the call records are missed. 98% of missed calls have no duration time and another 1 percent have 1 or 2 seconds, representing technical errors when the call isn't connected.</font>\n",
    "<br><br>\n",
    "The 181 records with a longer than 5 second duration could be one of two things. They could be errors in the data. Under futher scrutiny, these records have a panapoly of users and operators as well as a realistic range of call count, duration and wait time. So I believe that these records are not errors but rather [deliberate missed calls](http://en.wikipedia.org/wiki/Missed_call) In many markets in countries worldwide, especially those where mobile phones with limited outgoing calls are used, calls are intentionally not completed/connected so as to avoid costs to the caller.<br><br>"
   ]
  },
  {
   "cell_type": "markdown",
   "metadata": {},
   "source": [
    "<font size='4'>In fact,\n",
    "<br>\n",
    "1. Patterns of consecutive missed calls can mean certain messages: such as arriving at a destination and a package being ready for pick up<br>\n",
    "<br>\n",
    "2. Missed calls are used as marketing communication so that consumers can \"miss call\" specific numbers to receive a call or text back with advertising, product information or sponsored messages from actors, politicians and athletes.<br>\n",
    "<br>\n",
    "3. In one country, where missed calls in recent years have comprised as much as a quarter of all mobile calls, missed calls are an \"economical and wide-reaching mechanism of communication,\" according to the Institute of Management in Kerala state.\n",
    "<br><br>\n",
    "4. Missed Called Marketing is the name of a field that describes this common practice. Entire companies specialize in it. One popular provider sends out cricket scores and organizing anti-corruption protests. In 2015 [Twitter acquired a missed call services provider](https://techcrunch.com/2015/01/19/twitter-confirms-acquistion-of-indias-missed-call-marketing-platform-zipdial/) for \\\\$20-\\\\$40 million dollars.<br>\n",
    "<br>\n",
    "5. Among other purposes, missed calls are used to check one's [bank balance](https://www.wsj.com/articles/BL-263B-7531), received tailored job listings, view program listings, hear on-demand soundtracks and vote in polls organized for viewers.\n",
    "<br><br></p><p style=\"font-size:17px\">\n",
    "All of that is to say, the missed called records with duration can be legitimate uses of missed call services.\n",
    "<br><br>\n",
    "This project was delineated with three main areas of inefficiency. Missed calls will remain one area of inefficiency by which operators are scored.</p>"
   ]
  },
  {
   "cell_type": "markdown",
   "metadata": {},
   "source": [
    "<font color='deepskyblue'><p style=\"font-size:17px\"><b>Outgoing Calls</b></font>"
   ]
  },
  {
   "cell_type": "code",
   "execution_count": 14,
   "metadata": {},
   "outputs": [
    {
     "data": {
      "text/plain": [
       "count     41491\n",
       "unique        2\n",
       "top         out\n",
       "freq      28813\n",
       "Name: direction, dtype: object"
      ]
     },
     "execution_count": 14,
     "metadata": {},
     "output_type": "execute_result"
    }
   ],
   "source": [
    "calls.direction.describe()"
   ]
  },
  {
   "cell_type": "code",
   "execution_count": 25,
   "metadata": {},
   "outputs": [
    {
     "data": {
      "text/plain": [
       "0.6935204351802821"
      ]
     },
     "execution_count": 25,
     "metadata": {},
     "output_type": "execute_result"
    }
   ],
   "source": [
    "calls[calls.direction=='out'].shape[0]/calls.direction.shape[0]"
   ]
  },
  {
   "cell_type": "code",
   "execution_count": 38,
   "metadata": {},
   "outputs": [
    {
     "data": {
      "text/plain": [
       "count    882.000000\n",
       "mean      32.667800\n",
       "std       38.145841\n",
       "min        1.000000\n",
       "25%        5.000000\n",
       "50%       19.000000\n",
       "75%       45.000000\n",
       "max      228.000000\n",
       "Name: direction, dtype: float64"
      ]
     },
     "execution_count": 38,
     "metadata": {},
     "output_type": "execute_result"
    }
   ],
   "source": [
    "calls[calls.direction=='out'].groupby('operator_id')['direction'].count().describe()"
   ]
  },
  {
   "cell_type": "code",
   "execution_count": 67,
   "metadata": {},
   "outputs": [
    {
     "data": {
      "text/plain": [
       "operator_id\n",
       "901884.0    228\n",
       "887276.0    198\n",
       "901880.0    194\n",
       "Name: direction, dtype: int64"
      ]
     },
     "execution_count": 67,
     "metadata": {},
     "output_type": "execute_result"
    }
   ],
   "source": [
    "calls[calls.direction=='out'].groupby('operator_id')['direction'].count(\n",
    ").sort_values(ascending=False).head(3)"
   ]
  },
  {
   "cell_type": "code",
   "execution_count": 37,
   "metadata": {},
   "outputs": [
    {
     "data": {
      "text/plain": [
       "<matplotlib.axes._subplots.AxesSubplot at 0x7f2db0550e10>"
      ]
     },
     "execution_count": 37,
     "metadata": {},
     "output_type": "execute_result"
    },
    {
     "data": {
      "image/png": "[encoded data removed]",
      "text/plain": [
       "<Figure size 432x288 with 1 Axes>"
      ]
     },
     "metadata": {
      "needs_background": "light"
     },
     "output_type": "display_data"
    }
   ],
   "source": [
    "calls[calls.direction=='out'].groupby('operator_id')['direction'].count(\n",
    ").sort_values(ascending=False).hist(ec='navajowhite',color='deepskyblue')"
   ]
  },
  {
   "cell_type": "code",
   "execution_count": 24,
   "metadata": {},
   "outputs": [
    {
     "data": {
      "text/plain": [
       "<matplotlib.axes._subplots.AxesSubplot at 0x7f2db08b2b50>"
      ]
     },
     "execution_count": 24,
     "metadata": {},
     "output_type": "execute_result"
    },
    {
     "data": {
      "image/png": "[encoded data removed]",
      "text/plain": [
       "<Figure size 432x288 with 1 Axes>"
      ]
     },
     "metadata": {
      "needs_background": "light"
     },
     "output_type": "display_data"
    }
   ],
   "source": [
    "sns.boxplot(x=calls[calls.direction=='out'].groupby('operator_id')['direction'].count(),color='deepskyblue')"
   ]
  },
  {
   "cell_type": "markdown",
   "metadata": {},
   "source": [
    "<font color='deepskyblue'><p style=\"font-size:17px\"><b>Outgoing Calls Precis</b></font>\n",
    "<br><br>\n",
    "Nearly 70% of all calls are outgoing. The distribution for outgoing calls by operator_id is right-skewed, with most operators handling under 20 outgoing calls and a quarter of all operators handling less than 5. About one-tenth of the 882 operators who handle outgoing calls, 82, handle only 1 each. <br><br>\n",
    "As far as leaders go, only 32 operators (3.6% of operators doing outgoing calls) handle more than 133 outgoing calls, seven-fold the median of 19."
   ]
  },
  {
   "cell_type": "markdown",
   "metadata": {},
   "source": [
    "<font color='#F87217'><p style=\"font-size:17px\"><b>Per Operator Calls and Duration</b></font>"
   ]
  },
  {
   "cell_type": "code",
   "execution_count": 26,
   "metadata": {},
   "outputs": [
    {
     "data": {
      "text/html": [
       "<div>\n",
       "<style scoped>\n",
       "    .dataframe tbody tr th:only-of-type {\n",
       "        vertical-align: middle;\n",
       "    }\n",
       "\n",
       "    .dataframe tbody tr th {\n",
       "        vertical-align: top;\n",
       "    }\n",
       "\n",
       "    .dataframe thead th {\n",
       "        text-align: right;\n",
       "    }\n",
       "</style>\n",
       "<table border=\"1\" class=\"dataframe\">\n",
       "  <thead>\n",
       "    <tr style=\"text-align: right;\">\n",
       "      <th></th>\n",
       "      <th>operator_id</th>\n",
       "      <th>calls_per_operator</th>\n",
       "    </tr>\n",
       "  </thead>\n",
       "  <tbody>\n",
       "    <tr>\n",
       "      <td>count</td>\n",
       "      <td>1092.000000</td>\n",
       "      <td>1092.000000</td>\n",
       "    </tr>\n",
       "    <tr>\n",
       "      <td>mean</td>\n",
       "      <td>925517.543956</td>\n",
       "      <td>38.045788</td>\n",
       "    </tr>\n",
       "    <tr>\n",
       "      <td>std</td>\n",
       "      <td>22854.532209</td>\n",
       "      <td>49.206403</td>\n",
       "    </tr>\n",
       "    <tr>\n",
       "      <td>min</td>\n",
       "      <td>879896.000000</td>\n",
       "      <td>1.000000</td>\n",
       "    </tr>\n",
       "    <tr>\n",
       "      <td>25%</td>\n",
       "      <td>906393.500000</td>\n",
       "      <td>5.000000</td>\n",
       "    </tr>\n",
       "    <tr>\n",
       "      <td>50%</td>\n",
       "      <td>925105.000000</td>\n",
       "      <td>19.000000</td>\n",
       "    </tr>\n",
       "    <tr>\n",
       "      <td>75%</td>\n",
       "      <td>944211.500000</td>\n",
       "      <td>50.000000</td>\n",
       "    </tr>\n",
       "    <tr>\n",
       "      <td>max</td>\n",
       "      <td>973286.000000</td>\n",
       "      <td>323.000000</td>\n",
       "    </tr>\n",
       "  </tbody>\n",
       "</table>\n",
       "</div>"
      ],
      "text/plain": [
       "         operator_id  calls_per_operator\n",
       "count    1092.000000         1092.000000\n",
       "mean   925517.543956           38.045788\n",
       "std     22854.532209           49.206403\n",
       "min    879896.000000            1.000000\n",
       "25%    906393.500000            5.000000\n",
       "50%    925105.000000           19.000000\n",
       "75%    944211.500000           50.000000\n",
       "max    973286.000000          323.000000"
      ]
     },
     "execution_count": 26,
     "metadata": {},
     "output_type": "execute_result"
    }
   ],
   "source": [
    "callsperoperator=calls.groupby('operator_id')['date'].count().to_frame().reset_index()\n",
    "callsperoperator.rename(columns={\n",
    "    'date':'calls_per_operator'},inplace=True)\n",
    "callsperoperator=callsperoperator.sort_values(by='calls_per_operator',ascending=False)\n",
    "callsperoperator.describe()"
   ]
  },
  {
   "cell_type": "code",
   "execution_count": 27,
   "metadata": {},
   "outputs": [
    {
     "data": {
      "text/html": [
       "<div>\n",
       "<style scoped>\n",
       "    .dataframe tbody tr th:only-of-type {\n",
       "        vertical-align: middle;\n",
       "    }\n",
       "\n",
       "    .dataframe tbody tr th {\n",
       "        vertical-align: top;\n",
       "    }\n",
       "\n",
       "    .dataframe thead th {\n",
       "        text-align: right;\n",
       "    }\n",
       "</style>\n",
       "<table border=\"1\" class=\"dataframe\">\n",
       "  <thead>\n",
       "    <tr style=\"text-align: right;\">\n",
       "      <th></th>\n",
       "      <th>operator_id</th>\n",
       "      <th>calls_per_operator</th>\n",
       "    </tr>\n",
       "  </thead>\n",
       "  <tbody>\n",
       "    <tr>\n",
       "      <td>204</td>\n",
       "      <td>901884.0</td>\n",
       "      <td>323</td>\n",
       "    </tr>\n",
       "  </tbody>\n",
       "</table>\n",
       "</div>"
      ],
      "text/plain": [
       "     operator_id  calls_per_operator\n",
       "204     901884.0                 323"
      ]
     },
     "execution_count": 27,
     "metadata": {},
     "output_type": "execute_result"
    }
   ],
   "source": [
    "callsperoperator.head(1)"
   ]
  },
  {
   "cell_type": "code",
   "execution_count": 20,
   "metadata": {},
   "outputs": [
    {
     "data": {
      "image/png": "[encoded data removed]",
      "text/plain": [
       "<Figure size 432x288 with 1 Axes>"
      ]
     },
     "metadata": {
      "needs_background": "light"
     },
     "output_type": "display_data"
    }
   ],
   "source": [
    "ax1=callsperoperator.date.hist(ec='navajowhite',color='deepskyblue')\n",
    "ax1.set_title(\"Distribution of the Number of Calls per Operator\")\n",
    "ax1.set_ylabel(\"amount of operators\")\n",
    "ax1.set_xlabel(\"amount of calls\");"
   ]
  },
  {
   "cell_type": "code",
   "execution_count": 27,
   "metadata": {},
   "outputs": [],
   "source": [
    "callsperoperatoragg=calls.groupby('operator_id').agg({'direction':\n",
    "                                     'count'}).reset_index()\n",
    "callsperoperatoragg.rename(columns={\n",
    "    'direction':'calls_per_op'},inplace=True)"
   ]
  },
  {
   "cell_type": "code",
   "execution_count": 28,
   "metadata": {},
   "outputs": [
    {
     "data": {
      "image/png": "[encoded data removed]",
      "text/plain": [
       "<Figure size 432x288 with 1 Axes>"
      ]
     },
     "metadata": {
      "needs_background": "light"
     },
     "output_type": "display_data"
    }
   ],
   "source": [
    "durationbyoperator=calls.groupby('operator_id').agg({'total_call_duration':\n",
    "                                     'sum'}).reset_index()\n",
    "durationbyoperator.rename(columns={\n",
    "    'total_call_duration':'total_duration'},inplace=True)\n",
    "\n",
    "sns.boxplot(x=durationbyoperator,color='deepskyblue')\n",
    "plt.title(\"Total Call Duration by Operator Distribution\")\n",
    "plt.xlabel('seconds');"
   ]
  },
  {
   "cell_type": "code",
   "execution_count": 113,
   "metadata": {},
   "outputs": [
    {
     "data": {
      "text/plain": [
       "386    0\n",
       "Name: total_duration, dtype: int64"
      ]
     },
     "execution_count": 113,
     "metadata": {},
     "output_type": "execute_result"
    }
   ],
   "source": [
    "durationbyoperator.total_duration.nsmallest(109).head(1)"
   ]
  },
  {
   "cell_type": "code",
   "execution_count": 99,
   "metadata": {},
   "outputs": [
    {
     "data": {
      "text/plain": [
       "count    1.092000e+03\n",
       "mean     5.028104e+04\n",
       "std      2.391585e+05\n",
       "min      0.000000e+00\n",
       "25%      5.680000e+02\n",
       "50%      6.674500e+03\n",
       "75%      4.385675e+04\n",
       "max      5.733237e+06\n",
       "Name: total_duration, dtype: float64"
      ]
     },
     "execution_count": 99,
     "metadata": {},
     "output_type": "execute_result"
    }
   ],
   "source": [
    "durationbyoperator.total_duration.describe()"
   ]
  },
  {
   "cell_type": "code",
   "execution_count": 94,
   "metadata": {},
   "outputs": [
    {
     "data": {
      "text/plain": [
       "28     5733237\n",
       "29     4783792\n",
       "551    1252549\n",
       "583     633196\n",
       "958     493000\n",
       "203     482797\n",
       "582     474106\n",
       "853     458915\n",
       "12      431100\n",
       "368     419807\n",
       "Name: total_duration, dtype: int64"
      ]
     },
     "execution_count": 94,
     "metadata": {},
     "output_type": "execute_result"
    }
   ],
   "source": [
    "durationbyoperator.total_duration.nlargest(10)"
   ]
  },
  {
   "cell_type": "markdown",
   "metadata": {},
   "source": [
    "<font color='#F87217'><p style=\"font-size:17px\"><b>Per Operator Calls and Duration Precis</b></font>\n",
    "<p style=\"font-size:17px\">\n",
    "The distribution for calls by operator_id is right-skewed, with most operators handling under 20 outgoing calls and a quarter of all operators handling less than 5. (That portion of its distribution is precisely the same as that for outgoing calls.) \n",
    "<br><br>\n",
    "One-eighth of the 1092 operators, 88, handle only 1 call each.\n",
    "<p style=\"font-size:17px\">\n",
    "For leading operators, 64 (nearly 6%) handle more than 133 outgoing calls, seven-fold the median of 19.\n",
    "    <br><br>\n",
    "Duration by operator is right-skewed with the leading two operators holding values ten-fold as much of the other values in the top ten. And the rest of the values in the top ten are ten-fold as high as the 75% quartile.\n",
    "<br><br>\n",
    "The shortest duration tenth of operators have less than two minutes duration time each."
   ]
  },
  {
   "cell_type": "markdown",
   "metadata": {},
   "source": [
    "<font color='#15317E'><h3>Metrics: Measuring Efficiency for Operators</h3>"
   ]
  },
  {
   "cell_type": "code",
   "execution_count": 29,
   "metadata": {},
   "outputs": [],
   "source": [
    "metrics=calls.groupby('operator_id').agg({'wait': 'sum',\n",
    "                                          'is_missed_call': lambda x: (x%2!=0).sum(),\n",
    "                                        'direction': lambda x: (x=='out').sum()}).reset_index()\n",
    "metrics.rename(columns={\n",
    "    'wait':'wait_total','is_missed_call':'missed_total','direction':'outgoing_total'}, inplace=True)"
   ]
  },
  {
   "cell_type": "code",
   "execution_count": 30,
   "metadata": {},
   "outputs": [],
   "source": [
    "metrics=metrics.merge(callsperoperatoragg)\n",
    "metrics=metrics.merge(durationbyoperator)"
   ]
  },
  {
   "cell_type": "code",
   "execution_count": 31,
   "metadata": {},
   "outputs": [],
   "source": [
    "metrics['avgwait_percall']=metrics.wait_total/metrics.calls_per_op\n",
    "metrics['avgduration_percall']=metrics.total_duration/metrics.calls_per_op"
   ]
  },
  {
   "cell_type": "code",
   "execution_count": 32,
   "metadata": {},
   "outputs": [],
   "source": [
    "metrics['avgwaitshare']=metrics.avgwait_percall/metrics.avgduration_percall"
   ]
  },
  {
   "cell_type": "code",
   "execution_count": 33,
   "metadata": {},
   "outputs": [],
   "source": [
    "metrics['wait_share']=metrics.wait_total/metrics.total_duration\n",
    "metrics['miss_share']=metrics.missed_total/metrics.calls_per_op\n",
    "metrics['out_share']=metrics.outgoing_total/metrics.calls_per_op"
   ]
  },
  {
   "cell_type": "code",
   "execution_count": 146,
   "metadata": {},
   "outputs": [
    {
     "data": {
      "text/html": [
       "<div>\n",
       "<style scoped>\n",
       "    .dataframe tbody tr th:only-of-type {\n",
       "        vertical-align: middle;\n",
       "    }\n",
       "\n",
       "    .dataframe tbody tr th {\n",
       "        vertical-align: top;\n",
       "    }\n",
       "\n",
       "    .dataframe thead th {\n",
       "        text-align: right;\n",
       "    }\n",
       "</style>\n",
       "<table border=\"1\" class=\"dataframe\">\n",
       "  <thead>\n",
       "    <tr style=\"text-align: right;\">\n",
       "      <th></th>\n",
       "      <th>operator_id</th>\n",
       "      <th>wait_total</th>\n",
       "      <th>missed_total</th>\n",
       "      <th>outgoing_total</th>\n",
       "      <th>calls_per_op</th>\n",
       "      <th>total_duration</th>\n",
       "      <th>avgwait_percall</th>\n",
       "      <th>avgduration_percall</th>\n",
       "      <th>avgwaitshare</th>\n",
       "      <th>wait_share</th>\n",
       "      <th>miss_share</th>\n",
       "      <th>out_share</th>\n",
       "    </tr>\n",
       "  </thead>\n",
       "  <tbody>\n",
       "    <tr>\n",
       "      <td>0</td>\n",
       "      <td>879896.0</td>\n",
       "      <td>12275</td>\n",
       "      <td>47</td>\n",
       "      <td>96</td>\n",
       "      <td>117</td>\n",
       "      <td>76137</td>\n",
       "      <td>104.91453</td>\n",
       "      <td>650.74359</td>\n",
       "      <td>0.161223</td>\n",
       "      <td>0.161223</td>\n",
       "      <td>0.401709</td>\n",
       "      <td>0.820513</td>\n",
       "    </tr>\n",
       "  </tbody>\n",
       "</table>\n",
       "</div>"
      ],
      "text/plain": [
       "   operator_id  wait_total  missed_total  outgoing_total  calls_per_op  \\\n",
       "0     879896.0       12275            47              96           117   \n",
       "\n",
       "   total_duration  avgwait_percall  avgduration_percall  avgwaitshare  \\\n",
       "0           76137        104.91453            650.74359      0.161223   \n",
       "\n",
       "   wait_share  miss_share  out_share  \n",
       "0    0.161223    0.401709   0.820513  "
      ]
     },
     "execution_count": 146,
     "metadata": {},
     "output_type": "execute_result"
    }
   ],
   "source": [
    "metrics.head(1)"
   ]
  },
  {
   "cell_type": "code",
   "execution_count": 145,
   "metadata": {},
   "outputs": [
    {
     "data": {
      "text/html": [
       "<div>\n",
       "<style scoped>\n",
       "    .dataframe tbody tr th:only-of-type {\n",
       "        vertical-align: middle;\n",
       "    }\n",
       "\n",
       "    .dataframe tbody tr th {\n",
       "        vertical-align: top;\n",
       "    }\n",
       "\n",
       "    .dataframe thead th {\n",
       "        text-align: right;\n",
       "    }\n",
       "</style>\n",
       "<table border=\"1\" class=\"dataframe\">\n",
       "  <thead>\n",
       "    <tr style=\"text-align: right;\">\n",
       "      <th></th>\n",
       "      <th>operator_id</th>\n",
       "      <th>wait_total</th>\n",
       "      <th>missed_total</th>\n",
       "      <th>outgoing_total</th>\n",
       "      <th>calls_per_op</th>\n",
       "      <th>total_duration</th>\n",
       "      <th>avgwait_percall</th>\n",
       "      <th>avgduration_percall</th>\n",
       "      <th>avgwaitshare</th>\n",
       "      <th>wait_share</th>\n",
       "      <th>miss_share</th>\n",
       "      <th>out_share</th>\n",
       "    </tr>\n",
       "  </thead>\n",
       "  <tbody>\n",
       "    <tr>\n",
       "      <td>386</td>\n",
       "      <td>914626.0</td>\n",
       "      <td>0</td>\n",
       "      <td>1</td>\n",
       "      <td>1</td>\n",
       "      <td>1</td>\n",
       "      <td>0</td>\n",
       "      <td>0.0</td>\n",
       "      <td>0.0</td>\n",
       "      <td>NaN</td>\n",
       "      <td>NaN</td>\n",
       "      <td>1.0</td>\n",
       "      <td>1.0</td>\n",
       "    </tr>\n",
       "    <tr>\n",
       "      <td>874</td>\n",
       "      <td>946454.0</td>\n",
       "      <td>0</td>\n",
       "      <td>2</td>\n",
       "      <td>2</td>\n",
       "      <td>2</td>\n",
       "      <td>0</td>\n",
       "      <td>0.0</td>\n",
       "      <td>0.0</td>\n",
       "      <td>NaN</td>\n",
       "      <td>NaN</td>\n",
       "      <td>1.0</td>\n",
       "      <td>1.0</td>\n",
       "    </tr>\n",
       "    <tr>\n",
       "      <td>982</td>\n",
       "      <td>955068.0</td>\n",
       "      <td>0</td>\n",
       "      <td>1</td>\n",
       "      <td>1</td>\n",
       "      <td>1</td>\n",
       "      <td>0</td>\n",
       "      <td>0.0</td>\n",
       "      <td>0.0</td>\n",
       "      <td>NaN</td>\n",
       "      <td>NaN</td>\n",
       "      <td>1.0</td>\n",
       "      <td>1.0</td>\n",
       "    </tr>\n",
       "    <tr>\n",
       "      <td>1011</td>\n",
       "      <td>958458.0</td>\n",
       "      <td>0</td>\n",
       "      <td>1</td>\n",
       "      <td>1</td>\n",
       "      <td>1</td>\n",
       "      <td>0</td>\n",
       "      <td>0.0</td>\n",
       "      <td>0.0</td>\n",
       "      <td>NaN</td>\n",
       "      <td>NaN</td>\n",
       "      <td>1.0</td>\n",
       "      <td>1.0</td>\n",
       "    </tr>\n",
       "    <tr>\n",
       "      <td>1030</td>\n",
       "      <td>960674.0</td>\n",
       "      <td>0</td>\n",
       "      <td>1</td>\n",
       "      <td>1</td>\n",
       "      <td>1</td>\n",
       "      <td>0</td>\n",
       "      <td>0.0</td>\n",
       "      <td>0.0</td>\n",
       "      <td>NaN</td>\n",
       "      <td>NaN</td>\n",
       "      <td>1.0</td>\n",
       "      <td>1.0</td>\n",
       "    </tr>\n",
       "  </tbody>\n",
       "</table>\n",
       "</div>"
      ],
      "text/plain": [
       "      operator_id  wait_total  missed_total  outgoing_total  calls_per_op  \\\n",
       "386      914626.0           0             1               1             1   \n",
       "874      946454.0           0             2               2             2   \n",
       "982      955068.0           0             1               1             1   \n",
       "1011     958458.0           0             1               1             1   \n",
       "1030     960674.0           0             1               1             1   \n",
       "\n",
       "      total_duration  avgwait_percall  avgduration_percall  avgwaitshare  \\\n",
       "386                0              0.0                  0.0           NaN   \n",
       "874                0              0.0                  0.0           NaN   \n",
       "982                0              0.0                  0.0           NaN   \n",
       "1011               0              0.0                  0.0           NaN   \n",
       "1030               0              0.0                  0.0           NaN   \n",
       "\n",
       "      wait_share  miss_share  out_share  \n",
       "386          NaN         1.0        1.0  \n",
       "874          NaN         1.0        1.0  \n",
       "982          NaN         1.0        1.0  \n",
       "1011         NaN         1.0        1.0  \n",
       "1030         NaN         1.0        1.0  "
      ]
     },
     "execution_count": 145,
     "metadata": {},
     "output_type": "execute_result"
    }
   ],
   "source": [
    "metrics[metrics.isna().any(axis=1)]"
   ]
  },
  {
   "cell_type": "code",
   "execution_count": 34,
   "metadata": {},
   "outputs": [],
   "source": [
    "metrics = metrics.fillna(0)"
   ]
  },
  {
   "cell_type": "code",
   "execution_count": 35,
   "metadata": {},
   "outputs": [
    {
     "data": {
      "text/html": [
       "<div>\n",
       "<style scoped>\n",
       "    .dataframe tbody tr th:only-of-type {\n",
       "        vertical-align: middle;\n",
       "    }\n",
       "\n",
       "    .dataframe tbody tr th {\n",
       "        vertical-align: top;\n",
       "    }\n",
       "\n",
       "    .dataframe thead th {\n",
       "        text-align: right;\n",
       "    }\n",
       "</style>\n",
       "<table border=\"1\" class=\"dataframe\">\n",
       "  <thead>\n",
       "    <tr style=\"text-align: right;\">\n",
       "      <th></th>\n",
       "      <th>operator_id</th>\n",
       "      <th>wait_total</th>\n",
       "      <th>missed_total</th>\n",
       "      <th>outgoing_total</th>\n",
       "      <th>calls_per_op</th>\n",
       "      <th>total_duration</th>\n",
       "      <th>avgwait_percall</th>\n",
       "      <th>avgduration_percall</th>\n",
       "      <th>avgwaitshare</th>\n",
       "      <th>wait_share</th>\n",
       "      <th>miss_share</th>\n",
       "      <th>out_share</th>\n",
       "    </tr>\n",
       "  </thead>\n",
       "  <tbody>\n",
       "    <tr>\n",
       "      <td>0</td>\n",
       "      <td>879896.0</td>\n",
       "      <td>12275</td>\n",
       "      <td>47</td>\n",
       "      <td>96</td>\n",
       "      <td>117</td>\n",
       "      <td>76137</td>\n",
       "      <td>104.91453</td>\n",
       "      <td>650.74359</td>\n",
       "      <td>0.161223</td>\n",
       "      <td>0.161223</td>\n",
       "      <td>0.401709</td>\n",
       "      <td>0.820513</td>\n",
       "    </tr>\n",
       "  </tbody>\n",
       "</table>\n",
       "</div>"
      ],
      "text/plain": [
       "   operator_id  wait_total  missed_total  outgoing_total  calls_per_op  \\\n",
       "0     879896.0       12275            47              96           117   \n",
       "\n",
       "   total_duration  avgwait_percall  avgduration_percall  avgwaitshare  \\\n",
       "0           76137        104.91453            650.74359      0.161223   \n",
       "\n",
       "   wait_share  miss_share  out_share  \n",
       "0    0.161223    0.401709   0.820513  "
      ]
     },
     "execution_count": 35,
     "metadata": {},
     "output_type": "execute_result"
    }
   ],
   "source": [
    "metrics.head(1)"
   ]
  },
  {
   "cell_type": "code",
   "execution_count": 42,
   "metadata": {},
   "outputs": [
    {
     "data": {
      "text/html": [
       "<div>\n",
       "<style scoped>\n",
       "    .dataframe tbody tr th:only-of-type {\n",
       "        vertical-align: middle;\n",
       "    }\n",
       "\n",
       "    .dataframe tbody tr th {\n",
       "        vertical-align: top;\n",
       "    }\n",
       "\n",
       "    .dataframe thead th {\n",
       "        text-align: right;\n",
       "    }\n",
       "</style>\n",
       "<table border=\"1\" class=\"dataframe\">\n",
       "  <thead>\n",
       "    <tr style=\"text-align: right;\">\n",
       "      <th></th>\n",
       "      <th>operator_id</th>\n",
       "      <th>wait_total</th>\n",
       "      <th>missed_total</th>\n",
       "      <th>outgoing_total</th>\n",
       "      <th>calls_per_op</th>\n",
       "      <th>total_duration</th>\n",
       "      <th>avgwait_percall</th>\n",
       "      <th>avgduration_percall</th>\n",
       "      <th>avgwaitshare</th>\n",
       "      <th>wait_share</th>\n",
       "      <th>miss_share</th>\n",
       "      <th>out_share</th>\n",
       "    </tr>\n",
       "  </thead>\n",
       "  <tbody>\n",
       "  </tbody>\n",
       "</table>\n",
       "</div>"
      ],
      "text/plain": [
       "Empty DataFrame\n",
       "Columns: [operator_id, wait_total, missed_total, outgoing_total, calls_per_op, total_duration, avgwait_percall, avgduration_percall, avgwaitshare, wait_share, miss_share, out_share]\n",
       "Index: []"
      ]
     },
     "execution_count": 42,
     "metadata": {},
     "output_type": "execute_result"
    }
   ],
   "source": [
    "metrics[metrics.isna().any(axis=1)]"
   ]
  },
  {
   "cell_type": "code",
   "execution_count": 146,
   "metadata": {},
   "outputs": [
    {
     "data": {
      "text/html": [
       "<div>\n",
       "<style scoped>\n",
       "    .dataframe tbody tr th:only-of-type {\n",
       "        vertical-align: middle;\n",
       "    }\n",
       "\n",
       "    .dataframe tbody tr th {\n",
       "        vertical-align: top;\n",
       "    }\n",
       "\n",
       "    .dataframe thead th {\n",
       "        text-align: right;\n",
       "    }\n",
       "</style>\n",
       "<table border=\"1\" class=\"dataframe\">\n",
       "  <thead>\n",
       "    <tr style=\"text-align: right;\">\n",
       "      <th></th>\n",
       "      <th>user_id</th>\n",
       "      <th>date</th>\n",
       "      <th>direction</th>\n",
       "      <th>internal</th>\n",
       "      <th>operator_id</th>\n",
       "      <th>is_missed_call</th>\n",
       "      <th>calls_count</th>\n",
       "      <th>call_duration</th>\n",
       "      <th>total_call_duration</th>\n",
       "      <th>wait</th>\n",
       "    </tr>\n",
       "  </thead>\n",
       "  <tbody>\n",
       "    <tr>\n",
       "      <td>20660</td>\n",
       "      <td>167172</td>\n",
       "      <td>2019-10-29</td>\n",
       "      <td>out</td>\n",
       "      <td>False</td>\n",
       "      <td>904204.0</td>\n",
       "      <td>False</td>\n",
       "      <td>2</td>\n",
       "      <td>175</td>\n",
       "      <td>222</td>\n",
       "      <td>47</td>\n",
       "    </tr>\n",
       "  </tbody>\n",
       "</table>\n",
       "</div>"
      ],
      "text/plain": [
       "       user_id       date direction  internal  operator_id  is_missed_call  \\\n",
       "20660   167172 2019-10-29       out     False     904204.0           False   \n",
       "\n",
       "       calls_count  call_duration  total_call_duration  wait  \n",
       "20660            2            175                  222    47  "
      ]
     },
     "execution_count": 146,
     "metadata": {},
     "output_type": "execute_result"
    }
   ],
   "source": [
    "calls.sample()"
   ]
  },
  {
   "cell_type": "code",
   "execution_count": 137,
   "metadata": {},
   "outputs": [
    {
     "data": {
      "text/html": [
       "<div>\n",
       "<style scoped>\n",
       "    .dataframe tbody tr th:only-of-type {\n",
       "        vertical-align: middle;\n",
       "    }\n",
       "\n",
       "    .dataframe tbody tr th {\n",
       "        vertical-align: top;\n",
       "    }\n",
       "\n",
       "    .dataframe thead th {\n",
       "        text-align: right;\n",
       "    }\n",
       "</style>\n",
       "<table border=\"1\" class=\"dataframe\">\n",
       "  <thead>\n",
       "    <tr style=\"text-align: right;\">\n",
       "      <th></th>\n",
       "      <th>operator_id</th>\n",
       "      <th>wait_total</th>\n",
       "      <th>missed_total</th>\n",
       "      <th>outgoing_total</th>\n",
       "      <th>calls_per_op</th>\n",
       "      <th>total_duration</th>\n",
       "      <th>avgwait_percall</th>\n",
       "      <th>avgduration_percall</th>\n",
       "      <th>avgwaitshare</th>\n",
       "      <th>wait_share</th>\n",
       "      <th>miss_share</th>\n",
       "      <th>out_share</th>\n",
       "    </tr>\n",
       "  </thead>\n",
       "  <tbody>\n",
       "    <tr>\n",
       "      <td>count</td>\n",
       "      <td>1092.000000</td>\n",
       "      <td>1.092000e+03</td>\n",
       "      <td>1092.000000</td>\n",
       "      <td>1092.000000</td>\n",
       "      <td>1092.000000</td>\n",
       "      <td>1.092000e+03</td>\n",
       "      <td>1092.000000</td>\n",
       "      <td>1092.000000</td>\n",
       "      <td>1087.000000</td>\n",
       "      <td>1087.000000</td>\n",
       "      <td>1092.000000</td>\n",
       "      <td>1092.000000</td>\n",
       "    </tr>\n",
       "    <tr>\n",
       "      <td>mean</td>\n",
       "      <td>925517.543956</td>\n",
       "      <td>1.186358e+04</td>\n",
       "      <td>12.921245</td>\n",
       "      <td>26.385531</td>\n",
       "      <td>38.045788</td>\n",
       "      <td>5.028104e+04</td>\n",
       "      <td>216.086098</td>\n",
       "      <td>863.690513</td>\n",
       "      <td>0.270567</td>\n",
       "      <td>0.270567</td>\n",
       "      <td>0.315517</td>\n",
       "      <td>0.624152</td>\n",
       "    </tr>\n",
       "    <tr>\n",
       "      <td>std</td>\n",
       "      <td>22854.532209</td>\n",
       "      <td>6.451050e+04</td>\n",
       "      <td>18.394028</td>\n",
       "      <td>36.618762</td>\n",
       "      <td>49.206403</td>\n",
       "      <td>2.391585e+05</td>\n",
       "      <td>506.996689</td>\n",
       "      <td>1643.567435</td>\n",
       "      <td>0.206326</td>\n",
       "      <td>0.206326</td>\n",
       "      <td>0.230071</td>\n",
       "      <td>0.375333</td>\n",
       "    </tr>\n",
       "    <tr>\n",
       "      <td>min</td>\n",
       "      <td>879896.000000</td>\n",
       "      <td>0.000000e+00</td>\n",
       "      <td>0.000000</td>\n",
       "      <td>0.000000</td>\n",
       "      <td>1.000000</td>\n",
       "      <td>0.000000e+00</td>\n",
       "      <td>0.000000</td>\n",
       "      <td>0.000000</td>\n",
       "      <td>0.004010</td>\n",
       "      <td>0.004010</td>\n",
       "      <td>0.000000</td>\n",
       "      <td>0.000000</td>\n",
       "    </tr>\n",
       "    <tr>\n",
       "      <td>25%</td>\n",
       "      <td>906393.500000</td>\n",
       "      <td>1.387500e+02</td>\n",
       "      <td>1.000000</td>\n",
       "      <td>1.000000</td>\n",
       "      <td>5.000000</td>\n",
       "      <td>5.680000e+02</td>\n",
       "      <td>23.000000</td>\n",
       "      <td>109.626316</td>\n",
       "      <td>0.132188</td>\n",
       "      <td>0.132188</td>\n",
       "      <td>0.134685</td>\n",
       "      <td>0.333333</td>\n",
       "    </tr>\n",
       "    <tr>\n",
       "      <td>50%</td>\n",
       "      <td>925105.000000</td>\n",
       "      <td>1.008000e+03</td>\n",
       "      <td>5.000000</td>\n",
       "      <td>10.000000</td>\n",
       "      <td>19.000000</td>\n",
       "      <td>6.674500e+03</td>\n",
       "      <td>46.619048</td>\n",
       "      <td>295.436117</td>\n",
       "      <td>0.210923</td>\n",
       "      <td>0.210923</td>\n",
       "      <td>0.333333</td>\n",
       "      <td>0.714286</td>\n",
       "    </tr>\n",
       "    <tr>\n",
       "      <td>75%</td>\n",
       "      <td>944211.500000</td>\n",
       "      <td>7.692250e+03</td>\n",
       "      <td>18.000000</td>\n",
       "      <td>39.000000</td>\n",
       "      <td>50.000000</td>\n",
       "      <td>4.385675e+04</td>\n",
       "      <td>159.758929</td>\n",
       "      <td>838.229167</td>\n",
       "      <td>0.335935</td>\n",
       "      <td>0.335935</td>\n",
       "      <td>0.471362</td>\n",
       "      <td>1.000000</td>\n",
       "    </tr>\n",
       "    <tr>\n",
       "      <td>max</td>\n",
       "      <td>973286.000000</td>\n",
       "      <td>1.443002e+06</td>\n",
       "      <td>119.000000</td>\n",
       "      <td>228.000000</td>\n",
       "      <td>323.000000</td>\n",
       "      <td>5.733237e+06</td>\n",
       "      <td>5805.027397</td>\n",
       "      <td>20258.787986</td>\n",
       "      <td>1.000000</td>\n",
       "      <td>1.000000</td>\n",
       "      <td>1.000000</td>\n",
       "      <td>1.000000</td>\n",
       "    </tr>\n",
       "  </tbody>\n",
       "</table>\n",
       "</div>"
      ],
      "text/plain": [
       "         operator_id    wait_total  missed_total  outgoing_total  \\\n",
       "count    1092.000000  1.092000e+03   1092.000000     1092.000000   \n",
       "mean   925517.543956  1.186358e+04     12.921245       26.385531   \n",
       "std     22854.532209  6.451050e+04     18.394028       36.618762   \n",
       "min    879896.000000  0.000000e+00      0.000000        0.000000   \n",
       "25%    906393.500000  1.387500e+02      1.000000        1.000000   \n",
       "50%    925105.000000  1.008000e+03      5.000000       10.000000   \n",
       "75%    944211.500000  7.692250e+03     18.000000       39.000000   \n",
       "max    973286.000000  1.443002e+06    119.000000      228.000000   \n",
       "\n",
       "       calls_per_op  total_duration  avgwait_percall  avgduration_percall  \\\n",
       "count   1092.000000    1.092000e+03      1092.000000          1092.000000   \n",
       "mean      38.045788    5.028104e+04       216.086098           863.690513   \n",
       "std       49.206403    2.391585e+05       506.996689          1643.567435   \n",
       "min        1.000000    0.000000e+00         0.000000             0.000000   \n",
       "25%        5.000000    5.680000e+02        23.000000           109.626316   \n",
       "50%       19.000000    6.674500e+03        46.619048           295.436117   \n",
       "75%       50.000000    4.385675e+04       159.758929           838.229167   \n",
       "max      323.000000    5.733237e+06      5805.027397         20258.787986   \n",
       "\n",
       "       avgwaitshare   wait_share   miss_share    out_share  \n",
       "count   1087.000000  1087.000000  1092.000000  1092.000000  \n",
       "mean       0.270567     0.270567     0.315517     0.624152  \n",
       "std        0.206326     0.206326     0.230071     0.375333  \n",
       "min        0.004010     0.004010     0.000000     0.000000  \n",
       "25%        0.132188     0.132188     0.134685     0.333333  \n",
       "50%        0.210923     0.210923     0.333333     0.714286  \n",
       "75%        0.335935     0.335935     0.471362     1.000000  \n",
       "max        1.000000     1.000000     1.000000     1.000000  "
      ]
     },
     "execution_count": 137,
     "metadata": {},
     "output_type": "execute_result"
    }
   ],
   "source": [
    "metrics.describe()"
   ]
  },
  {
   "cell_type": "markdown",
   "metadata": {},
   "source": [
    "<font color='#F87217'><p style=\"font-size:17px\"><b>Metrics Precis</b></font><br><br>\n",
    "To evaluate operator efficiency, key metrics must be aggregated.<br>\n",
    "At first I compared key metrics on their own, but in order to put them on a more even ground with one another, I needed to find some way to put them on the same scale. <br>\n",
    "The most clear cut way to do so was to turn them into a share of the total, so that now, each metric is a percentage of one hundred. <br>\n",
    "Another benefit of relying on share to compare the various metrics is that using shares eliminates the wild deviation of the right-skewed distributions, while nonetheless incorporating the entire range of values at either end of the spectrum.\n",
    "<br></br>\n",
    "There were two different approaches to deriving share for wait time, going with its share of the total or taking average wait time per call first and both provided the same share figures. <br>\n",
    "There were five records with no wait time and no call duration which resulted in a null wait share, so those nulls were replaced with zero."
   ]
  },
  {
   "cell_type": "code",
   "execution_count": 36,
   "metadata": {},
   "outputs": [
    {
     "data": {
      "image/png": "[encoded data removed]",
      "text/plain": [
       "<Figure size 864x504 with 1 Axes>"
      ]
     },
     "metadata": {
      "needs_background": "light"
     },
     "output_type": "display_data"
    }
   ],
   "source": [
    "spacing=.1\n",
    "plt.figure(figsize=(12,7))\n",
    "axout=sns.distplot(metrics.out_share, label='outgoing share',color='deepskyblue')\n",
    "axmiss=sns.distplot(metrics.miss_share, label='missed share',color='tomato')\n",
    "axwait=sns.distplot(metrics.wait_share, label='wait share',color='orange')\n",
    "plt.legend()\n",
    "plt.title('Efficiency Metric Share Distribution')\n",
    "plt.xlabel('Share')\n",
    "plt.ylabel('Probability Density')\n",
    "axout.xaxis.set_major_locator(ticker.MultipleLocator(spacing))\n",
    "axout.xaxis.set_major_formatter(ticker.FormatStrFormatter('%0.1f'))\n",
    "axout.xaxis.set_major_formatter(PercentFormatter())\n",
    "plt.show();"
   ]
  },
  {
   "cell_type": "markdown",
   "metadata": {},
   "source": [
    "<font color='F9966B'><p style=\"font-size:17px\"><b>Metric Share Distribution Summary</b></font><br><br>\n",
    "All three efficiency metric shares are right skewed. <br>\n",
    "The missed share peaks at 0, while the outgoing share peaks at 1. <br>\n",
    "Wait share peaks at around its 25% quartile value of 13%.<br>\n",
    "Outgoing share has a bimodal distribution, with missed share as a trimodal distribution.<br>\n",
    "Wait share is the most normal distribution of the three metrics.\n",
    "Nonetheless, the mean of missed share comes very close to its median of 33%. "
   ]
  },
  {
   "cell_type": "markdown",
   "metadata": {},
   "source": [
    "<font color='#15317E'><h3>Formulating Metrics Scores</h3>"
   ]
  },
  {
   "cell_type": "code",
   "execution_count": 203,
   "metadata": {},
   "outputs": [
    {
     "data": {
      "text/plain": [
       "Index(['operator_id', 'wait_total', 'missed_total', 'outgoing_total',\n",
       "       'calls_per_op', 'total_duration', 'avgwait_percall',\n",
       "       'avgduration_percall', 'avgwaitshare', 'wait_share', 'miss_share',\n",
       "       'out_share'],\n",
       "      dtype='object')"
      ]
     },
     "execution_count": 203,
     "metadata": {},
     "output_type": "execute_result"
    }
   ],
   "source": [
    "metrics.columns"
   ]
  },
  {
   "cell_type": "code",
   "execution_count": 37,
   "metadata": {},
   "outputs": [],
   "source": [
    "#making a deep copy of the metrics df before eliminating several columns\n",
    "metrics_initial=metrics.copy()"
   ]
  },
  {
   "cell_type": "code",
   "execution_count": 45,
   "metadata": {},
   "outputs": [],
   "source": [
    "metrics=metrics.drop(['outgoing_total','avgwait_percall','avgduration_percall','avgwaitshare'],axis=1)\n",
    "metricsout=metrics_initial.drop(['avgwait_percall','avgduration_percall','avgwaitshare'],axis=1)"
   ]
  },
  {
   "cell_type": "code",
   "execution_count": 137,
   "metadata": {},
   "outputs": [
    {
     "name": "stdout",
     "output_type": "stream",
     "text": [
      "(1092, 12)\n"
     ]
    },
    {
     "data": {
      "text/plain": [
       "(1092, 7)"
      ]
     },
     "execution_count": 137,
     "metadata": {},
     "output_type": "execute_result"
    }
   ],
   "source": [
    "print(metrics_initial.shape)\n",
    "metrics.shape"
   ]
  },
  {
   "cell_type": "code",
   "execution_count": 138,
   "metadata": {},
   "outputs": [
    {
     "data": {
      "text/html": [
       "<div>\n",
       "<style scoped>\n",
       "    .dataframe tbody tr th:only-of-type {\n",
       "        vertical-align: middle;\n",
       "    }\n",
       "\n",
       "    .dataframe tbody tr th {\n",
       "        vertical-align: top;\n",
       "    }\n",
       "\n",
       "    .dataframe thead th {\n",
       "        text-align: right;\n",
       "    }\n",
       "</style>\n",
       "<table border=\"1\" class=\"dataframe\">\n",
       "  <thead>\n",
       "    <tr style=\"text-align: right;\">\n",
       "      <th></th>\n",
       "      <th>operator_id</th>\n",
       "      <th>wait_total</th>\n",
       "      <th>calls_per_op</th>\n",
       "      <th>total_duration</th>\n",
       "      <th>wait_share</th>\n",
       "      <th>miss_share</th>\n",
       "      <th>out_share</th>\n",
       "    </tr>\n",
       "  </thead>\n",
       "  <tbody>\n",
       "    <tr>\n",
       "      <td>0</td>\n",
       "      <td>879896.0</td>\n",
       "      <td>12275</td>\n",
       "      <td>117</td>\n",
       "      <td>76137</td>\n",
       "      <td>0.161223</td>\n",
       "      <td>0.401709</td>\n",
       "      <td>0.820513</td>\n",
       "    </tr>\n",
       "  </tbody>\n",
       "</table>\n",
       "</div>"
      ],
      "text/plain": [
       "   operator_id  wait_total  calls_per_op  total_duration  wait_share  \\\n",
       "0     879896.0       12275           117           76137    0.161223   \n",
       "\n",
       "   miss_share  out_share  \n",
       "0    0.401709   0.820513  "
      ]
     },
     "execution_count": 138,
     "metadata": {},
     "output_type": "execute_result"
    }
   ],
   "source": [
    "metrics.head(1)"
   ]
  },
  {
   "cell_type": "code",
   "execution_count": 39,
   "metadata": {},
   "outputs": [
    {
     "data": {
      "text/plain": [
       "array([0.        , 0.33333333, 0.71428571, 1.        ])"
      ]
     },
     "execution_count": 39,
     "metadata": {},
     "output_type": "execute_result"
    }
   ],
   "source": [
    "np.percentile(metrics.out_share,range(0,100,25))"
   ]
  },
  {
   "cell_type": "code",
   "execution_count": 46,
   "metadata": {},
   "outputs": [
    {
     "data": {
      "text/plain": [
       "array([-0.01      ,  0.27272727,  0.67507674,  0.98579491,  1.        ])"
      ]
     },
     "execution_count": 46,
     "metadata": {},
     "output_type": "execute_result"
    }
   ],
   "source": [
    "#the first highest integer that results in the 75% quartile differing from the 100% value\n",
    "out_share_bin=np.percentile(metrics.out_share,range(0,100,23))\n",
    "out_share_bin=np.where(out_share_bin==0,-.01,out_share_bin)\n",
    "out_share_bin"
   ]
  },
  {
   "cell_type": "code",
   "execution_count": 222,
   "metadata": {},
   "outputs": [
    {
     "data": {
      "text/plain": [
       "array([0.        , 0.13468468, 0.33333333, 0.47136223])"
      ]
     },
     "execution_count": 222,
     "metadata": {},
     "output_type": "execute_result"
    }
   ],
   "source": [
    "np.percentile(metrics.miss_share,range(0,100,25))"
   ]
  },
  {
   "cell_type": "code",
   "execution_count": 223,
   "metadata": {},
   "outputs": [
    {
     "data": {
      "text/plain": [
       "array([0.        , 0.1314711 , 0.21039793, 0.33533635])"
      ]
     },
     "execution_count": 223,
     "metadata": {},
     "output_type": "execute_result"
    }
   ],
   "source": [
    "np.percentile(metrics.wait_share,range(0,100,25))"
   ]
  },
  {
   "cell_type": "code",
   "execution_count": 47,
   "metadata": {},
   "outputs": [],
   "source": [
    "o_labels = range(1, 5)\n",
    "w_labels = range(4,0,-1)\n",
    "m_labels = range(4,0,-1)\n",
    "metrics['wait'] = pd.qcut(metrics.wait_share, q = 4, labels = w_labels)\n",
    "metrics['miss'] = pd.qcut(metrics.miss_share, q = 4, labels = m_labels)\n",
    "metrics['out'] = pd.cut(metrics.out_share, bins=out_share_bin, labels = o_labels)"
   ]
  },
  {
   "cell_type": "code",
   "execution_count": 48,
   "metadata": {},
   "outputs": [
    {
     "data": {
      "text/html": [
       "<div>\n",
       "<style scoped>\n",
       "    .dataframe tbody tr th:only-of-type {\n",
       "        vertical-align: middle;\n",
       "    }\n",
       "\n",
       "    .dataframe tbody tr th {\n",
       "        vertical-align: top;\n",
       "    }\n",
       "\n",
       "    .dataframe thead th {\n",
       "        text-align: right;\n",
       "    }\n",
       "</style>\n",
       "<table border=\"1\" class=\"dataframe\">\n",
       "  <thead>\n",
       "    <tr style=\"text-align: right;\">\n",
       "      <th></th>\n",
       "      <th>operator_id</th>\n",
       "      <th>wait_total</th>\n",
       "      <th>missed_total</th>\n",
       "      <th>calls_per_op</th>\n",
       "      <th>total_duration</th>\n",
       "      <th>wait_share</th>\n",
       "      <th>miss_share</th>\n",
       "      <th>out_share</th>\n",
       "      <th>wait</th>\n",
       "      <th>miss</th>\n",
       "      <th>out</th>\n",
       "    </tr>\n",
       "  </thead>\n",
       "  <tbody>\n",
       "    <tr>\n",
       "      <td>1086</td>\n",
       "      <td>972408.0</td>\n",
       "      <td>45</td>\n",
       "      <td>1</td>\n",
       "      <td>2</td>\n",
       "      <td>245</td>\n",
       "      <td>0.183673</td>\n",
       "      <td>0.500000</td>\n",
       "      <td>1.000000</td>\n",
       "      <td>3</td>\n",
       "      <td>1</td>\n",
       "      <td>4</td>\n",
       "    </tr>\n",
       "    <tr>\n",
       "      <td>243</td>\n",
       "      <td>904372.0</td>\n",
       "      <td>68</td>\n",
       "      <td>0</td>\n",
       "      <td>2</td>\n",
       "      <td>113</td>\n",
       "      <td>0.601770</td>\n",
       "      <td>0.000000</td>\n",
       "      <td>0.000000</td>\n",
       "      <td>1</td>\n",
       "      <td>4</td>\n",
       "      <td>1</td>\n",
       "    </tr>\n",
       "    <tr>\n",
       "      <td>621</td>\n",
       "      <td>932498.0</td>\n",
       "      <td>5408</td>\n",
       "      <td>7</td>\n",
       "      <td>15</td>\n",
       "      <td>16445</td>\n",
       "      <td>0.328854</td>\n",
       "      <td>0.466667</td>\n",
       "      <td>0.933333</td>\n",
       "      <td>2</td>\n",
       "      <td>2</td>\n",
       "      <td>3</td>\n",
       "    </tr>\n",
       "  </tbody>\n",
       "</table>\n",
       "</div>"
      ],
      "text/plain": [
       "      operator_id  wait_total  missed_total  calls_per_op  total_duration  \\\n",
       "1086     972408.0          45             1             2             245   \n",
       "243      904372.0          68             0             2             113   \n",
       "621      932498.0        5408             7            15           16445   \n",
       "\n",
       "      wait_share  miss_share  out_share wait miss out  \n",
       "1086    0.183673    0.500000   1.000000    3    1   4  \n",
       "243     0.601770    0.000000   0.000000    1    4   1  \n",
       "621     0.328854    0.466667   0.933333    2    2   3  "
      ]
     },
     "execution_count": 48,
     "metadata": {},
     "output_type": "execute_result"
    }
   ],
   "source": [
    "metrics.sample(3)"
   ]
  },
  {
   "cell_type": "code",
   "execution_count": 116,
   "metadata": {},
   "outputs": [
    {
     "name": "stdout",
     "output_type": "stream",
     "text": [
      "For the column miss value counts are\n",
      " 3    298\n",
      "1    273\n",
      "4    273\n",
      "2    248\n",
      "Name: miss, dtype: int64\n",
      "\n",
      "For the column wait value counts are\n",
      " 1    273\n",
      "2    273\n",
      "3    273\n",
      "4    273\n",
      "Name: wait, dtype: int64\n",
      "\n",
      "For the column out value counts are\n",
      " 4    339\n",
      "1    252\n",
      "3    251\n",
      "2    250\n",
      "Name: out, dtype: int64\n",
      "\n"
     ]
    }
   ],
   "source": [
    "col=['miss','wait','out']\n",
    "for i in col:\n",
    "    x=metrics[i].value_counts()\n",
    "    print('For the column',i,\"value counts are\\n\",x)\n",
    "    print()"
   ]
  },
  {
   "cell_type": "markdown",
   "metadata": {},
   "source": [
    "<font color='#ff6347'><p style=\"font-size:17px\"><b>Interim Metric Scoring Precis</b></font><br><br>\n",
    "There are two metric scoring schemes here. <br>\n",
    "At first metric shares are split into quartiles, or in the case of outgoing calls, near quartiles. <br>\n",
    "The shares for wait and missed calls are low, but that is intentional, because of the high penalty businesses pay for long waits and missed calls. The low shares reflect the mean of less than one-third in each case.<br>\n",
    "As value counts indicates above, the relative shares for each score are similar in the case of missed calls, the same in the case of wait and the same in the case of outgoing calls, except for the largest final quartile, reflecting the high median and overlap of the 75% quartile and the maximum.\n",
    "<br>\n",
    "<br><br>\n",
    "The first metric scoring system sums up the three metrics, thereby giving all three equal weight.<br> \n",
    "The scores that combine the two worst quartiles for each of the metrics are deemed \"inefficient.\"<br>\n",
    "The scores that feature the two worst quartiles for two of the metrics and the second-best quartile for the third metric are deemed operators in the \"danger zone\". (It is also possible to fall in that category with two second-best quartile scores if the third metric is the worst metric.)<br>\n",
    "The scores that have two marks in the top two quartiles, are marked \"efficient\".<br>  \n",
    "Scores with one metric at the highest mark, combined with the other categories in either of the top two quartiles, is \"super efficient.\"\n",
    "<br><br>\n",
    "The next metric scoring system is weighted.<br>\n",
    "Outgoing calls are not given the same importance as wait and missed calls.<br>\n",
    "And more scoring categories are created so that the telephony business can pinpoint an operator's relative strengths and weaknesses.<br>\n",
    "<br>\n",
    "In this scoring scheme, there are three inefficient categories, two danger categories, two efficient categories and two super efficient categories.<br><br>\n",
    "All operators who have the lowest score in either the missing or wait categories are inefficient, regardless of their outgoing score.<br><br>\n",
    "All operators who have the topmost metric for wait time and the top two categories for missed calls is ranked super efficient.\n",
    "<br><br>\n",
    "All operators who rank in the top two categories for missed calls and wait time are efficient.\n",
    "<br><br>\n",
    "All operators who rank 3 and 2 for either wait time or missed calls are in the danger tier. The two danger categories reflect that there is one ranking for operators with more alarming missed call amounts and anoother ranking for those with more alarming wait times.\n",
    "<br><br>\n",
    "The \"inefficient but engaged\" category reflects operators who have the one of the lowest possible scores for waiting or missed calls, but nonetheless have high scores for the other metrics. So they are \"engaged\" in one or two areas but failing on a key metric that makes them inefficient.\n",
    "<br><br>\n",
    "There are three categories that mention outgoing or incoming. In the case of inefficient operators, there are some with the worst scores in the key missing and wait metrics, who nonetheless have the highest shares of outgoing calls. They remain inefficient but do handle a large portion of outgoing calls. In the case of the best operators, with the best missed call and wait time ratings, there are some who handle the lowest amounts of outgoing calls and their tier names mention incoming.\n",
    "<br><br>\n",
    "Hypothesis testing below will indicate which of the two scoring schemes more definitively pinpoints groups with differing behavior."
   ]
  },
  {
   "cell_type": "code",
   "execution_count": 50,
   "metadata": {},
   "outputs": [],
   "source": [
    "#sum scoring function\n",
    "def score(x):\n",
    "    if x>=10:\n",
    "        return \"super efficient\"\n",
    "    elif x>=8 and x<10:\n",
    "        return 'efficient'\n",
    "    elif x>6 and x<8:\n",
    "        return 'danger zone'\n",
    "    else:\n",
    "        return 'inefficient'"
   ]
  },
  {
   "cell_type": "code",
   "execution_count": 51,
   "metadata": {},
   "outputs": [],
   "source": [
    "#weighted scoring function\n",
    "def waitmissout(x):\n",
    "    if x=='111':\n",
    "        return \"Inefficient\"\n",
    "    elif x in ('224', '114','124'):\n",
    "        return \"Inefficient outgoing\"\n",
    "    elif x in ('441'):\n",
    "        return \"Super efficent incoming\"\n",
    "    elif x in ('442','432','444','443','433','434'):\n",
    "        return \"Super efficient\"\n",
    "    elif x in ('341','431','331'):\n",
    "        return 'Efficient incoming'\n",
    "    elif x in ('342','332','333','343','344','334'):\n",
    "        return 'Efficient'\n",
    "    elif x in ('322','321','323','324'):\n",
    "        return 'Missing: Danger'\n",
    "    elif x in ('232','231','233','234'):\n",
    "        return 'Waiting: Danger'\n",
    "    elif x in ('314','423','414','424','144','422','242','413','134','244'):\n",
    "        return 'Inefficient but engaged'\n",
    "    else:\n",
    "        return \"Inefficient\""
   ]
  },
  {
   "cell_type": "code",
   "execution_count": 52,
   "metadata": {},
   "outputs": [],
   "source": [
    "metrics['total']=metrics[['wait','miss','out']].sum(axis=1)\n",
    "metrics['score']=metrics['total'].apply(score)"
   ]
  },
  {
   "cell_type": "code",
   "execution_count": 64,
   "metadata": {},
   "outputs": [],
   "source": [
    "metrics['segment']=metrics['wait'].astype(str)+metrics['miss'].astype(str)+metrics['out'].astype(str)"
   ]
  },
  {
   "cell_type": "code",
   "execution_count": 79,
   "metadata": {},
   "outputs": [
    {
     "data": {
      "text/html": [
       "<div>\n",
       "<style scoped>\n",
       "    .dataframe tbody tr th:only-of-type {\n",
       "        vertical-align: middle;\n",
       "    }\n",
       "\n",
       "    .dataframe tbody tr th {\n",
       "        vertical-align: top;\n",
       "    }\n",
       "\n",
       "    .dataframe thead th {\n",
       "        text-align: right;\n",
       "    }\n",
       "</style>\n",
       "<table border=\"1\" class=\"dataframe\">\n",
       "  <thead>\n",
       "    <tr style=\"text-align: right;\">\n",
       "      <th></th>\n",
       "      <th>operator_id</th>\n",
       "      <th>wait_total</th>\n",
       "      <th>missed_total</th>\n",
       "      <th>calls_per_op</th>\n",
       "      <th>total_duration</th>\n",
       "      <th>wait_share</th>\n",
       "      <th>miss_share</th>\n",
       "      <th>out_share</th>\n",
       "      <th>total</th>\n",
       "    </tr>\n",
       "  </thead>\n",
       "  <tbody>\n",
       "    <tr>\n",
       "      <td>count</td>\n",
       "      <td>17.000000</td>\n",
       "      <td>17.000000</td>\n",
       "      <td>17.000000</td>\n",
       "      <td>17.000000</td>\n",
       "      <td>17.000000</td>\n",
       "      <td>17.000000</td>\n",
       "      <td>17.000000</td>\n",
       "      <td>17.0</td>\n",
       "      <td>17.0</td>\n",
       "    </tr>\n",
       "    <tr>\n",
       "      <td>mean</td>\n",
       "      <td>916848.705882</td>\n",
       "      <td>256.823529</td>\n",
       "      <td>0.058824</td>\n",
       "      <td>5.058824</td>\n",
       "      <td>6736.411765</td>\n",
       "      <td>0.052458</td>\n",
       "      <td>0.005348</td>\n",
       "      <td>1.0</td>\n",
       "      <td>12.0</td>\n",
       "    </tr>\n",
       "    <tr>\n",
       "      <td>std</td>\n",
       "      <td>24310.289015</td>\n",
       "      <td>491.640142</td>\n",
       "      <td>0.242536</td>\n",
       "      <td>5.561818</td>\n",
       "      <td>11646.710271</td>\n",
       "      <td>0.034923</td>\n",
       "      <td>0.022049</td>\n",
       "      <td>0.0</td>\n",
       "      <td>0.0</td>\n",
       "    </tr>\n",
       "    <tr>\n",
       "      <td>min</td>\n",
       "      <td>883898.000000</td>\n",
       "      <td>3.000000</td>\n",
       "      <td>0.000000</td>\n",
       "      <td>1.000000</td>\n",
       "      <td>63.000000</td>\n",
       "      <td>0.019697</td>\n",
       "      <td>0.000000</td>\n",
       "      <td>1.0</td>\n",
       "      <td>12.0</td>\n",
       "    </tr>\n",
       "    <tr>\n",
       "      <td>25%</td>\n",
       "      <td>897894.000000</td>\n",
       "      <td>12.000000</td>\n",
       "      <td>0.000000</td>\n",
       "      <td>1.000000</td>\n",
       "      <td>128.000000</td>\n",
       "      <td>0.030080</td>\n",
       "      <td>0.000000</td>\n",
       "      <td>1.0</td>\n",
       "      <td>12.0</td>\n",
       "    </tr>\n",
       "    <tr>\n",
       "      <td>50%</td>\n",
       "      <td>910926.000000</td>\n",
       "      <td>83.000000</td>\n",
       "      <td>0.000000</td>\n",
       "      <td>2.000000</td>\n",
       "      <td>1647.000000</td>\n",
       "      <td>0.033104</td>\n",
       "      <td>0.000000</td>\n",
       "      <td>1.0</td>\n",
       "      <td>12.0</td>\n",
       "    </tr>\n",
       "    <tr>\n",
       "      <td>75%</td>\n",
       "      <td>930524.000000</td>\n",
       "      <td>266.000000</td>\n",
       "      <td>0.000000</td>\n",
       "      <td>8.000000</td>\n",
       "      <td>9496.000000</td>\n",
       "      <td>0.079365</td>\n",
       "      <td>0.000000</td>\n",
       "      <td>1.0</td>\n",
       "      <td>12.0</td>\n",
       "    </tr>\n",
       "    <tr>\n",
       "      <td>max</td>\n",
       "      <td>969600.000000</td>\n",
       "      <td>2066.000000</td>\n",
       "      <td>1.000000</td>\n",
       "      <td>19.000000</td>\n",
       "      <td>48336.000000</td>\n",
       "      <td>0.125000</td>\n",
       "      <td>0.090909</td>\n",
       "      <td>1.0</td>\n",
       "      <td>12.0</td>\n",
       "    </tr>\n",
       "  </tbody>\n",
       "</table>\n",
       "</div>"
      ],
      "text/plain": [
       "         operator_id   wait_total  missed_total  calls_per_op  total_duration  \\\n",
       "count      17.000000    17.000000     17.000000     17.000000       17.000000   \n",
       "mean   916848.705882   256.823529      0.058824      5.058824     6736.411765   \n",
       "std     24310.289015   491.640142      0.242536      5.561818    11646.710271   \n",
       "min    883898.000000     3.000000      0.000000      1.000000       63.000000   \n",
       "25%    897894.000000    12.000000      0.000000      1.000000      128.000000   \n",
       "50%    910926.000000    83.000000      0.000000      2.000000     1647.000000   \n",
       "75%    930524.000000   266.000000      0.000000      8.000000     9496.000000   \n",
       "max    969600.000000  2066.000000      1.000000     19.000000    48336.000000   \n",
       "\n",
       "       wait_share  miss_share  out_share  total  \n",
       "count   17.000000   17.000000       17.0   17.0  \n",
       "mean     0.052458    0.005348        1.0   12.0  \n",
       "std      0.034923    0.022049        0.0    0.0  \n",
       "min      0.019697    0.000000        1.0   12.0  \n",
       "25%      0.030080    0.000000        1.0   12.0  \n",
       "50%      0.033104    0.000000        1.0   12.0  \n",
       "75%      0.079365    0.000000        1.0   12.0  \n",
       "max      0.125000    0.090909        1.0   12.0  "
      ]
     },
     "execution_count": 79,
     "metadata": {},
     "output_type": "execute_result"
    }
   ],
   "source": [
    "metrics[metrics['segment']=='444'].describe()"
   ]
  },
  {
   "cell_type": "code",
   "execution_count": 81,
   "metadata": {},
   "outputs": [
    {
     "data": {
      "text/html": [
       "<div>\n",
       "<style scoped>\n",
       "    .dataframe tbody tr th:only-of-type {\n",
       "        vertical-align: middle;\n",
       "    }\n",
       "\n",
       "    .dataframe tbody tr th {\n",
       "        vertical-align: top;\n",
       "    }\n",
       "\n",
       "    .dataframe thead th {\n",
       "        text-align: right;\n",
       "    }\n",
       "</style>\n",
       "<table border=\"1\" class=\"dataframe\">\n",
       "  <thead>\n",
       "    <tr style=\"text-align: right;\">\n",
       "      <th></th>\n",
       "      <th>operator_id</th>\n",
       "      <th>wait_total</th>\n",
       "      <th>missed_total</th>\n",
       "      <th>calls_per_op</th>\n",
       "      <th>total_duration</th>\n",
       "      <th>wait_share</th>\n",
       "      <th>miss_share</th>\n",
       "      <th>out_share</th>\n",
       "      <th>total</th>\n",
       "    </tr>\n",
       "  </thead>\n",
       "  <tbody>\n",
       "    <tr>\n",
       "      <td>count</td>\n",
       "      <td>1.0</td>\n",
       "      <td>1.0</td>\n",
       "      <td>1.0</td>\n",
       "      <td>1.0</td>\n",
       "      <td>1.0</td>\n",
       "      <td>1.000000</td>\n",
       "      <td>1.0</td>\n",
       "      <td>1.0</td>\n",
       "      <td>1.0</td>\n",
       "    </tr>\n",
       "    <tr>\n",
       "      <td>mean</td>\n",
       "      <td>913886.0</td>\n",
       "      <td>27.0</td>\n",
       "      <td>1.0</td>\n",
       "      <td>2.0</td>\n",
       "      <td>65.0</td>\n",
       "      <td>0.415385</td>\n",
       "      <td>0.5</td>\n",
       "      <td>0.0</td>\n",
       "      <td>3.0</td>\n",
       "    </tr>\n",
       "    <tr>\n",
       "      <td>std</td>\n",
       "      <td>NaN</td>\n",
       "      <td>NaN</td>\n",
       "      <td>NaN</td>\n",
       "      <td>NaN</td>\n",
       "      <td>NaN</td>\n",
       "      <td>NaN</td>\n",
       "      <td>NaN</td>\n",
       "      <td>NaN</td>\n",
       "      <td>NaN</td>\n",
       "    </tr>\n",
       "    <tr>\n",
       "      <td>min</td>\n",
       "      <td>913886.0</td>\n",
       "      <td>27.0</td>\n",
       "      <td>1.0</td>\n",
       "      <td>2.0</td>\n",
       "      <td>65.0</td>\n",
       "      <td>0.415385</td>\n",
       "      <td>0.5</td>\n",
       "      <td>0.0</td>\n",
       "      <td>3.0</td>\n",
       "    </tr>\n",
       "    <tr>\n",
       "      <td>25%</td>\n",
       "      <td>913886.0</td>\n",
       "      <td>27.0</td>\n",
       "      <td>1.0</td>\n",
       "      <td>2.0</td>\n",
       "      <td>65.0</td>\n",
       "      <td>0.415385</td>\n",
       "      <td>0.5</td>\n",
       "      <td>0.0</td>\n",
       "      <td>3.0</td>\n",
       "    </tr>\n",
       "    <tr>\n",
       "      <td>50%</td>\n",
       "      <td>913886.0</td>\n",
       "      <td>27.0</td>\n",
       "      <td>1.0</td>\n",
       "      <td>2.0</td>\n",
       "      <td>65.0</td>\n",
       "      <td>0.415385</td>\n",
       "      <td>0.5</td>\n",
       "      <td>0.0</td>\n",
       "      <td>3.0</td>\n",
       "    </tr>\n",
       "    <tr>\n",
       "      <td>75%</td>\n",
       "      <td>913886.0</td>\n",
       "      <td>27.0</td>\n",
       "      <td>1.0</td>\n",
       "      <td>2.0</td>\n",
       "      <td>65.0</td>\n",
       "      <td>0.415385</td>\n",
       "      <td>0.5</td>\n",
       "      <td>0.0</td>\n",
       "      <td>3.0</td>\n",
       "    </tr>\n",
       "    <tr>\n",
       "      <td>max</td>\n",
       "      <td>913886.0</td>\n",
       "      <td>27.0</td>\n",
       "      <td>1.0</td>\n",
       "      <td>2.0</td>\n",
       "      <td>65.0</td>\n",
       "      <td>0.415385</td>\n",
       "      <td>0.5</td>\n",
       "      <td>0.0</td>\n",
       "      <td>3.0</td>\n",
       "    </tr>\n",
       "  </tbody>\n",
       "</table>\n",
       "</div>"
      ],
      "text/plain": [
       "       operator_id  wait_total  missed_total  calls_per_op  total_duration  \\\n",
       "count          1.0         1.0           1.0           1.0             1.0   \n",
       "mean      913886.0        27.0           1.0           2.0            65.0   \n",
       "std            NaN         NaN           NaN           NaN             NaN   \n",
       "min       913886.0        27.0           1.0           2.0            65.0   \n",
       "25%       913886.0        27.0           1.0           2.0            65.0   \n",
       "50%       913886.0        27.0           1.0           2.0            65.0   \n",
       "75%       913886.0        27.0           1.0           2.0            65.0   \n",
       "max       913886.0        27.0           1.0           2.0            65.0   \n",
       "\n",
       "       wait_share  miss_share  out_share  total  \n",
       "count    1.000000         1.0        1.0    1.0  \n",
       "mean     0.415385         0.5        0.0    3.0  \n",
       "std           NaN         NaN        NaN    NaN  \n",
       "min      0.415385         0.5        0.0    3.0  \n",
       "25%      0.415385         0.5        0.0    3.0  \n",
       "50%      0.415385         0.5        0.0    3.0  \n",
       "75%      0.415385         0.5        0.0    3.0  \n",
       "max      0.415385         0.5        0.0    3.0  "
      ]
     },
     "execution_count": 81,
     "metadata": {},
     "output_type": "execute_result"
    }
   ],
   "source": [
    "metrics[metrics['segment']=='111'].describe()"
   ]
  },
  {
   "cell_type": "code",
   "execution_count": 82,
   "metadata": {},
   "outputs": [
    {
     "data": {
      "text/html": [
       "<div>\n",
       "<style scoped>\n",
       "    .dataframe tbody tr th:only-of-type {\n",
       "        vertical-align: middle;\n",
       "    }\n",
       "\n",
       "    .dataframe tbody tr th {\n",
       "        vertical-align: top;\n",
       "    }\n",
       "\n",
       "    .dataframe thead th {\n",
       "        text-align: right;\n",
       "    }\n",
       "</style>\n",
       "<table border=\"1\" class=\"dataframe\">\n",
       "  <thead>\n",
       "    <tr style=\"text-align: right;\">\n",
       "      <th></th>\n",
       "      <th>operator_id</th>\n",
       "      <th>wait_total</th>\n",
       "      <th>missed_total</th>\n",
       "      <th>calls_per_op</th>\n",
       "      <th>total_duration</th>\n",
       "      <th>wait_share</th>\n",
       "      <th>miss_share</th>\n",
       "      <th>out_share</th>\n",
       "      <th>total</th>\n",
       "    </tr>\n",
       "  </thead>\n",
       "  <tbody>\n",
       "    <tr>\n",
       "      <td>count</td>\n",
       "      <td>104.000000</td>\n",
       "      <td>104.000000</td>\n",
       "      <td>104.000000</td>\n",
       "      <td>104.000000</td>\n",
       "      <td>104.000000</td>\n",
       "      <td>104.000000</td>\n",
       "      <td>104.000000</td>\n",
       "      <td>104.0</td>\n",
       "      <td>104.0</td>\n",
       "    </tr>\n",
       "    <tr>\n",
       "      <td>mean</td>\n",
       "      <td>930149.653846</td>\n",
       "      <td>22922.625000</td>\n",
       "      <td>9.519231</td>\n",
       "      <td>17.721154</td>\n",
       "      <td>49561.365385</td>\n",
       "      <td>0.653122</td>\n",
       "      <td>0.676552</td>\n",
       "      <td>1.0</td>\n",
       "      <td>6.0</td>\n",
       "    </tr>\n",
       "    <tr>\n",
       "      <td>std</td>\n",
       "      <td>21539.646692</td>\n",
       "      <td>48726.682297</td>\n",
       "      <td>11.413653</td>\n",
       "      <td>21.977242</td>\n",
       "      <td>100627.519591</td>\n",
       "      <td>0.252337</td>\n",
       "      <td>0.215003</td>\n",
       "      <td>0.0</td>\n",
       "      <td>0.0</td>\n",
       "    </tr>\n",
       "    <tr>\n",
       "      <td>min</td>\n",
       "      <td>883018.000000</td>\n",
       "      <td>1.000000</td>\n",
       "      <td>1.000000</td>\n",
       "      <td>1.000000</td>\n",
       "      <td>1.000000</td>\n",
       "      <td>0.343221</td>\n",
       "      <td>0.473684</td>\n",
       "      <td>1.0</td>\n",
       "      <td>6.0</td>\n",
       "    </tr>\n",
       "    <tr>\n",
       "      <td>25%</td>\n",
       "      <td>919313.000000</td>\n",
       "      <td>36.250000</td>\n",
       "      <td>1.000000</td>\n",
       "      <td>2.000000</td>\n",
       "      <td>46.000000</td>\n",
       "      <td>0.424385</td>\n",
       "      <td>0.500000</td>\n",
       "      <td>1.0</td>\n",
       "      <td>6.0</td>\n",
       "    </tr>\n",
       "    <tr>\n",
       "      <td>50%</td>\n",
       "      <td>933064.000000</td>\n",
       "      <td>345.500000</td>\n",
       "      <td>3.000000</td>\n",
       "      <td>5.500000</td>\n",
       "      <td>467.000000</td>\n",
       "      <td>0.570979</td>\n",
       "      <td>0.535714</td>\n",
       "      <td>1.0</td>\n",
       "      <td>6.0</td>\n",
       "    </tr>\n",
       "    <tr>\n",
       "      <td>75%</td>\n",
       "      <td>945769.500000</td>\n",
       "      <td>29892.500000</td>\n",
       "      <td>14.250000</td>\n",
       "      <td>28.000000</td>\n",
       "      <td>65765.500000</td>\n",
       "      <td>1.000000</td>\n",
       "      <td>1.000000</td>\n",
       "      <td>1.0</td>\n",
       "      <td>6.0</td>\n",
       "    </tr>\n",
       "    <tr>\n",
       "      <td>max</td>\n",
       "      <td>973120.000000</td>\n",
       "      <td>356078.000000</td>\n",
       "      <td>49.000000</td>\n",
       "      <td>86.000000</td>\n",
       "      <td>633196.000000</td>\n",
       "      <td>1.000000</td>\n",
       "      <td>1.000000</td>\n",
       "      <td>1.0</td>\n",
       "      <td>6.0</td>\n",
       "    </tr>\n",
       "  </tbody>\n",
       "</table>\n",
       "</div>"
      ],
      "text/plain": [
       "         operator_id     wait_total  missed_total  calls_per_op  \\\n",
       "count     104.000000     104.000000    104.000000    104.000000   \n",
       "mean   930149.653846   22922.625000      9.519231     17.721154   \n",
       "std     21539.646692   48726.682297     11.413653     21.977242   \n",
       "min    883018.000000       1.000000      1.000000      1.000000   \n",
       "25%    919313.000000      36.250000      1.000000      2.000000   \n",
       "50%    933064.000000     345.500000      3.000000      5.500000   \n",
       "75%    945769.500000   29892.500000     14.250000     28.000000   \n",
       "max    973120.000000  356078.000000     49.000000     86.000000   \n",
       "\n",
       "       total_duration  wait_share  miss_share  out_share  total  \n",
       "count      104.000000  104.000000  104.000000      104.0  104.0  \n",
       "mean     49561.365385    0.653122    0.676552        1.0    6.0  \n",
       "std     100627.519591    0.252337    0.215003        0.0    0.0  \n",
       "min          1.000000    0.343221    0.473684        1.0    6.0  \n",
       "25%         46.000000    0.424385    0.500000        1.0    6.0  \n",
       "50%        467.000000    0.570979    0.535714        1.0    6.0  \n",
       "75%      65765.500000    1.000000    1.000000        1.0    6.0  \n",
       "max     633196.000000    1.000000    1.000000        1.0    6.0  "
      ]
     },
     "execution_count": 82,
     "metadata": {},
     "output_type": "execute_result"
    }
   ],
   "source": [
    "metrics[metrics['segment']=='114'].describe()"
   ]
  },
  {
   "cell_type": "code",
   "execution_count": 99,
   "metadata": {},
   "outputs": [
    {
     "data": {
      "text/html": [
       "<div>\n",
       "<style scoped>\n",
       "    .dataframe tbody tr th:only-of-type {\n",
       "        vertical-align: middle;\n",
       "    }\n",
       "\n",
       "    .dataframe tbody tr th {\n",
       "        vertical-align: top;\n",
       "    }\n",
       "\n",
       "    .dataframe thead th {\n",
       "        text-align: right;\n",
       "    }\n",
       "</style>\n",
       "<table border=\"1\" class=\"dataframe\">\n",
       "  <thead>\n",
       "    <tr style=\"text-align: right;\">\n",
       "      <th></th>\n",
       "      <th>operator_id</th>\n",
       "      <th>wait_total</th>\n",
       "      <th>missed_total</th>\n",
       "      <th>calls_per_op</th>\n",
       "      <th>total_duration</th>\n",
       "      <th>wait_share</th>\n",
       "      <th>miss_share</th>\n",
       "      <th>out_share</th>\n",
       "      <th>total</th>\n",
       "    </tr>\n",
       "  </thead>\n",
       "  <tbody>\n",
       "    <tr>\n",
       "      <td>count</td>\n",
       "      <td>26.000000</td>\n",
       "      <td>26.000000</td>\n",
       "      <td>26.000000</td>\n",
       "      <td>26.000000</td>\n",
       "      <td>26.000000</td>\n",
       "      <td>26.000000</td>\n",
       "      <td>26.000000</td>\n",
       "      <td>26.000000</td>\n",
       "      <td>26.000000</td>\n",
       "    </tr>\n",
       "    <tr>\n",
       "      <td>mean</td>\n",
       "      <td>920508.769231</td>\n",
       "      <td>375.423077</td>\n",
       "      <td>1.153846</td>\n",
       "      <td>9.038462</td>\n",
       "      <td>10194.884615</td>\n",
       "      <td>0.062211</td>\n",
       "      <td>0.058080</td>\n",
       "      <td>0.986538</td>\n",
       "      <td>11.653846</td>\n",
       "    </tr>\n",
       "    <tr>\n",
       "      <td>std</td>\n",
       "      <td>22779.499549</td>\n",
       "      <td>823.054272</td>\n",
       "      <td>2.880171</td>\n",
       "      <td>14.795893</td>\n",
       "      <td>24860.173010</td>\n",
       "      <td>0.043997</td>\n",
       "      <td>0.109216</td>\n",
       "      <td>0.052072</td>\n",
       "      <td>0.485165</td>\n",
       "    </tr>\n",
       "    <tr>\n",
       "      <td>min</td>\n",
       "      <td>883898.000000</td>\n",
       "      <td>3.000000</td>\n",
       "      <td>0.000000</td>\n",
       "      <td>1.000000</td>\n",
       "      <td>63.000000</td>\n",
       "      <td>0.019697</td>\n",
       "      <td>0.000000</td>\n",
       "      <td>0.750000</td>\n",
       "      <td>11.000000</td>\n",
       "    </tr>\n",
       "    <tr>\n",
       "      <td>25%</td>\n",
       "      <td>906465.500000</td>\n",
       "      <td>21.500000</td>\n",
       "      <td>0.000000</td>\n",
       "      <td>1.000000</td>\n",
       "      <td>360.750000</td>\n",
       "      <td>0.031735</td>\n",
       "      <td>0.000000</td>\n",
       "      <td>1.000000</td>\n",
       "      <td>11.000000</td>\n",
       "    </tr>\n",
       "    <tr>\n",
       "      <td>50%</td>\n",
       "      <td>920820.000000</td>\n",
       "      <td>99.000000</td>\n",
       "      <td>0.000000</td>\n",
       "      <td>4.000000</td>\n",
       "      <td>1733.500000</td>\n",
       "      <td>0.041701</td>\n",
       "      <td>0.000000</td>\n",
       "      <td>1.000000</td>\n",
       "      <td>12.000000</td>\n",
       "    </tr>\n",
       "    <tr>\n",
       "      <td>75%</td>\n",
       "      <td>931793.500000</td>\n",
       "      <td>264.500000</td>\n",
       "      <td>0.750000</td>\n",
       "      <td>9.500000</td>\n",
       "      <td>9142.750000</td>\n",
       "      <td>0.092599</td>\n",
       "      <td>0.068182</td>\n",
       "      <td>1.000000</td>\n",
       "      <td>12.000000</td>\n",
       "    </tr>\n",
       "    <tr>\n",
       "      <td>max</td>\n",
       "      <td>969600.000000</td>\n",
       "      <td>3850.000000</td>\n",
       "      <td>11.000000</td>\n",
       "      <td>72.000000</td>\n",
       "      <td>121868.000000</td>\n",
       "      <td>0.183908</td>\n",
       "      <td>0.333333</td>\n",
       "      <td>1.000000</td>\n",
       "      <td>12.000000</td>\n",
       "    </tr>\n",
       "  </tbody>\n",
       "</table>\n",
       "</div>"
      ],
      "text/plain": [
       "         operator_id   wait_total  missed_total  calls_per_op  total_duration  \\\n",
       "count      26.000000    26.000000     26.000000     26.000000       26.000000   \n",
       "mean   920508.769231   375.423077      1.153846      9.038462    10194.884615   \n",
       "std     22779.499549   823.054272      2.880171     14.795893    24860.173010   \n",
       "min    883898.000000     3.000000      0.000000      1.000000       63.000000   \n",
       "25%    906465.500000    21.500000      0.000000      1.000000      360.750000   \n",
       "50%    920820.000000    99.000000      0.000000      4.000000     1733.500000   \n",
       "75%    931793.500000   264.500000      0.750000      9.500000     9142.750000   \n",
       "max    969600.000000  3850.000000     11.000000     72.000000   121868.000000   \n",
       "\n",
       "       wait_share  miss_share  out_share      total  \n",
       "count   26.000000   26.000000  26.000000  26.000000  \n",
       "mean     0.062211    0.058080   0.986538  11.653846  \n",
       "std      0.043997    0.109216   0.052072   0.485165  \n",
       "min      0.019697    0.000000   0.750000  11.000000  \n",
       "25%      0.031735    0.000000   1.000000  11.000000  \n",
       "50%      0.041701    0.000000   1.000000  12.000000  \n",
       "75%      0.092599    0.068182   1.000000  12.000000  \n",
       "max      0.183908    0.333333   1.000000  12.000000  "
      ]
     },
     "execution_count": 99,
     "metadata": {},
     "output_type": "execute_result"
    }
   ],
   "source": [
    "metrics[metrics['total']>10].describe()"
   ]
  },
  {
   "cell_type": "code",
   "execution_count": 82,
   "metadata": {},
   "outputs": [
    {
     "data": {
      "text/html": [
       "<div>\n",
       "<style scoped>\n",
       "    .dataframe tbody tr th:only-of-type {\n",
       "        vertical-align: middle;\n",
       "    }\n",
       "\n",
       "    .dataframe tbody tr th {\n",
       "        vertical-align: top;\n",
       "    }\n",
       "\n",
       "    .dataframe thead th {\n",
       "        text-align: right;\n",
       "    }\n",
       "</style>\n",
       "<table border=\"1\" class=\"dataframe\">\n",
       "  <thead>\n",
       "    <tr style=\"text-align: right;\">\n",
       "      <th></th>\n",
       "      <th>operator_id</th>\n",
       "      <th>wait_total</th>\n",
       "      <th>missed_total</th>\n",
       "      <th>calls_per_op</th>\n",
       "      <th>total_duration</th>\n",
       "      <th>wait_share</th>\n",
       "      <th>miss_share</th>\n",
       "      <th>out_share</th>\n",
       "      <th>total</th>\n",
       "    </tr>\n",
       "  </thead>\n",
       "  <tbody>\n",
       "    <tr>\n",
       "      <td>count</td>\n",
       "      <td>42.000000</td>\n",
       "      <td>42.000000</td>\n",
       "      <td>42.000000</td>\n",
       "      <td>42.000000</td>\n",
       "      <td>4.200000e+01</td>\n",
       "      <td>42.000000</td>\n",
       "      <td>42.000000</td>\n",
       "      <td>42.000000</td>\n",
       "      <td>42.000000</td>\n",
       "    </tr>\n",
       "    <tr>\n",
       "      <td>mean</td>\n",
       "      <td>921881.952381</td>\n",
       "      <td>12548.666667</td>\n",
       "      <td>6.238095</td>\n",
       "      <td>15.404762</td>\n",
       "      <td>3.596517e+04</td>\n",
       "      <td>0.473681</td>\n",
       "      <td>0.439459</td>\n",
       "      <td>0.533506</td>\n",
       "      <td>4.714286</td>\n",
       "    </tr>\n",
       "    <tr>\n",
       "      <td>std</td>\n",
       "      <td>23502.147727</td>\n",
       "      <td>65473.269394</td>\n",
       "      <td>9.349082</td>\n",
       "      <td>23.586953</td>\n",
       "      <td>1.933302e+05</td>\n",
       "      <td>0.137562</td>\n",
       "      <td>0.123163</td>\n",
       "      <td>0.267169</td>\n",
       "      <td>0.507779</td>\n",
       "    </tr>\n",
       "    <tr>\n",
       "      <td>min</td>\n",
       "      <td>884408.000000</td>\n",
       "      <td>10.000000</td>\n",
       "      <td>1.000000</td>\n",
       "      <td>2.000000</td>\n",
       "      <td>1.200000e+01</td>\n",
       "      <td>0.265432</td>\n",
       "      <td>0.142857</td>\n",
       "      <td>0.000000</td>\n",
       "      <td>3.000000</td>\n",
       "    </tr>\n",
       "    <tr>\n",
       "      <td>25%</td>\n",
       "      <td>902056.500000</td>\n",
       "      <td>69.250000</td>\n",
       "      <td>2.000000</td>\n",
       "      <td>4.000000</td>\n",
       "      <td>1.635000e+02</td>\n",
       "      <td>0.381475</td>\n",
       "      <td>0.400000</td>\n",
       "      <td>0.447647</td>\n",
       "      <td>4.250000</td>\n",
       "    </tr>\n",
       "    <tr>\n",
       "      <td>50%</td>\n",
       "      <td>918973.000000</td>\n",
       "      <td>180.000000</td>\n",
       "      <td>2.000000</td>\n",
       "      <td>5.500000</td>\n",
       "      <td>4.720000e+02</td>\n",
       "      <td>0.430200</td>\n",
       "      <td>0.500000</td>\n",
       "      <td>0.563542</td>\n",
       "      <td>5.000000</td>\n",
       "    </tr>\n",
       "    <tr>\n",
       "      <td>75%</td>\n",
       "      <td>937416.500000</td>\n",
       "      <td>611.000000</td>\n",
       "      <td>6.000000</td>\n",
       "      <td>14.000000</td>\n",
       "      <td>1.496500e+03</td>\n",
       "      <td>0.558848</td>\n",
       "      <td>0.500000</td>\n",
       "      <td>0.750000</td>\n",
       "      <td>5.000000</td>\n",
       "    </tr>\n",
       "    <tr>\n",
       "      <td>max</td>\n",
       "      <td>970240.000000</td>\n",
       "      <td>423767.000000</td>\n",
       "      <td>41.000000</td>\n",
       "      <td>91.000000</td>\n",
       "      <td>1.252549e+06</td>\n",
       "      <td>0.833333</td>\n",
       "      <td>0.666667</td>\n",
       "      <td>0.944444</td>\n",
       "      <td>5.000000</td>\n",
       "    </tr>\n",
       "  </tbody>\n",
       "</table>\n",
       "</div>"
      ],
      "text/plain": [
       "         operator_id     wait_total  missed_total  calls_per_op  \\\n",
       "count      42.000000      42.000000     42.000000     42.000000   \n",
       "mean   921881.952381   12548.666667      6.238095     15.404762   \n",
       "std     23502.147727   65473.269394      9.349082     23.586953   \n",
       "min    884408.000000      10.000000      1.000000      2.000000   \n",
       "25%    902056.500000      69.250000      2.000000      4.000000   \n",
       "50%    918973.000000     180.000000      2.000000      5.500000   \n",
       "75%    937416.500000     611.000000      6.000000     14.000000   \n",
       "max    970240.000000  423767.000000     41.000000     91.000000   \n",
       "\n",
       "       total_duration  wait_share  miss_share  out_share      total  \n",
       "count    4.200000e+01   42.000000   42.000000  42.000000  42.000000  \n",
       "mean     3.596517e+04    0.473681    0.439459   0.533506   4.714286  \n",
       "std      1.933302e+05    0.137562    0.123163   0.267169   0.507779  \n",
       "min      1.200000e+01    0.265432    0.142857   0.000000   3.000000  \n",
       "25%      1.635000e+02    0.381475    0.400000   0.447647   4.250000  \n",
       "50%      4.720000e+02    0.430200    0.500000   0.563542   5.000000  \n",
       "75%      1.496500e+03    0.558848    0.500000   0.750000   5.000000  \n",
       "max      1.252549e+06    0.833333    0.666667   0.944444   5.000000  "
      ]
     },
     "execution_count": 82,
     "metadata": {},
     "output_type": "execute_result"
    }
   ],
   "source": [
    "metrics[metrics['total']<6].describe()"
   ]
  },
  {
   "cell_type": "markdown",
   "metadata": {},
   "source": [
    "<font color='lightskyblue'><p style=\"font-size:17px\"><b>Tiered Metric Precis</b></font><br>\n",
    "<p style=\"font-size:17px\">\n",
    "There are only 17 operators in the topmost tier, with scores of 444. Their total wait time is not overwhelmingly impressive. The mean wait time is more than 4 minutes and the median is one and a half minutes. The missed total count is impressive: most have 0 with a mean of .06. All calls are outgoing. Another not impressive statistic in this rarified grouping is calls per operator: the median is two, the mean 5. Their total duration is nearly half an hour for the median and nearly two hours for the mean. So as a portion of that entire duration, their wait time is scant: with a mean of 5% and a median of 3%. Even the highest weight share is 12.5%.\n",
    "<p style=\"font-size:17px\">\n",
    "Only 1 operator has the dubious honor of ranking the worst at 111: with just two calls total, one is missed. The call that did go through lasted only a minute, of which 42% was spent waiting. <br>\n",
    "    <br>\n",
    "The biggest group of operators with a failed metric are those with all outgoing calls, 104. In fact, they comprise about one-tenth of all operators.\n",
    "<br><br>\n",
    "Altogether, their mean wait time comprised nearly half of their total duration. Their median total wait of five and three quarters minutes takes up most of their median total call duration of 7.8 minutes. Their wait share is 65% on average and 57% by the median. Missed calls were a similarly high share: 68% for the mean and 54% for the median. On average they missed 9.5 calls with 3 missed calls as a mean. The one area they shone was in calls per operator, with nearly 18 on average and 5.5 for the median."
   ]
  },
  {
   "cell_type": "markdown",
   "metadata": {},
   "source": [
    "<font color='#ff6347'><p style=\"font-size:17px\"><b>Metric Score Precis</b></font><br>\n",
    "<p style=\"font-size:17px\">\n",
    "There are only 26 operators with the highest of the four possible scores, with a total higher than 10. Their wait time is also not impressive. The mean total wait time is more than 6 minutes and the median a bit longer than one and a half minutes. The missed total count is impressive: most have 0 with a mean a shade over 1. All calls are outgoing. \n",
    "<p style=\"font-size:17px\">\n",
    "Calls per operator, while not stellar, is nonetheless double the amount of the top tier segment: in this scoring system, the median is four, the mean is 9. Their total duration is nearly half an hour for the median, same as the topmost tier, but in this case, for the top scorers, the mean total duration is much longer, altogether three hours. So as a portion of that entire duration, their wait time is minimal: a mean of 3.7% and a median of 6%. The highest wait share is triple the mean wait share of 6%. The median is only 4%.\n",
    "<p style=\"font-size:17px\">\n",
    "42 operators have the lowest scores, 6 or less. Although their median total weight time of 3 minutes is about double that of the best operator score, their mean total weight time is 3.5 hours! Their missed total is six on average, two as median - half of their calls. They have the same median calls per operator, 5.5, as the lowest-performing operators by the tier segmentation but slightly less on average, 15. <br>\n",
    "Although their average total duration amounts to a 10 hour total, on average 47% of that time is spent waiting. <br>The lowest tier and the lowest score operators share the same median total duration of just 7.8 minutes: those with the lowest score spend devote 43% of that duration to waiting and those in the lowest tier allocate a whopping 57% of the median duration time to waiting."
   ]
  },
  {
   "cell_type": "code",
   "execution_count": 108,
   "metadata": {},
   "outputs": [],
   "source": [
    "metrics['tier']=metrics['segment'].apply(waitmissout)"
   ]
  },
  {
   "cell_type": "code",
   "execution_count": 99,
   "metadata": {},
   "outputs": [
    {
     "data": {
      "text/html": [
       "<div>\n",
       "<style scoped>\n",
       "    .dataframe tbody tr th:only-of-type {\n",
       "        vertical-align: middle;\n",
       "    }\n",
       "\n",
       "    .dataframe tbody tr th {\n",
       "        vertical-align: top;\n",
       "    }\n",
       "\n",
       "    .dataframe thead th {\n",
       "        text-align: right;\n",
       "    }\n",
       "</style>\n",
       "<table border=\"1\" class=\"dataframe\">\n",
       "  <thead>\n",
       "    <tr style=\"text-align: right;\">\n",
       "      <th></th>\n",
       "      <th>operators</th>\n",
       "    </tr>\n",
       "  </thead>\n",
       "  <tbody>\n",
       "    <tr>\n",
       "      <td>Inefficient</td>\n",
       "      <td>333</td>\n",
       "    </tr>\n",
       "    <tr>\n",
       "      <td>Inefficient but engaged</td>\n",
       "      <td>135</td>\n",
       "    </tr>\n",
       "    <tr>\n",
       "      <td>Inefficient outgoing</td>\n",
       "      <td>129</td>\n",
       "    </tr>\n",
       "    <tr>\n",
       "      <td>Super efficient</td>\n",
       "      <td>113</td>\n",
       "    </tr>\n",
       "    <tr>\n",
       "      <td>Efficient</td>\n",
       "      <td>100</td>\n",
       "    </tr>\n",
       "    <tr>\n",
       "      <td>Missing: Danger</td>\n",
       "      <td>76</td>\n",
       "    </tr>\n",
       "    <tr>\n",
       "      <td>Super efficent incoming</td>\n",
       "      <td>73</td>\n",
       "    </tr>\n",
       "    <tr>\n",
       "      <td>Waiting: Danger</td>\n",
       "      <td>72</td>\n",
       "    </tr>\n",
       "    <tr>\n",
       "      <td>Efficient incoming</td>\n",
       "      <td>61</td>\n",
       "    </tr>\n",
       "  </tbody>\n",
       "</table>\n",
       "</div>"
      ],
      "text/plain": [
       "                         operators\n",
       "Inefficient                    333\n",
       "Inefficient but engaged        135\n",
       "Inefficient outgoing           129\n",
       "Super efficient                113\n",
       "Efficient                      100\n",
       "Missing: Danger                 76\n",
       "Super efficent incoming         73\n",
       "Waiting: Danger                 72\n",
       "Efficient incoming              61"
      ]
     },
     "execution_count": 99,
     "metadata": {},
     "output_type": "execute_result"
    }
   ],
   "source": [
    "tier_count=metrics.tier.value_counts()\n",
    "tier_count=tier_count.to_frame()\n",
    "tier_count.columns=['operators']\n",
    "tier_count"
   ]
  },
  {
   "cell_type": "code",
   "execution_count": 107,
   "metadata": {},
   "outputs": [
    {
     "data": {
      "image/png": "[encoded data removed]",
      "text/plain": [
       "<Figure size 504x504 with 1 Axes>"
      ]
     },
     "metadata": {},
     "output_type": "display_data"
    }
   ],
   "source": [
    "col=['#ff6347','#ff826b','#ff7259','springgreen','#00bfff','#ffae19','#4cffa5','#ffb732','#4cd2ff']\n",
    "tier_count.plot.pie(figsize=(7, 7), autopct='%1.1f%%', shadow = False, startangle = 99, colors=col,subplots=True)\n",
    "plt.title(\"Metric Tiers\");"
   ]
  },
  {
   "cell_type": "code",
   "execution_count": 123,
   "metadata": {},
   "outputs": [
    {
     "data": {
      "text/html": [
       "<div>\n",
       "<style scoped>\n",
       "    .dataframe tbody tr th:only-of-type {\n",
       "        vertical-align: middle;\n",
       "    }\n",
       "\n",
       "    .dataframe tbody tr th {\n",
       "        vertical-align: top;\n",
       "    }\n",
       "\n",
       "    .dataframe thead th {\n",
       "        text-align: right;\n",
       "    }\n",
       "</style>\n",
       "<table border=\"1\" class=\"dataframe\">\n",
       "  <thead>\n",
       "    <tr style=\"text-align: right;\">\n",
       "      <th></th>\n",
       "      <th>operators</th>\n",
       "    </tr>\n",
       "  </thead>\n",
       "  <tbody>\n",
       "    <tr>\n",
       "      <td>efficient</td>\n",
       "      <td>476</td>\n",
       "    </tr>\n",
       "    <tr>\n",
       "      <td>inefficient</td>\n",
       "      <td>288</td>\n",
       "    </tr>\n",
       "    <tr>\n",
       "      <td>danger zone</td>\n",
       "      <td>229</td>\n",
       "    </tr>\n",
       "    <tr>\n",
       "      <td>super efficient</td>\n",
       "      <td>99</td>\n",
       "    </tr>\n",
       "  </tbody>\n",
       "</table>\n",
       "</div>"
      ],
      "text/plain": [
       "                 operators\n",
       "efficient              476\n",
       "inefficient            288\n",
       "danger zone            229\n",
       "super efficient         99"
      ]
     },
     "execution_count": 123,
     "metadata": {},
     "output_type": "execute_result"
    }
   ],
   "source": [
    "score_count=metrics.score.value_counts()\n",
    "score_count=score_count.to_frame()\n",
    "score_count.columns=['operators']\n",
    "score_count"
   ]
  },
  {
   "cell_type": "code",
   "execution_count": 33,
   "metadata": {},
   "outputs": [
    {
     "data": {
      "image/png": "[encoded data removed]",
      "text/plain": [
       "<Figure size 504x504 with 1 Axes>"
      ]
     },
     "metadata": {},
     "output_type": "display_data"
    }
   ],
   "source": [
    "col=['#00bfff','#ff6347','#ffae19','springgreen']\n",
    "score_count.plot.pie(figsize=(7, 7), autopct='%1.1f%%', shadow = False, startangle = 185, colors=col,subplots=True)\n",
    "plt.title(\"Metric Scores\");"
   ]
  },
  {
   "cell_type": "markdown",
   "metadata": {},
   "source": [
    "<font color='#ffae19'><p style=\"font-size:17px\"><b>Considering the Two Metric Scoring Schemes</b></font><br>\n",
    "<p style=\"font-size:17px\">\n",
    "In the first grouping, by score sum, about 575 operators are efficient or super efficient, 229 are in the 'danger zone' and 288 are inefficient. In the second grouping, by manual sort into categories, 347 operators are efficient or super efficient, 148 are in the 'danger zone' and a whopping 597 are inefficient.\n",
    "<p style=\"font-size:17px\">\n",
    "The primary reason for the difference is that the outgoing call share had an equivalent impact to the other two metrics in the score sum. But in the manual categorization, a successful outgoing call rate could not compensate for mediocre performance on the other metrics: those operators would still be categorized as ineffective.\n",
    "    <p style=\"font-size:17px\">\n",
    "The categorization with more groupings sets a higher bar. The reason this could be necessary is that a long wait time or high missed call rate cannot be tolerated. So even if the outgoing call rate is acceptable or outstanding, that does not make a good operator out of one failing on wait time and missing calls. \n",
    "    <p style=\"font-size:17px\">\n",
    "Therefore, the results of the two scoring systems have the one main difference: the weighted system has 55% of operators classed as ineffective and the nonweighted sytem has nearly that same majority amount of efficient/super efficient operators. That gives it a whopping 20% more super or efficient operators than the weighted tally. There are more operators in the danger zone in the weighted scoring as well. <br><br><font color='#461B7E' font size=4>\n",
    "Although, on first glance, it would seem that the segmentation with more categories and a greater emphasis on the wait time and missed call metrics would most clearly delineate poorly-performing operators, the quality of both segmentation schemes remains to be seen.</font> <br><p style=\"font-size:17px\">\n",
    "For that reason, I will compare the differences between segments in a series of statistical tests.<br>\n",
    "The first comparison mixes the segmentation groups - culling only the operators that rank the best and the worst in both segmentation schemes.<br><p style=\"font-size:17px\">\n",
    "The next comparisons are between the tier categories. The first set of comparisons pits the efficient tier against the inefficient tiers. One comparison is with the inefficient tier that handles outgoing calls: the sample for the efficient tier and that inefficient outgoing tier are close in size. The other comparison is between the efficient tier and the general inefficient tier.<br><p style=\"font-size:17px\">\n",
    "The final tier comparisons are for the super efficient tiers against the efficient tier and then the inefficient tier. Then the danger tiers against the efficient tier and the inefficient tier.<br><br>\n",
    "Next, there are statistical tests for the four scored groups.<br>\n",
    "Efficient scored operator metrics are compared against inefficient, super efficient and danger zone scored operator metrics. Then danger zone operator metrics are compared against those scored inefficient.<br><br>\n",
    "A tally of those test results will likely shed light on the ability of the two segmentation schemes to differentiate between operator performance categories."
   ]
  },
  {
   "cell_type": "markdown",
   "metadata": {},
   "source": [
    "<font color='deepskyblue'><p style=\"font-size:17px\"><b>Preparing scored and tiered groupings for comparison and statistical testing</b></font><br>\n",
    "<p style=\"font-size:17px\">"
   ]
  },
  {
   "cell_type": "code",
   "execution_count": 159,
   "metadata": {},
   "outputs": [
    {
     "data": {
      "text/plain": [
       "63"
      ]
     },
     "execution_count": 159,
     "metadata": {},
     "output_type": "execute_result"
    }
   ],
   "source": [
    "#finding the highest performing operators in both scoring schemes\n",
    "best = metrics[(metrics['score'] == 'super efficient') & (metrics['tier'] == 'Super efficient')]\n",
    "bestops=best.operator_id.to_list()\n",
    "bestarray=np.array(bestops)\n",
    "len(bestops)"
   ]
  },
  {
   "cell_type": "code",
   "execution_count": 160,
   "metadata": {},
   "outputs": [
    {
     "data": {
      "text/plain": [
       "174"
      ]
     },
     "execution_count": 160,
     "metadata": {},
     "output_type": "execute_result"
    }
   ],
   "source": [
    "#finding the lowest performing operators in both scoring schemes\n",
    "extremelybad=metrics[(metrics['score'] == 'inefficient') & (metrics['tier'] == 'Inefficient')]\n",
    "extremelybadops=extremelybad.operator_id.to_list()\n",
    "extremelybadopsarray=np.array(extremelybadops)\n",
    "len(extremelybadops)"
   ]
  },
  {
   "cell_type": "code",
   "execution_count": 113,
   "metadata": {},
   "outputs": [],
   "source": [
    "#creating lists of specific metrics to compare in statistical testing\n",
    "extremelybad_duration=extremelybad.total_duration.to_list()\n",
    "extremelybad_callamt=extremelybad.calls_per_op.to_list()\n",
    "extremelybad_missed=extremelybad.missed_total.to_list()\n",
    "extremelybad_wait=extremelybad.wait_total.to_list()\n",
    "\n",
    "best_duration=best.total_duration.to_list()\n",
    "best_callamt=best.calls_per_op.to_list()\n",
    "best_wait=best.wait_total.to_list()\n",
    "best_missed=best.missed_total.to_list()"
   ]
  },
  {
   "cell_type": "code",
   "execution_count": 114,
   "metadata": {},
   "outputs": [
    {
     "data": {
      "text/plain": [
       "113"
      ]
     },
     "execution_count": 114,
     "metadata": {},
     "output_type": "execute_result"
    }
   ],
   "source": [
    "superefficient_tier = metrics[(metrics['tier'] == 'Super efficient incoming') | (metrics['tier'] == 'Super efficient')]\n",
    "superefficient_tier_duration=superefficient_tier.total_duration.to_list()\n",
    "superefficient_tier_callamt=superefficient_tier.calls_per_op.to_list()\n",
    "superefficient_tier_wait=superefficient_tier.wait_total.to_list()\n",
    "superefficient_tier_missed=superefficient_tier.missed_total.to_list()\n",
    "superefficient_tier.shape[0]"
   ]
  },
  {
   "cell_type": "code",
   "execution_count": 115,
   "metadata": {},
   "outputs": [
    {
     "data": {
      "text/plain": [
       "333"
      ]
     },
     "execution_count": 115,
     "metadata": {},
     "output_type": "execute_result"
    }
   ],
   "source": [
    "inefficient_tier = metrics[(metrics['tier'] == 'Inefficient')]\n",
    "inefficient_tier_duration=inefficient_tier.total_duration.to_list()\n",
    "inefficient_tier_callamt=inefficient_tier.calls_per_op.to_list()\n",
    "inefficient_tier_wait=inefficient_tier.wait_total.to_list()\n",
    "inefficient_tier_missed=inefficient_tier.missed_total.to_list()\n",
    "inefficient_tier.shape[0]"
   ]
  },
  {
   "cell_type": "code",
   "execution_count": 116,
   "metadata": {},
   "outputs": [
    {
     "data": {
      "text/plain": [
       "100"
      ]
     },
     "execution_count": 116,
     "metadata": {},
     "output_type": "execute_result"
    }
   ],
   "source": [
    "efficient_tier = metrics[metrics.tier == 'Efficient']\n",
    "efficient_tier_duration=efficient_tier.total_duration.to_list()\n",
    "efficient_tier_callamt=efficient_tier.calls_per_op.to_list()\n",
    "efficient_tier_wait=efficient_tier.wait_total.to_list()\n",
    "efficient_tier_missed=efficient_tier.missed_total.to_list()\n",
    "efficient_tier.shape[0]"
   ]
  },
  {
   "cell_type": "code",
   "execution_count": 117,
   "metadata": {},
   "outputs": [
    {
     "data": {
      "text/plain": [
       "129"
      ]
     },
     "execution_count": 117,
     "metadata": {},
     "output_type": "execute_result"
    }
   ],
   "source": [
    "inefficient_outgo_tier = metrics[(metrics['tier'] == 'Inefficient outgoing')]\n",
    "inefficient_outgo_tier_duration=inefficient_outgo_tier.total_duration.to_list()\n",
    "inefficient_outgo_tier_callamt=inefficient_outgo_tier.calls_per_op.to_list()\n",
    "inefficient_outgo_tier_wait=inefficient_outgo_tier.wait_total.to_list()\n",
    "inefficient_outgo_tier_missed=inefficient_outgo_tier.missed_total.to_list()\n",
    "inefficient_outgo_tier.shape[0]"
   ]
  },
  {
   "cell_type": "code",
   "execution_count": 118,
   "metadata": {},
   "outputs": [
    {
     "data": {
      "text/plain": [
       "148"
      ]
     },
     "execution_count": 118,
     "metadata": {},
     "output_type": "execute_result"
    }
   ],
   "source": [
    "danger_tier = metrics[(metrics['tier'] == 'Missing: Danger') | (metrics['tier'] == 'Waiting: Danger')]\n",
    "danger_tier_duration=danger_tier.total_duration.to_list()\n",
    "danger_tier_callamt=danger_tier.calls_per_op.to_list()\n",
    "danger_tier_wait=danger_tier.wait_total.to_list()\n",
    "danger_tier_missed=danger_tier.missed_total.to_list()\n",
    "danger_tier.shape[0]"
   ]
  },
  {
   "cell_type": "code",
   "execution_count": 119,
   "metadata": {},
   "outputs": [
    {
     "data": {
      "text/plain": [
       "99"
      ]
     },
     "execution_count": 119,
     "metadata": {},
     "output_type": "execute_result"
    }
   ],
   "source": [
    "superefficient_score = metrics[metrics['score'] == 'super efficient']\n",
    "superefficient_score_duration=superefficient_score.total_duration.to_list()\n",
    "superefficient_score_callamt=superefficient_score.calls_per_op.to_list()\n",
    "superefficient_score_wait=superefficient_score.wait_total.to_list()\n",
    "superefficient_score_missed=superefficient_score.missed_total.to_list()\n",
    "superefficient_score.shape[0]"
   ]
  },
  {
   "cell_type": "code",
   "execution_count": 120,
   "metadata": {},
   "outputs": [
    {
     "data": {
      "text/plain": [
       "476"
      ]
     },
     "execution_count": 120,
     "metadata": {},
     "output_type": "execute_result"
    }
   ],
   "source": [
    "efficient_score = metrics[metrics['score'] == 'efficient']\n",
    "efficient_score_duration=efficient_score.total_duration.to_list()\n",
    "efficient_score_callamt=efficient_score.calls_per_op.to_list()\n",
    "efficient_score_wait=efficient_score.wait_total.to_list()\n",
    "efficient_score_missed=efficient_score.missed_total.to_list()\n",
    "efficient_score.shape[0]"
   ]
  },
  {
   "cell_type": "code",
   "execution_count": 121,
   "metadata": {},
   "outputs": [
    {
     "data": {
      "text/plain": [
       "288"
      ]
     },
     "execution_count": 121,
     "metadata": {},
     "output_type": "execute_result"
    }
   ],
   "source": [
    "inefficient_score = metrics[metrics['score'] == 'inefficient']\n",
    "inefficient_score_duration=inefficient_score.total_duration.to_list()\n",
    "inefficient_score_callamt=inefficient_score.calls_per_op.to_list()\n",
    "inefficient_score_wait=inefficient_score.wait_total.to_list()\n",
    "inefficient_score_missed=inefficient_score.missed_total.to_list()\n",
    "inefficient_score.shape[0]"
   ]
  },
  {
   "cell_type": "code",
   "execution_count": 122,
   "metadata": {},
   "outputs": [
    {
     "data": {
      "text/plain": [
       "229"
      ]
     },
     "execution_count": 122,
     "metadata": {},
     "output_type": "execute_result"
    }
   ],
   "source": [
    "danger_score = metrics[metrics['score'] == 'danger zone']\n",
    "danger_score_duration=danger_score.total_duration.to_list()\n",
    "danger_score_callamt=danger_score.calls_per_op.to_list()\n",
    "danger_score_wait=danger_score.wait_total.to_list()\n",
    "danger_score_missed=danger_score.missed_total.to_list()\n",
    "danger_score.shape[0]"
   ]
  },
  {
   "cell_type": "markdown",
   "metadata": {},
   "source": [
    "<div class=\"info\">\n",
    "Here were half a dozen code cells for pivot tables and other organization for the segmented and scored data metrics, followed by half a dozen cells for export to Excel format. That process evolved as the visual analysis expanded in Tableau.\n",
    "    \n",
    "The location here impeded the flow from data preparation for statistical testing to the tests themselves, so I moved those cells to the end.  \n",
    "</div>"
   ]
  },
  {
   "cell_type": "markdown",
   "metadata": {},
   "source": [
    "<font color='#15317E'><h3>Statistical Testing Metrics</h3>"
   ]
  },
  {
   "cell_type": "markdown",
   "metadata": {},
   "source": [
    "<p style=\"font-size:17px\">The Wilcoxon Mann Whitney statistical test was chosen because it is nonparametric so no normal distribution would be required. <br>It can be used in cases of unequal sample size.<br>\n",
    "In that way, it is possible to compare all values in a tier compared to all values in another tier of unequal size."
   ]
  },
  {
   "cell_type": "code",
   "execution_count": 123,
   "metadata": {},
   "outputs": [],
   "source": [
    "def check_hypothesis(group1,group2,name1,name2,measure,alpha=0.05):\n",
    "    \n",
    "    result=st.mannwhitneyu(group1, group2, alternative='two-sided')\n",
    "     \n",
    "    print(\n",
    "    \"\\nH0: There is no statistical difference in\",measure,\"between operators who are\",name1,\"and those who are\",name2,\n",
    "    \"\\nH1: There is sufficient evidence to say that there is a difference in the true mean between groups.\\n\")\n",
    "    print(result)\n",
    "    \n",
    "    if result.pvalue<alpha:\n",
    "        print(\"This test\"+style.BRED+\" rejects \"+style.END+\"the null hypothesis.\\n\")\n",
    "    elif result.pvalue>alpha:\n",
    "        print(\"This test\"+ style.DBLUE + style.BOLD + \" failed to reject \" + style.END + \"the null hypothesis.\\n\")"
   ]
  },
  {
   "cell_type": "code",
   "execution_count": 124,
   "metadata": {},
   "outputs": [],
   "source": [
    "def run_check(lists,group1,group2):\n",
    "    m=['Total Call Duration','Call Amount per Operator','Total Wait Time','Total Missed Calls']\n",
    "    check_hypothesis(lists[0],lists[1],group1,group2,m[0],alpha=0.5)\n",
    "    check_hypothesis(lists[2],lists[3],group1,group2,m[1],alpha=0.5)\n",
    "    check_hypothesis(lists[4],lists[5],group1,group2,m[2],alpha=0.5)\n",
    "    check_hypothesis(lists[6],lists[7],group1,group2,m[3],alpha=0.5)"
   ]
  },
  {
   "cell_type": "code",
   "execution_count": 125,
   "metadata": {},
   "outputs": [
    {
     "name": "stdout",
     "output_type": "stream",
     "text": [
      "\n",
      "H0: There is no statistical difference in Total Call Duration between operators who are least efficient and those who are most efficient \n",
      "H1: There is sufficient evidence to say that there is a difference in the true mean between groups.\n",
      "\n",
      "MannwhitneyuResult(statistic=3401.0, pvalue=8.20303832885029e-06)\n",
      "This test\u001b[31;1m rejects \u001b[0mthe null hypothesis.\n",
      "\n",
      "\n",
      "H0: There is no statistical difference in Call Amount per Operator between operators who are least efficient and those who are most efficient \n",
      "H1: There is sufficient evidence to say that there is a difference in the true mean between groups.\n",
      "\n",
      "MannwhitneyuResult(statistic=4283.0, pvalue=0.010083005209281267)\n",
      "This test\u001b[31;1m rejects \u001b[0mthe null hypothesis.\n",
      "\n",
      "\n",
      "H0: There is no statistical difference in Total Wait Time between operators who are least efficient and those who are most efficient \n",
      "H1: There is sufficient evidence to say that there is a difference in the true mean between groups.\n",
      "\n",
      "MannwhitneyuResult(statistic=5191.0, pvalue=0.5346736986691731)\n",
      "This test\u001b[38;5;30m\u001b[1m failed to reject \u001b[0mthe null hypothesis.\n",
      "\n",
      "\n",
      "H0: There is no statistical difference in Total Missed Calls between operators who are least efficient and those who are most efficient \n",
      "H1: There is sufficient evidence to say that there is a difference in the true mean between groups.\n",
      "\n",
      "MannwhitneyuResult(statistic=5078.5, pvalue=0.3811240026756664)\n",
      "This test\u001b[31;1m rejects \u001b[0mthe null hypothesis.\n",
      "\n"
     ]
    }
   ],
   "source": [
    "listxtreme=[\n",
    "    extremelybad_duration, best_duration, extremelybad_callamt, best_callamt, extremelybad_wait, best_wait,extremelybad_missed, best_missed]\n",
    "\n",
    "run_check(listxtreme,'least efficient','most efficient')"
   ]
  },
  {
   "cell_type": "code",
   "execution_count": 370,
   "metadata": {},
   "outputs": [
    {
     "name": "stdout",
     "output_type": "stream",
     "text": [
      "\n",
      "H0: There is no statistical difference in Total Call Duration between operators who are efficient and those who are inefficient outgoing \n",
      "H1: There is sufficient evidence to say that there is a difference in the true mean between groups.\n",
      "\n",
      "MannwhitneyuResult(statistic=7692.0, pvalue=0.012532727740308162)\n",
      "This test\u001b[31;1m rejects \u001b[0mthe null hypothesis.\n",
      "\n",
      "\n",
      "H0: There is no statistical difference in Call Amount per Operator between operators who are efficient and those who are inefficient outgoing \n",
      "H1: There is sufficient evidence to say that there is a difference in the true mean between groups.\n",
      "\n",
      "MannwhitneyuResult(statistic=10019.0, pvalue=6.787133260960276e-13)\n",
      "This test\u001b[31;1m rejects \u001b[0mthe null hypothesis.\n",
      "\n",
      "\n",
      "H0: There is no statistical difference in Total Wait Time between operators who are efficient and those who are inefficient outgoing \n",
      "H1: There is sufficient evidence to say that there is a difference in the true mean between groups.\n",
      "\n",
      "MannwhitneyuResult(statistic=6626.0, pvalue=0.7241269073196563)\n",
      "This test\u001b[38;5;30m\u001b[1m failed to reject \u001b[0mthe null hypothesis.\n",
      "\n",
      "\n",
      "H0: There is no statistical difference in Total Missed Calls between operators who are efficient and those who are inefficient outgoing \n",
      "H1: There is sufficient evidence to say that there is a difference in the true mean between groups.\n",
      "\n",
      "MannwhitneyuResult(statistic=8280.5, pvalue=0.0002209167690544715)\n",
      "This test\u001b[31;1m rejects \u001b[0mthe null hypothesis.\n",
      "\n"
     ]
    }
   ],
   "source": [
    "listeff_ineffic_outgo=[\n",
    "    efficient_tier_duration,inefficient_outgo_tier_duration, efficient_tier_callamt, inefficient_outgo_tier_callamt, efficient_tier_wait, inefficient_outgo_tier_wait,efficient_tier_missed, inefficient_outgo_tier_missed]\n",
    "\n",
    "run_check(listeff_ineffic_outgo,'efficient','inefficient outgoing')"
   ]
  },
  {
   "cell_type": "code",
   "execution_count": 126,
   "metadata": {},
   "outputs": [
    {
     "name": "stdout",
     "output_type": "stream",
     "text": [
      "\n",
      "H0: There is no statistical difference in Total Call Duration between operators who are efficient and those who are inefficient \n",
      "H1: There is sufficient evidence to say that there is a difference in the true mean between groups.\n",
      "\n",
      "MannwhitneyuResult(statistic=20324.5, pvalue=0.0008144766800368766)\n",
      "This test\u001b[31;1m rejects \u001b[0mthe null hypothesis.\n",
      "\n",
      "\n",
      "H0: There is no statistical difference in Call Amount per Operator between operators who are efficient and those who are inefficient \n",
      "H1: There is sufficient evidence to say that there is a difference in the true mean between groups.\n",
      "\n",
      "MannwhitneyuResult(statistic=23789.0, pvalue=7.585375769493787e-11)\n",
      "This test\u001b[31;1m rejects \u001b[0mthe null hypothesis.\n",
      "\n",
      "\n",
      "H0: There is no statistical difference in Total Wait Time between operators who are efficient and those who are inefficient \n",
      "H1: There is sufficient evidence to say that there is a difference in the true mean between groups.\n",
      "\n",
      "MannwhitneyuResult(statistic=18333.5, pvalue=0.12513074696420412)\n",
      "This test\u001b[31;1m rejects \u001b[0mthe null hypothesis.\n",
      "\n",
      "\n",
      "H0: There is no statistical difference in Total Missed Calls between operators who are efficient and those who are inefficient \n",
      "H1: There is sufficient evidence to say that there is a difference in the true mean between groups.\n",
      "\n",
      "MannwhitneyuResult(statistic=22200.0, pvalue=3.627313728911049e-07)\n",
      "This test\u001b[31;1m rejects \u001b[0mthe null hypothesis.\n",
      "\n"
     ]
    }
   ],
   "source": [
    "listefficient_ineffic=[\n",
    "    efficient_tier_duration,inefficient_tier_duration, efficient_tier_callamt, inefficient_tier_callamt, efficient_tier_wait, inefficient_tier_wait,efficient_tier_missed, inefficient_tier_missed]\n",
    "\n",
    "run_check(listefficient_ineffic,'efficient','inefficient')"
   ]
  },
  {
   "cell_type": "code",
   "execution_count": 63,
   "metadata": {},
   "outputs": [
    {
     "name": "stdout",
     "output_type": "stream",
     "text": [
      "\n",
      "H0: There is no statistical difference in Total Call Duration between operators who are Extremely efficient and those who are efficient \n",
      "H1: There is sufficient evidence to say that there is a difference in the true mean between groups.\n",
      "\n",
      "MannwhitneyuResult(statistic=5360.5, pvalue=0.5197132865483599)\n",
      "This test\u001b[38;5;30m\u001b[1m failed to reject \u001b[0mthe null hypothesis.\n",
      "\n",
      "\n",
      "H0: There is no statistical difference in Call Amount per Operator between operators who are Extremely efficient and those who are efficient \n",
      "H1: There is sufficient evidence to say that there is a difference in the true mean between groups.\n",
      "\n",
      "MannwhitneyuResult(statistic=4596.5, pvalue=0.018973651583782867)\n",
      "This test\u001b[31;1m rejects \u001b[0mthe null hypothesis.\n",
      "\n",
      "\n",
      "H0: There is no statistical difference in Total Wait Time between operators who are Extremely efficient and those who are efficient \n",
      "H1: There is sufficient evidence to say that there is a difference in the true mean between groups.\n",
      "\n",
      "MannwhitneyuResult(statistic=4165.0, pvalue=0.0009432242588610281)\n",
      "This test\u001b[31;1m rejects \u001b[0mthe null hypothesis.\n",
      "\n",
      "\n",
      "H0: There is no statistical difference in Total Missed Calls between operators who are Extremely efficient and those who are efficient \n",
      "H1: There is sufficient evidence to say that there is a difference in the true mean between groups.\n",
      "\n",
      "MannwhitneyuResult(statistic=4311.5, pvalue=0.002841587987292996)\n",
      "This test\u001b[31;1m rejects \u001b[0mthe null hypothesis.\n",
      "\n"
     ]
    }
   ],
   "source": [
    "listsuperefficient_effic=[\n",
    "    superefficient_tier_duration,efficient_tier_duration, superefficient_tier_callamt, efficient_tier_callamt, superefficient_tier_wait, efficient_tier_wait,superefficient_tier_missed, efficient_tier_missed]\n",
    "run_check(listsuperefficient_effic,'Extremely efficient','efficient')"
   ]
  },
  {
   "cell_type": "code",
   "execution_count": 127,
   "metadata": {},
   "outputs": [
    {
     "name": "stdout",
     "output_type": "stream",
     "text": [
      "\n",
      "H0: There is no statistical difference in Total Call Duration between operators who are Extremely efficient and those who are inefficient \n",
      "H1: There is sufficient evidence to say that there is a difference in the true mean between groups.\n",
      "\n",
      "MannwhitneyuResult(statistic=22644.0, pvalue=0.0012200228677860254)\n",
      "This test\u001b[31;1m rejects \u001b[0mthe null hypothesis.\n",
      "\n",
      "\n",
      "H0: There is no statistical difference in Call Amount per Operator between operators who are Extremely efficient and those who are inefficient \n",
      "H1: There is sufficient evidence to say that there is a difference in the true mean between groups.\n",
      "\n",
      "MannwhitneyuResult(statistic=23926.0, pvalue=1.5606890668326547e-05)\n",
      "This test\u001b[31;1m rejects \u001b[0mthe null hypothesis.\n",
      "\n",
      "\n",
      "H0: There is no statistical difference in Total Wait Time between operators who are Extremely efficient and those who are inefficient \n",
      "H1: There is sufficient evidence to say that there is a difference in the true mean between groups.\n",
      "\n",
      "MannwhitneyuResult(statistic=17744.5, pvalue=0.3663379001404151)\n",
      "This test\u001b[31;1m rejects \u001b[0mthe null hypothesis.\n",
      "\n",
      "\n",
      "H0: There is no statistical difference in Total Missed Calls between operators who are Extremely efficient and those who are inefficient \n",
      "H1: There is sufficient evidence to say that there is a difference in the true mean between groups.\n",
      "\n",
      "MannwhitneyuResult(statistic=21183.5, pvalue=0.043694961958413756)\n",
      "This test\u001b[31;1m rejects \u001b[0mthe null hypothesis.\n",
      "\n"
     ]
    }
   ],
   "source": [
    "listsuperefficient_ineffic=[\n",
    "    superefficient_tier_duration,inefficient_tier_duration, superefficient_tier_callamt, inefficient_tier_callamt, superefficient_tier_wait, inefficient_tier_wait,superefficient_tier_missed, inefficient_tier_missed]\n",
    "run_check(listsuperefficient_ineffic,'Extremely efficient','inefficient')"
   ]
  },
  {
   "cell_type": "code",
   "execution_count": 128,
   "metadata": {},
   "outputs": [
    {
     "name": "stdout",
     "output_type": "stream",
     "text": [
      "\n",
      "H0: There is no statistical difference in Total Call Duration between operators who are in the danger zone and those who are inefficient \n",
      "H1: There is sufficient evidence to say that there is a difference in the true mean between groups.\n",
      "\n",
      "MannwhitneyuResult(statistic=31069.0, pvalue=4.933214190933239e-06)\n",
      "This test\u001b[31;1m rejects \u001b[0mthe null hypothesis.\n",
      "\n",
      "\n",
      "H0: There is no statistical difference in Call Amount per Operator between operators who are in the danger zone and those who are inefficient \n",
      "H1: There is sufficient evidence to say that there is a difference in the true mean between groups.\n",
      "\n",
      "MannwhitneyuResult(statistic=34857.5, pvalue=3.769184604769768e-13)\n",
      "This test\u001b[31;1m rejects \u001b[0mthe null hypothesis.\n",
      "\n",
      "\n",
      "H0: There is no statistical difference in Total Wait Time between operators who are in the danger zone and those who are inefficient \n",
      "H1: There is sufficient evidence to say that there is a difference in the true mean between groups.\n",
      "\n",
      "MannwhitneyuResult(statistic=29301.5, pvalue=0.0009284007833625892)\n",
      "This test\u001b[31;1m rejects \u001b[0mthe null hypothesis.\n",
      "\n",
      "\n",
      "H0: There is no statistical difference in Total Missed Calls between operators who are in the danger zone and those who are inefficient \n",
      "H1: There is sufficient evidence to say that there is a difference in the true mean between groups.\n",
      "\n",
      "MannwhitneyuResult(statistic=34169.0, pvalue=1.0439603289222241e-11)\n",
      "This test\u001b[31;1m rejects \u001b[0mthe null hypothesis.\n",
      "\n"
     ]
    }
   ],
   "source": [
    "listdanger_ineffic=[\n",
    "    danger_tier_duration,inefficient_tier_duration, danger_tier_callamt, inefficient_tier_callamt, danger_tier_wait, inefficient_tier_wait,danger_tier_missed, inefficient_tier_missed]\n",
    "\n",
    "run_check(listdanger_ineffic,'in the danger zone','inefficient')"
   ]
  },
  {
   "cell_type": "code",
   "execution_count": 374,
   "metadata": {},
   "outputs": [
    {
     "name": "stdout",
     "output_type": "stream",
     "text": [
      "\n",
      "H0: There is no statistical difference in Total Call Duration between operators who are in the danger zone and those who are efficient \n",
      "H1: There is sufficient evidence to say that there is a difference in the true mean between groups.\n",
      "\n",
      "MannwhitneyuResult(statistic=7865.0, pvalue=0.40192038813767883)\n",
      "This test\u001b[31;1m rejects \u001b[0mthe null hypothesis.\n",
      "\n",
      "\n",
      "H0: There is no statistical difference in Call Amount per Operator between operators who are in the danger zone and those who are efficient \n",
      "H1: There is sufficient evidence to say that there is a difference in the true mean between groups.\n",
      "\n",
      "MannwhitneyuResult(statistic=7145.5, pvalue=0.6466493266808013)\n",
      "This test\u001b[38;5;30m\u001b[1m failed to reject \u001b[0mthe null hypothesis.\n",
      "\n",
      "\n",
      "H0: There is no statistical difference in Total Wait Time between operators who are in the danger zone and those who are efficient \n",
      "H1: There is sufficient evidence to say that there is a difference in the true mean between groups.\n",
      "\n",
      "MannwhitneyuResult(statistic=8312.5, pvalue=0.0998220131481079)\n",
      "This test\u001b[31;1m rejects \u001b[0mthe null hypothesis.\n",
      "\n",
      "\n",
      "H0: There is no statistical difference in Total Missed Calls between operators who are in the danger zone and those who are efficient \n",
      "H1: There is sufficient evidence to say that there is a difference in the true mean between groups.\n",
      "\n",
      "MannwhitneyuResult(statistic=7932.5, pvalue=0.3366163565891327)\n",
      "This test\u001b[31;1m rejects \u001b[0mthe null hypothesis.\n",
      "\n"
     ]
    }
   ],
   "source": [
    "listdanger_effic=[\n",
    "    danger_tier_duration, efficient_tier_duration, danger_tier_callamt, efficient_tier_callamt, danger_tier_wait, efficient_tier_wait,danger_tier_missed, efficient_tier_missed]\n",
    "\n",
    "run_check(listdanger_effic,'in the danger zone','efficient')"
   ]
  },
  {
   "cell_type": "code",
   "execution_count": 129,
   "metadata": {},
   "outputs": [
    {
     "name": "stdout",
     "output_type": "stream",
     "text": [
      "\n",
      "H0: There is no statistical difference in Total Call Duration between operators who are efficient and those who are inefficient \n",
      "H1: There is sufficient evidence to say that there is a difference in the true mean between groups.\n",
      "\n",
      "MannwhitneyuResult(statistic=90459.5, pvalue=1.2334817113841347e-13)\n",
      "This test\u001b[31;1m rejects \u001b[0mthe null hypothesis.\n",
      "\n",
      "\n",
      "H0: There is no statistical difference in Call Amount per Operator between operators who are efficient and those who are inefficient \n",
      "H1: There is sufficient evidence to say that there is a difference in the true mean between groups.\n",
      "\n",
      "MannwhitneyuResult(statistic=92719.0, pvalue=2.7473664135831535e-16)\n",
      "This test\u001b[31;1m rejects \u001b[0mthe null hypothesis.\n",
      "\n",
      "\n",
      "H0: There is no statistical difference in Total Wait Time between operators who are efficient and those who are inefficient \n",
      "H1: There is sufficient evidence to say that there is a difference in the true mean between groups.\n",
      "\n",
      "MannwhitneyuResult(statistic=77707.0, pvalue=0.0019392302808978923)\n",
      "This test\u001b[31;1m rejects \u001b[0mthe null hypothesis.\n",
      "\n",
      "\n",
      "H0: There is no statistical difference in Total Missed Calls between operators who are efficient and those who are inefficient \n",
      "H1: There is sufficient evidence to say that there is a difference in the true mean between groups.\n",
      "\n",
      "MannwhitneyuResult(statistic=77538.0, pvalue=0.0022085337857354077)\n",
      "This test\u001b[31;1m rejects \u001b[0mthe null hypothesis.\n",
      "\n"
     ]
    }
   ],
   "source": [
    "scoreffic_ineff=[\n",
    "    efficient_score_duration,inefficient_score_duration, efficient_score_callamt, inefficient_score_callamt, efficient_score_wait, inefficient_score_wait,efficient_score_missed, inefficient_score_missed]\n",
    "\n",
    "run_check(scoreffic_ineff,'efficient','inefficient')"
   ]
  },
  {
   "cell_type": "code",
   "execution_count": 130,
   "metadata": {},
   "outputs": [
    {
     "name": "stdout",
     "output_type": "stream",
     "text": [
      "\n",
      "H0: There is no statistical difference in Total Call Duration between operators who are efficient and those who are extremely efficient \n",
      "H1: There is sufficient evidence to say that there is a difference in the true mean between groups.\n",
      "\n",
      "MannwhitneyuResult(statistic=25999.5, pvalue=0.1051529580437841)\n",
      "This test\u001b[31;1m rejects \u001b[0mthe null hypothesis.\n",
      "\n",
      "\n",
      "H0: There is no statistical difference in Call Amount per Operator between operators who are efficient and those who are extremely efficient \n",
      "H1: There is sufficient evidence to say that there is a difference in the true mean between groups.\n",
      "\n",
      "MannwhitneyuResult(statistic=26286.0, pvalue=0.07007572666367903)\n",
      "This test\u001b[31;1m rejects \u001b[0mthe null hypothesis.\n",
      "\n",
      "\n",
      "H0: There is no statistical difference in Total Wait Time between operators who are efficient and those who are extremely efficient \n",
      "H1: There is sufficient evidence to say that there is a difference in the true mean between groups.\n",
      "\n",
      "MannwhitneyuResult(statistic=28755.5, pvalue=0.0005546999172900423)\n",
      "This test\u001b[31;1m rejects \u001b[0mthe null hypothesis.\n",
      "\n",
      "\n",
      "H0: There is no statistical difference in Total Missed Calls between operators who are efficient and those who are extremely efficient \n",
      "H1: There is sufficient evidence to say that there is a difference in the true mean between groups.\n",
      "\n",
      "MannwhitneyuResult(statistic=25216.5, pvalue=0.2685860314292331)\n",
      "This test\u001b[31;1m rejects \u001b[0mthe null hypothesis.\n",
      "\n"
     ]
    }
   ],
   "source": [
    "scoreffic_super=[\n",
    "    efficient_score_duration,superefficient_score_duration, efficient_score_callamt, superefficient_score_callamt, efficient_score_wait, superefficient_score_wait,efficient_score_missed, superefficient_score_missed]\n",
    "\n",
    "run_check(scoreffic_super,'efficient','extremely efficient')"
   ]
  },
  {
   "cell_type": "code",
   "execution_count": 377,
   "metadata": {},
   "outputs": [
    {
     "name": "stdout",
     "output_type": "stream",
     "text": [
      "\n",
      "H0: There is no statistical difference in Total Call Duration between operators who are efficient and those who are in the danger zone \n",
      "H1: There is sufficient evidence to say that there is a difference in the true mean between groups.\n",
      "\n",
      "MannwhitneyuResult(statistic=60644.5, pvalue=0.015293028010072297)\n",
      "This test\u001b[31;1m rejects \u001b[0mthe null hypothesis.\n",
      "\n",
      "\n",
      "H0: There is no statistical difference in Call Amount per Operator between operators who are efficient and those who are in the danger zone \n",
      "H1: There is sufficient evidence to say that there is a difference in the true mean between groups.\n",
      "\n",
      "MannwhitneyuResult(statistic=51836.5, pvalue=0.29252685200333073)\n",
      "This test\u001b[31;1m rejects \u001b[0mthe null hypothesis.\n",
      "\n",
      "\n",
      "H0: There is no statistical difference in Total Wait Time between operators who are efficient and those who are in the danger zone \n",
      "H1: There is sufficient evidence to say that there is a difference in the true mean between groups.\n",
      "\n",
      "MannwhitneyuResult(statistic=69194.0, pvalue=6.575896813199408e-09)\n",
      "This test\u001b[31;1m rejects \u001b[0mthe null hypothesis.\n",
      "\n",
      "\n",
      "H0: There is no statistical difference in Total Missed Calls between operators who are efficient and those who are in the danger zone \n",
      "H1: There is sufficient evidence to say that there is a difference in the true mean between groups.\n",
      "\n",
      "MannwhitneyuResult(statistic=57787.0, pvalue=0.19259278675893)\n",
      "This test\u001b[31;1m rejects \u001b[0mthe null hypothesis.\n",
      "\n"
     ]
    }
   ],
   "source": [
    "scoreffic_danger=[\n",
    "    danger_score_duration,efficient_score_duration, danger_score_callamt, efficient_score_callamt, danger_score_wait, efficient_score_wait, danger_score_missed, efficient_score_missed]\n",
    "\n",
    "run_check(scoreffic_danger,'efficient','in the danger zone')"
   ]
  },
  {
   "cell_type": "code",
   "execution_count": 131,
   "metadata": {},
   "outputs": [
    {
     "name": "stdout",
     "output_type": "stream",
     "text": [
      "\n",
      "H0: There is no statistical difference in Total Call Duration between operators who are inefficient and those who are in the danger zone \n",
      "H1: There is sufficient evidence to say that there is a difference in the true mean between groups.\n",
      "\n",
      "MannwhitneyuResult(statistic=45793.5, pvalue=3.0486308079731156e-14)\n",
      "This test\u001b[31;1m rejects \u001b[0mthe null hypothesis.\n",
      "\n",
      "\n",
      "H0: There is no statistical difference in Call Amount per Operator between operators who are inefficient and those who are in the danger zone \n",
      "H1: There is sufficient evidence to say that there is a difference in the true mean between groups.\n",
      "\n",
      "MannwhitneyuResult(statistic=44406.0, pvalue=1.1931472830010195e-11)\n",
      "This test\u001b[31;1m rejects \u001b[0mthe null hypothesis.\n",
      "\n",
      "\n",
      "H0: There is no statistical difference in Total Wait Time between operators who are inefficient and those who are in the danger zone \n",
      "H1: There is sufficient evidence to say that there is a difference in the true mean between groups.\n",
      "\n",
      "MannwhitneyuResult(statistic=43109.0, pvalue=1.91053070253194e-09)\n",
      "This test\u001b[31;1m rejects \u001b[0mthe null hypothesis.\n",
      "\n",
      "\n",
      "H0: There is no statistical difference in Total Missed Calls between operators who are inefficient and those who are in the danger zone \n",
      "H1: There is sufficient evidence to say that there is a difference in the true mean between groups.\n",
      "\n",
      "MannwhitneyuResult(statistic=39794.0, pvalue=4.880397528824295e-05)\n",
      "This test\u001b[31;1m rejects \u001b[0mthe null hypothesis.\n",
      "\n"
     ]
    }
   ],
   "source": [
    "scoreffic_danger=[\n",
    "    danger_score_duration,inefficient_score_duration, danger_score_callamt, inefficient_score_callamt, danger_score_wait, inefficient_score_wait, danger_score_missed, inefficient_score_missed]\n",
    "\n",
    "run_check(scoreffic_danger,'inefficient','in the danger zone')"
   ]
  },
  {
   "cell_type": "markdown",
   "metadata": {},
   "source": [
    "<font color='crimson'><h3>Statistical Test Summary</h3></font>\n",
    "<p style=\"font-size:17px\"><br>\n",
    "Half of the six sets of tiered category testing failed to reject the null hypothesis for all of the metrics tested.<br><br>\n",
    "The combined tier/score set of tests also failed to reject the null hypothesis for one of the metrics tested. <br><br>\n",
    "None of the score category testing failed to reject the null hypothesis for the metrics tested. <br>\n",
    "    <p style=\"font-size:17px\">\n",
    "So, although it would seem that segmentation with more categories and weighted emphasis would more clearly differentiate operators' performance, the statistic testing bolstered the credibility of the more straightforward scoring method. In all tests, its scored categories successfully rejected the null hypothesis, pointing to more clearly defined differences in between the categories tested than the tiered categories which didn't find a statistical difference in some metrics between the tiers tested.<br><br>\n",
    "The four scored groups are relatively better at differentiating between operator performance categories than are the nine tiered segments."
   ]
  },
  {
   "cell_type": "markdown",
   "metadata": {},
   "source": [
    "<font color='#15317E'><h3>Analysis of Operator Performance on Down v. High Volume Dates</h3>"
   ]
  },
  {
   "cell_type": "code",
   "execution_count": 142,
   "metadata": {},
   "outputs": [
    {
     "data": {
      "text/plain": [
       "(41546, 27715)"
      ]
     },
     "execution_count": 142,
     "metadata": {},
     "output_type": "execute_result"
    }
   ],
   "source": [
    "#compared the df without nulls to a df limited to records that have a call duration\n",
    "nonullen=calls.shape[0]\n",
    "callsl=calls[(calls['call_duration'] > 0)]\n",
    "#amount of records v. only the records with a call duration\n",
    "nonullen, callsl.shape[0]"
   ]
  },
  {
   "cell_type": "code",
   "execution_count": 143,
   "metadata": {},
   "outputs": [
    {
     "data": {
      "text/html": [
       "<div>\n",
       "<style scoped>\n",
       "    .dataframe tbody tr th:only-of-type {\n",
       "        vertical-align: middle;\n",
       "    }\n",
       "\n",
       "    .dataframe tbody tr th {\n",
       "        vertical-align: top;\n",
       "    }\n",
       "\n",
       "    .dataframe thead th {\n",
       "        text-align: right;\n",
       "    }\n",
       "</style>\n",
       "<table border=\"1\" class=\"dataframe\">\n",
       "  <thead>\n",
       "    <tr style=\"text-align: right;\">\n",
       "      <th></th>\n",
       "      <th>date</th>\n",
       "      <th>dailycount</th>\n",
       "    </tr>\n",
       "  </thead>\n",
       "  <tbody>\n",
       "    <tr>\n",
       "      <td>75</td>\n",
       "      <td>2019-10-17</td>\n",
       "      <td>381</td>\n",
       "    </tr>\n",
       "  </tbody>\n",
       "</table>\n",
       "</div>"
      ],
      "text/plain": [
       "         date  dailycount\n",
       "75 2019-10-17         381"
      ]
     },
     "execution_count": 143,
     "metadata": {},
     "output_type": "execute_result"
    }
   ],
   "source": [
    "#creating a df of calls per date\n",
    "callsperdated=callsl.groupby('date')['user_id'].count()\n",
    "callsperdated=callsperdated.to_frame().reset_index()\n",
    "callsperdated.rename(columns={'user_id':'dailycount'},inplace=True)\n",
    "callsperdated.sample()"
   ]
  },
  {
   "cell_type": "code",
   "execution_count": 144,
   "metadata": {},
   "outputs": [
    {
     "data": {
      "text/html": [
       "<div>\n",
       "<style scoped>\n",
       "    .dataframe tbody tr th:only-of-type {\n",
       "        vertical-align: middle;\n",
       "    }\n",
       "\n",
       "    .dataframe tbody tr th {\n",
       "        vertical-align: top;\n",
       "    }\n",
       "\n",
       "    .dataframe thead th {\n",
       "        text-align: right;\n",
       "    }\n",
       "</style>\n",
       "<table border=\"1\" class=\"dataframe\">\n",
       "  <thead>\n",
       "    <tr style=\"text-align: right;\">\n",
       "      <th></th>\n",
       "      <th>date</th>\n",
       "      <th>daily</th>\n",
       "    </tr>\n",
       "  </thead>\n",
       "  <tbody>\n",
       "    <tr>\n",
       "      <td>107</td>\n",
       "      <td>2019-11-18</td>\n",
       "      <td>402</td>\n",
       "    </tr>\n",
       "    <tr>\n",
       "      <td>75</td>\n",
       "      <td>2019-10-17</td>\n",
       "      <td>266</td>\n",
       "    </tr>\n",
       "    <tr>\n",
       "      <td>40</td>\n",
       "      <td>2019-09-12</td>\n",
       "      <td>133</td>\n",
       "    </tr>\n",
       "    <tr>\n",
       "      <td>18</td>\n",
       "      <td>2019-08-21</td>\n",
       "      <td>31</td>\n",
       "    </tr>\n",
       "    <tr>\n",
       "      <td>105</td>\n",
       "      <td>2019-11-16</td>\n",
       "      <td>135</td>\n",
       "    </tr>\n",
       "  </tbody>\n",
       "</table>\n",
       "</div>"
      ],
      "text/plain": [
       "          date  daily\n",
       "107 2019-11-18    402\n",
       "75  2019-10-17    266\n",
       "40  2019-09-12    133\n",
       "18  2019-08-21     31\n",
       "105 2019-11-16    135"
      ]
     },
     "execution_count": 144,
     "metadata": {},
     "output_type": "execute_result"
    }
   ],
   "source": [
    "#creating a table of unique operators reporting call duration per date\n",
    "daily=callsl.groupby('date')['operator_id'].nunique().reset_index()\n",
    "daily.rename(columns={'operator_id':'daily'},inplace=True)\n",
    "daily['date']=pd.to_datetime(daily['date']) \n",
    "daily.sample(5)"
   ]
  },
  {
   "cell_type": "code",
   "execution_count": 147,
   "metadata": {},
   "outputs": [
    {
     "data": {
      "image/png": "[encoded data removed]",
      "text/plain": [
       "<Figure size 1440x720 with 1 Axes>"
      ]
     },
     "metadata": {},
     "output_type": "display_data"
    }
   ],
   "source": [
    "sns.set_style('whitegrid')\n",
    "plt.figure(figsize=(20,10)) \n",
    "plt.scatter(daily['date'],daily['daily'],color='#F87217',s=6)\n",
    "plt.plot(daily['date'],daily['daily'],color='dodgerblue',label='Operators in Action Per Date',alpha=.8)\n",
    "\n",
    "plt.scatter(callsperdated['date'],callsperdated['dailycount'],color='tomato',s=5)\n",
    "plt.plot(callsperdated['date'],callsperdated['dailycount'],color='#F87217',label='Calls Per Date',alpha=.8)\n",
    "\n",
    "plt.title('Operators in Action & Calls Per Date',fontsize=16)\n",
    "plt.xlabel('date',fontsize=12)\n",
    "plt.ylabel('number of operators | call amount',fontsize=14)\n",
    "plt.xlim(\"2019-08-02\",\"2019-11-28\")\n",
    "plt.legend(fontsize=14)\n",
    "plt.show();"
   ]
  },
  {
   "cell_type": "code",
   "execution_count": 148,
   "metadata": {},
   "outputs": [],
   "source": [
    "#all the dates with a significant drop in call volume & operator action\n",
    "dropdates=[('2019-08-24','2019-08-25'),('2019-09-01','2019-09-01'),('2019-09-14','2019-09-15'),('2019-09-21','2019-09-22'),(\n",
    "    '2019-09-28','2019-09-29'),('2019-10-6','2019-10-6'),('2019-10-13','2019-10-13'),('2019-10-20','2019-10-20'),(\n",
    "    '2019-10-26','2019-10-27'),('2019-11-02','2019-11-04'),('2019-11-09','2019-11-10'),('2019-11-16','2019-11-17'),(\n",
    "    '2019-11-23','2019-11-24')]"
   ]
  },
  {
   "cell_type": "code",
   "execution_count": 149,
   "metadata": {},
   "outputs": [],
   "source": [
    "#dates with high call volume & operator action, near drop dates\n",
    "highdates=[('2019-09-18','2019-09-18'),('2019-09-27','2019-09-27'),(\n",
    "    '2019-10-11','2019-10-11'),('2019-10-18','2019-10-18'),('2019-10-25','2019-10-25'),(\n",
    "    '2019-11-05','2019-11-05'),('2019-11-12','2019-11-12'),('2019-11-21','2019-11-21'),(\n",
    "    '2019-11-25','2019-11-25'),('2019-11-27','2019-11-27')]"
   ]
  },
  {
   "cell_type": "code",
   "execution_count": 150,
   "metadata": {},
   "outputs": [],
   "source": [
    "#creating a list of arrays of operator ids with activity on the highdates\n",
    "highop_table = []\n",
    "for date1, date2 in highdates:\n",
    "    highop=callsl[callsl.date.between(date1,date2)]['operator_id'].unique()\n",
    "    highop_table.append(highop)"
   ]
  },
  {
   "cell_type": "code",
   "execution_count": 152,
   "metadata": {},
   "outputs": [],
   "source": [
    "#seeking common elements in the arrays \n",
    "def commonElements(arr):  \n",
    "      \n",
    "    # forming a set from 1st array \n",
    "    comm = set(arr[0])  \n",
    "  \n",
    "    # iterate through all the arrays, finding common values\n",
    "    for currSet in arr[1:]:  \n",
    "        comm.intersection_update(currSet)  \n",
    "  \n",
    "    return list(comm)  "
   ]
  },
  {
   "cell_type": "code",
   "execution_count": 153,
   "metadata": {},
   "outputs": [
    {
     "name": "stdout",
     "output_type": "stream",
     "text": [
      "Common Element =  [900352.0, 899082.0, 905104.0, 891410.0, 891154.0, 891414.0, 891416.0, 880026.0, 889754.0, 880028.0, 908958.0, 908960.0, 890402.0, 911138.0, 890404.0, 907174.0, 890416.0, 907952.0, 906296.0, 894656.0, 889410.0, 905538.0, 905542.0, 912722.0, 891988.0, 903254.0, 907224.0, 893402.0, 900826.0, 905564.0, 905566.0, 887276.0, 893804.0, 885876.0, 905844.0, 901880.0, 901884.0]\n"
     ]
    }
   ],
   "source": [
    "#distinct operators with activity on every single high date\n",
    "commonhigh = commonElements(highop_table) \n",
    "\n",
    "if len(commonhigh) > 0:  \n",
    "    print (\"Common Element = \",commonhigh)  \n",
    "else:  \n",
    "    print ('No Common Elements Found') "
   ]
  },
  {
   "cell_type": "code",
   "execution_count": 186,
   "metadata": {},
   "outputs": [],
   "source": [
    "#a list of common operators on active days to compare to operator performance categories    \n",
    "highres = list(reduce(lambda i, j: i & j, (set(n) for n in highop_table)))"
   ]
  },
  {
   "cell_type": "code",
   "execution_count": 171,
   "metadata": {},
   "outputs": [
    {
     "name": "stdout",
     "output_type": "stream",
     "text": [
      "These top-rated operators worked every single active date near low-volume dates: [901884.0, 907224.0]\n",
      "These worst-rated operators worked every single active date near low-volume dates: [893804.0, 899082.0, 907174.0]\n"
     ]
    }
   ],
   "source": [
    "commonhighopsalldates_inbest = [x for x in bestops if x in highres]\n",
    "print(\"These top-rated operators worked every single active date near low-volume dates:\",commonhighopsalldates_inbest)\n",
    "commonhighopsalldates_inbad=[x for x in extremelybadops if x in highres]\n",
    "print(\"These worst-rated operators worked every single active date near low-volume dates:\",commonhighopsalldates_inbad)"
   ]
  },
  {
   "cell_type": "code",
   "execution_count": 172,
   "metadata": {},
   "outputs": [],
   "source": [
    "#operators active on high volume days who are in the super-efficient-rated operator group\n",
    "highop_table_in_bestops=[]\n",
    "for i in range(len(highop_table)):\n",
    "    highbest=set(highop_table[i]).intersection(bestarray)\n",
    "    highop_table_in_bestops.append(highbest)"
   ]
  },
  {
   "cell_type": "code",
   "execution_count": 173,
   "metadata": {},
   "outputs": [],
   "source": [
    "highoptablebestops=pd.DataFrame(highop_table_in_bestops)\n",
    "highdates_bestops=highoptablebestops.T"
   ]
  },
  {
   "cell_type": "code",
   "execution_count": 174,
   "metadata": {},
   "outputs": [],
   "source": [
    "highdates_bestops.columns=('9-18'),('9-27'),('10-11'),('10-18'),('10-25'),(\n",
    "    '11-05'),('11-12'),('11-21'),('11-25'),('11-27')"
   ]
  },
  {
   "cell_type": "code",
   "execution_count": 166,
   "metadata": {},
   "outputs": [
    {
     "data": {
      "text/plain": [
       "201"
      ]
     },
     "execution_count": 166,
     "metadata": {},
     "output_type": "execute_result"
    }
   ],
   "source": [
    "highdates_bestops.count().sum()"
   ]
  },
  {
   "cell_type": "code",
   "execution_count": 175,
   "metadata": {},
   "outputs": [],
   "source": [
    "highoptabledf=pd.DataFrame(highop_table)\n",
    "highoptablelist=highoptabledf.stack().dropna()"
   ]
  },
  {
   "cell_type": "code",
   "execution_count": 176,
   "metadata": {},
   "outputs": [
    {
     "name": "stdout",
     "output_type": "stream",
     "text": [
      "There are 825 operators on dates with the highest call volume.\n"
     ]
    }
   ],
   "source": [
    "highdateoperatorlist=highoptablelist.unique()\n",
    "print('There are',len(highdateoperatorlist),'operators on dates with the highest call volume.')"
   ]
  },
  {
   "cell_type": "code",
   "execution_count": 169,
   "metadata": {},
   "outputs": [],
   "source": [
    "highdatebestopslist=highdates_bestops.stack().dropna()"
   ]
  },
  {
   "cell_type": "code",
   "execution_count": 178,
   "metadata": {},
   "outputs": [
    {
     "name": "stdout",
     "output_type": "stream",
     "text": [
      "There are 47 super efficient operators on dates with high call volume and they are:\n",
      " [907970. 917856. 903318. 930692. 940438. 958470. 907224. 907182. 932088.\n",
      " 901038. 940460. 966158. 905930. 887278. 935348. 907982. 922114. 908082.\n",
      " 906294. 966686. 901884. 906416. 897872. 935216. 907964. 900790. 910926.\n",
      " 922428. 917846. 923250. 930510. 924370. 951492. 929626. 918390. 943066.\n",
      " 958672. 939236. 930910. 888540. 939376. 900594. 958434. 922474. 890232.\n",
      " 930524. 923254.]\n"
     ]
    }
   ],
   "source": [
    "bestoperators_highdates=highdatebestopslist.unique()\n",
    "print('There are',len(bestoperators_highdates),\"super efficient operators on dates with high call volume and they are:\\n\",bestoperators_highdates)"
   ]
  },
  {
   "cell_type": "code",
   "execution_count": 184,
   "metadata": {},
   "outputs": [
    {
     "name": "stdout",
     "output_type": "stream",
     "text": [
      "Super efficient operators for high call volume comprise this share of high call date operators:\n",
      "5.697%\n",
      "Which is nearly identical to their share of operators in general:\n",
      "5.955%\n"
     ]
    }
   ],
   "source": [
    "print('Super efficient operators for high call volume comprise this share of high call date operators:')\n",
    "print('{:,.3%}'.format(len(bestoperators_highdates)/len(highdateoperatorlist)))\n",
    "print('Which is nearly identical to their share of operators in general:')\n",
    "print('{:,.3%}'.format(len(bestops)/callsl.operator_id.nunique()))"
   ]
  },
  {
   "cell_type": "code",
   "execution_count": 50,
   "metadata": {},
   "outputs": [
    {
     "data": {
      "text/html": [
       "<div>\n",
       "<style scoped>\n",
       "    .dataframe tbody tr th:only-of-type {\n",
       "        vertical-align: middle;\n",
       "    }\n",
       "\n",
       "    .dataframe tbody tr th {\n",
       "        vertical-align: top;\n",
       "    }\n",
       "\n",
       "    .dataframe thead th {\n",
       "        text-align: right;\n",
       "    }\n",
       "</style>\n",
       "<table border=\"1\" class=\"dataframe\">\n",
       "  <thead>\n",
       "    <tr style=\"text-align: right;\">\n",
       "      <th></th>\n",
       "      <th>9-18</th>\n",
       "      <th>9-27</th>\n",
       "      <th>10-11</th>\n",
       "      <th>10-18</th>\n",
       "      <th>10-25</th>\n",
       "      <th>11-05</th>\n",
       "      <th>11-12</th>\n",
       "      <th>11-21</th>\n",
       "      <th>11-25</th>\n",
       "      <th>11-27</th>\n",
       "    </tr>\n",
       "  </thead>\n",
       "  <tbody>\n",
       "    <tr>\n",
       "      <td>nunique</td>\n",
       "      <td>10</td>\n",
       "      <td>10</td>\n",
       "      <td>14</td>\n",
       "      <td>19</td>\n",
       "      <td>20</td>\n",
       "      <td>23</td>\n",
       "      <td>27</td>\n",
       "      <td>29</td>\n",
       "      <td>22</td>\n",
       "      <td>27</td>\n",
       "    </tr>\n",
       "  </tbody>\n",
       "</table>\n",
       "</div>"
      ],
      "text/plain": [
       "         9-18  9-27  10-11  10-18  10-25  11-05  11-12  11-21  11-25  11-27\n",
       "nunique    10    10     14     19     20     23     27     29     22     27"
      ]
     },
     "execution_count": 50,
     "metadata": {},
     "output_type": "execute_result"
    }
   ],
   "source": [
    "highdates_bestops.agg(['nunique'])"
   ]
  },
  {
   "cell_type": "code",
   "execution_count": 102,
   "metadata": {},
   "outputs": [],
   "source": [
    "#FIND HOW MANY CALLS per OP DO THE ABOVE OPS DO\n",
    "#How are they classified\n",
    "#There are 7 ops who are in all dates for high and for low. "
   ]
  },
  {
   "cell_type": "code",
   "execution_count": 187,
   "metadata": {},
   "outputs": [],
   "source": [
    "#operators active on high volume days who are in inefficient category\n",
    "highop_table_in_badops=[]\n",
    "for i in range(len(highop_table)):\n",
    "    highb=set(highop_table[i]).intersection(extremelybadopsarray)\n",
    "    highop_table_in_badops.append(highb)"
   ]
  },
  {
   "cell_type": "code",
   "execution_count": 188,
   "metadata": {},
   "outputs": [],
   "source": [
    "highoptablebadops=pd.DataFrame(highop_table_in_badops)\n",
    "highdates_badops=highoptablebadops.T"
   ]
  },
  {
   "cell_type": "code",
   "execution_count": 189,
   "metadata": {},
   "outputs": [],
   "source": [
    "highdates_badops.columns=('9-18'),('9-27'),('10-11'),('10-18'),('10-25'),(\n",
    "    '11-05'),('11-12'),('11-21'),('11-25'),('11-27')"
   ]
  },
  {
   "cell_type": "code",
   "execution_count": 190,
   "metadata": {},
   "outputs": [
    {
     "data": {
      "text/plain": [
       "331"
      ]
     },
     "execution_count": 190,
     "metadata": {},
     "output_type": "execute_result"
    }
   ],
   "source": [
    "highdates_badops.count().sum()"
   ]
  },
  {
   "cell_type": "code",
   "execution_count": 191,
   "metadata": {},
   "outputs": [],
   "source": [
    "highdates_badopslist=highdates_badops.stack().dropna()"
   ]
  },
  {
   "cell_type": "code",
   "execution_count": 193,
   "metadata": {},
   "outputs": [
    {
     "name": "stdout",
     "output_type": "stream",
     "text": [
      "There are 99 inefficient operators on dates with high call volume and they are:\n",
      " [898560. 902720. 882690. 937984. 931458. 885890. 937988. 923526. 907174.\n",
      " 956292. 923528. 913886. 911142. 930690. 937736. 901350. 899082. 904200.\n",
      " 893804. 900492. 894224. 938896. 904016. 928142. 944908. 937874. 967310.\n",
      " 896018. 915614. 947604. 899250. 919956. 940952. 913868. 884408. 918956.\n",
      " 937762. 894230. 954650. 910958. 934188. 937366. 941844. 937902. 934424.\n",
      " 900180. 946988. 961064. 905300. 925106. 894232. 934098. 937780. 906392.\n",
      " 934076. 898558. 921818. 936382. 947638. 925922. 947642. 972460. 918888.\n",
      " 940616. 944564. 964666. 934476. 941390. 944560. 948284. 933996. 933070.\n",
      " 940614. 968368. 917234. 937808. 939212. 924662. 884946. 954318. 940622.\n",
      " 908152. 937810. 939224. 940634. 953940. 944474. 921320. 937966. 940652.\n",
      " 940512. 884478. 951650. 892530. 953464. 933244. 911102. 950634. 890226.]\n"
     ]
    }
   ],
   "source": [
    "badoperators_highdates=highdates_badopslist.unique()\n",
    "print('There are',len(badoperators_highdates),\"inefficient operators on dates with high call volume and they are:\\n\",badoperators_highdates)"
   ]
  },
  {
   "cell_type": "code",
   "execution_count": 195,
   "metadata": {},
   "outputs": [
    {
     "name": "stdout",
     "output_type": "stream",
     "text": [
      "Inefficient operators for high call volume comprise this share of operators:\n",
      "12.0%\n",
      "Which is less than their share of operators in general:\n",
      "16.446%\n"
     ]
    }
   ],
   "source": [
    "print('Inefficient operators for high call volume comprise this share of operators:')\n",
    "print('{:,.1%}'.format(len(badoperators_highdates)/len(highdateoperatorlist)))\n",
    "print('Which is less than their share of operators in general:')\n",
    "print('{:,.3%}'.format(len(extremelybadops)/callsl.operator_id.nunique()))"
   ]
  },
  {
   "cell_type": "code",
   "execution_count": 54,
   "metadata": {},
   "outputs": [
    {
     "data": {
      "text/html": [
       "<div>\n",
       "<style scoped>\n",
       "    .dataframe tbody tr th:only-of-type {\n",
       "        vertical-align: middle;\n",
       "    }\n",
       "\n",
       "    .dataframe tbody tr th {\n",
       "        vertical-align: top;\n",
       "    }\n",
       "\n",
       "    .dataframe thead th {\n",
       "        text-align: right;\n",
       "    }\n",
       "</style>\n",
       "<table border=\"1\" class=\"dataframe\">\n",
       "  <thead>\n",
       "    <tr style=\"text-align: right;\">\n",
       "      <th></th>\n",
       "      <th>9-18</th>\n",
       "      <th>9-27</th>\n",
       "      <th>10-11</th>\n",
       "      <th>10-18</th>\n",
       "      <th>10-25</th>\n",
       "      <th>11-05</th>\n",
       "      <th>11-12</th>\n",
       "      <th>11-21</th>\n",
       "      <th>11-25</th>\n",
       "      <th>11-27</th>\n",
       "    </tr>\n",
       "  </thead>\n",
       "  <tbody>\n",
       "    <tr>\n",
       "      <td>nunique</td>\n",
       "      <td>18</td>\n",
       "      <td>11</td>\n",
       "      <td>25</td>\n",
       "      <td>35</td>\n",
       "      <td>38</td>\n",
       "      <td>41</td>\n",
       "      <td>38</td>\n",
       "      <td>43</td>\n",
       "      <td>38</td>\n",
       "      <td>44</td>\n",
       "    </tr>\n",
       "  </tbody>\n",
       "</table>\n",
       "</div>"
      ],
      "text/plain": [
       "         9-18  9-27  10-11  10-18  10-25  11-05  11-12  11-21  11-25  11-27\n",
       "nunique    18    11     25     35     38     41     38     43     38     44"
      ]
     },
     "execution_count": 54,
     "metadata": {},
     "output_type": "execute_result"
    }
   ],
   "source": [
    "#unique operators categorized as most inefficient on high volume dates\n",
    "highdates_badops.agg(['nunique'])"
   ]
  },
  {
   "cell_type": "code",
   "execution_count": 55,
   "metadata": {},
   "outputs": [
    {
     "data": {
      "text/html": [
       "<div>\n",
       "<style scoped>\n",
       "    .dataframe tbody tr th:only-of-type {\n",
       "        vertical-align: middle;\n",
       "    }\n",
       "\n",
       "    .dataframe tbody tr th {\n",
       "        vertical-align: top;\n",
       "    }\n",
       "\n",
       "    .dataframe thead th {\n",
       "        text-align: right;\n",
       "    }\n",
       "</style>\n",
       "<table border=\"1\" class=\"dataframe\">\n",
       "  <thead>\n",
       "    <tr style=\"text-align: right;\">\n",
       "      <th></th>\n",
       "      <th>9-18</th>\n",
       "      <th>9-27</th>\n",
       "      <th>10-11</th>\n",
       "      <th>10-18</th>\n",
       "      <th>10-25</th>\n",
       "      <th>11-05</th>\n",
       "      <th>11-12</th>\n",
       "      <th>11-21</th>\n",
       "      <th>11-25</th>\n",
       "      <th>11-27</th>\n",
       "    </tr>\n",
       "  </thead>\n",
       "  <tbody>\n",
       "    <tr>\n",
       "      <td>nunique</td>\n",
       "      <td>10</td>\n",
       "      <td>10</td>\n",
       "      <td>14</td>\n",
       "      <td>19</td>\n",
       "      <td>20</td>\n",
       "      <td>23</td>\n",
       "      <td>27</td>\n",
       "      <td>29</td>\n",
       "      <td>22</td>\n",
       "      <td>27</td>\n",
       "    </tr>\n",
       "  </tbody>\n",
       "</table>\n",
       "</div>"
      ],
      "text/plain": [
       "         9-18  9-27  10-11  10-18  10-25  11-05  11-12  11-21  11-25  11-27\n",
       "nunique    10    10     14     19     20     23     27     29     22     27"
      ]
     },
     "execution_count": 55,
     "metadata": {},
     "output_type": "execute_result"
    }
   ],
   "source": [
    "highdates_bestops.agg(['nunique'])"
   ]
  },
  {
   "cell_type": "code",
   "execution_count": 225,
   "metadata": {},
   "outputs": [
    {
     "data": {
      "text/plain": [
       "13"
      ]
     },
     "execution_count": 225,
     "metadata": {},
     "output_type": "execute_result"
    }
   ],
   "source": [
    "#creating a list of arrays of operator ids with activity on the dropdates (the extremely low call volume dates)\n",
    "op_table = []\n",
    "\n",
    "for date1, date2 in dropdates:\n",
    "    addop=callsl[callsl.date.between(date1,date2)]['operator_id'].unique()\n",
    "    op_table.append(addop)\n",
    "    \n",
    "len(op_table)    "
   ]
  },
  {
   "cell_type": "code",
   "execution_count": 11,
   "metadata": {},
   "outputs": [
    {
     "data": {
      "text/plain": [
       "(13, 14, 43)"
      ]
     },
     "execution_count": 11,
     "metadata": {},
     "output_type": "execute_result"
    }
   ],
   "source": [
    "#noting how relatively short the first two arrays are\n",
    "len(op_table[0]),len(op_table[1]),len(op_table[2])"
   ]
  },
  {
   "cell_type": "code",
   "execution_count": 226,
   "metadata": {},
   "outputs": [
    {
     "data": {
      "text/plain": [
       "11"
      ]
     },
     "execution_count": 226,
     "metadata": {},
     "output_type": "execute_result"
    }
   ],
   "source": [
    "#eliminating the first two, short arrays of operators\n",
    "op_table = op_table[2:]\n",
    "#creating arrays for just Oct/Nov\n",
    "op_table8 = op_table[5:]\n",
    "len(op_table)"
   ]
  },
  {
   "cell_type": "code",
   "execution_count": 200,
   "metadata": {},
   "outputs": [
    {
     "name": "stdout",
     "output_type": "stream",
     "text": [
      "No Common Elements Found\n"
     ]
    }
   ],
   "source": [
    "#running function to list common operators between all arrays of the active operators on slow dates\n",
    "common = commonElements(op_table)  \n",
    "if len(common) > 0:  \n",
    "    print (\"Common Element = \",common)  \n",
    "else:  \n",
    "    print ('No Common Elements Found') "
   ]
  },
  {
   "cell_type": "code",
   "execution_count": 201,
   "metadata": {},
   "outputs": [
    {
     "name": "stdout",
     "output_type": "stream",
     "text": [
      "Common Element =  [919552.0, 919554.0, 914052.0, 923526.0, 923528.0, 938896.0, 929424.0, 924948.0, 924950.0, 896536.0, 900892.0, 908958.0, 924960.0, 925104.0, 899250.0, 906680.0, 909134.0, 913788.0, 903254.0, 900826.0, 893402.0, 921818.0, 921306.0, 915556.0, 932836.0, 904038.0, 937956.0, 937958.0, 937960.0, 937962.0, 893420.0, 893804.0, 919790.0, 919792.0, 905842.0, 918390.0, 901880.0, 901884.0]\n"
     ]
    }
   ],
   "source": [
    "#running function to list common operators between the arrays of the active operators on slow dates Oct/Nov\n",
    "common8 = commonElements(op_table8)  \n",
    "if len(common8) > 0:  \n",
    "    print (\"Common Element = \",common8)  \n",
    "else:  \n",
    "    print ('No Common Elements Found') "
   ]
  },
  {
   "cell_type": "code",
   "execution_count": 202,
   "metadata": {},
   "outputs": [
    {
     "name": "stdout",
     "output_type": "stream",
     "text": [
      "The common elements among inners lists :  [] \n",
      "\n",
      "The common elements among inners lists for October and November: [919552.0, 919554.0, 914052.0, 923526.0, 923528.0, 938896.0, 929424.0, 924948.0, 924950.0, 896536.0, 900892.0, 908958.0, 924960.0, 925104.0, 899250.0, 906680.0, 909134.0, 913788.0, 903254.0, 893402.0, 900826.0, 921818.0, 921306.0, 915556.0, 932836.0, 904038.0, 937958.0, 937956.0, 937960.0, 937962.0, 893420.0, 893804.0, 919790.0, 919792.0, 905842.0, 918390.0, 901880.0, 901884.0]\n"
     ]
    }
   ],
   "source": [
    "#lambda functions to doublecheck having found the common elements within\n",
    "res = list(reduce(lambda i, j: i & j, (set(n) for n in op_table)))\n",
    "res8 = list(reduce(lambda i, j: i & j, (set(n) for n in op_table8)))\n",
    "# Result\n",
    "print(\"The common elements among inners lists : \",res,\"\\n\")\n",
    "\n",
    "print(\"The common elements among inners lists for October and November:\",res8)"
   ]
  },
  {
   "cell_type": "code",
   "execution_count": 204,
   "metadata": {},
   "outputs": [
    {
     "data": {
      "text/plain": [
       "[901884.0, 918390.0]"
      ]
     },
     "execution_count": 204,
     "metadata": {},
     "output_type": "execute_result"
    }
   ],
   "source": [
    "#operators active on every drop date in Oct/Nov who are categorized as super efficient\n",
    "commonops8dates_inbest = [x for x in bestops if x in res8]\n",
    "commonops8dates_inbest"
   ]
  },
  {
   "cell_type": "code",
   "execution_count": 206,
   "metadata": {},
   "outputs": [
    {
     "data": {
      "text/plain": [
       "[893804.0, 899250.0, 921818.0, 923526.0, 923528.0, 938896.0]"
      ]
     },
     "execution_count": 206,
     "metadata": {},
     "output_type": "execute_result"
    }
   ],
   "source": [
    "#operators active on every drop date in Oct/Nov who are categorized as inefficient\n",
    "commonops8dates_inbad = [x for x in extremelybadops if x in res8]\n",
    "commonops8dates_inbad"
   ]
  },
  {
   "cell_type": "code",
   "execution_count": 207,
   "metadata": {},
   "outputs": [
    {
     "data": {
      "text/plain": [
       "[]"
      ]
     },
     "execution_count": 207,
     "metadata": {},
     "output_type": "execute_result"
    }
   ],
   "source": [
    "#active on all high volume days and all low volume days \n",
    "[x for x in commonhigh if x in common]\n",
    "#doublecheck: active on all high volume days and all low volume days \n",
    "[x for x in common if x in commonhigh]"
   ]
  },
  {
   "cell_type": "code",
   "execution_count": 209,
   "metadata": {},
   "outputs": [
    {
     "data": {
      "text/plain": [
       "[908958.0, 903254.0, 900826.0, 893402.0, 893804.0, 901880.0, 901884.0]"
      ]
     },
     "execution_count": 209,
     "metadata": {},
     "output_type": "execute_result"
    }
   ],
   "source": [
    "#active on all high volume days and all Oct/Nov low volume days   \n",
    "extensivelist=[x for x in commonhigh if x in common8]\n",
    "#active on all high volume days and all Oct/Nov low volume days  \n",
    "[x for x in common8 if x in commonhigh]"
   ]
  },
  {
   "cell_type": "code",
   "execution_count": 210,
   "metadata": {},
   "outputs": [
    {
     "data": {
      "text/plain": [
       "[893804.0]"
      ]
     },
     "execution_count": 210,
     "metadata": {},
     "output_type": "execute_result"
    }
   ],
   "source": [
    "[x for x in extensivelist if x in extremelybadops]"
   ]
  },
  {
   "cell_type": "code",
   "execution_count": 211,
   "metadata": {},
   "outputs": [
    {
     "data": {
      "text/plain": [
       "[901884.0]"
      ]
     },
     "execution_count": 211,
     "metadata": {},
     "output_type": "execute_result"
    }
   ],
   "source": [
    "[x for x in extensivelist if x in bestops]"
   ]
  },
  {
   "cell_type": "code",
   "execution_count": 212,
   "metadata": {},
   "outputs": [],
   "source": [
    "#operators on low volume call dates who are categorized as super efficient\n",
    "op_table_in_bestops=[]\n",
    "for i in range(len(op_table)):\n",
    "    nextx=set(op_table[i]).intersection(bestarray)\n",
    "    op_table_in_bestops.append(nextx)"
   ]
  },
  {
   "cell_type": "code",
   "execution_count": 229,
   "metadata": {},
   "outputs": [],
   "source": [
    "dfoptablebestops=pd.DataFrame(op_table_in_bestops)\n",
    "dropdates_bestops=dfoptablebestops.T"
   ]
  },
  {
   "cell_type": "code",
   "execution_count": 231,
   "metadata": {},
   "outputs": [],
   "source": [
    "dropdates_bestops.columns=('8-24-25'),('9-1'),('9-14-15'),('9-21-22'),(\n",
    "    '9-28-29'),('10-6'),('10-13'),('10-20'),('10-26-27'),('11-02-04'),('11-09-10'),('11-16-17'),('11-23-24')"
   ]
  },
  {
   "cell_type": "code",
   "execution_count": 232,
   "metadata": {},
   "outputs": [
    {
     "data": {
      "text/plain": [
       "57"
      ]
     },
     "execution_count": 232,
     "metadata": {},
     "output_type": "execute_result"
    }
   ],
   "source": [
    "dropdates_bestops.count().sum()"
   ]
  },
  {
   "cell_type": "code",
   "execution_count": 233,
   "metadata": {},
   "outputs": [],
   "source": [
    "optabledf=pd.DataFrame(op_table)\n",
    "optablelist=optabledf.stack().dropna()"
   ]
  },
  {
   "cell_type": "code",
   "execution_count": 234,
   "metadata": {},
   "outputs": [
    {
     "name": "stdout",
     "output_type": "stream",
     "text": [
      "There are 398 operators on dates with relative low call value.\n"
     ]
    }
   ],
   "source": [
    "dropdateoperatorlist=optablelist.unique()\n",
    "print('There are',len(dropdateoperatorlist),'operators on dates with relative low call value.')"
   ]
  },
  {
   "cell_type": "code",
   "execution_count": 239,
   "metadata": {},
   "outputs": [],
   "source": [
    "dropdatebestopslist=dropdates_bestops.stack().dropna()"
   ]
  },
  {
   "cell_type": "code",
   "execution_count": 238,
   "metadata": {},
   "outputs": [
    {
     "name": "stdout",
     "output_type": "stream",
     "text": [
      "There are 21 super efficient operators on dates with relatively low calls and they are:\n",
      " [890232. 901884. 910902. 918390. 923250. 935216. 922428. 943066. 969600.\n",
      " 891192. 910926. 903318. 939376. 901038. 957922. 922474. 930524. 900594.\n",
      " 940460. 929626. 935348.]\n"
     ]
    }
   ],
   "source": [
    "bestoperators_dropdates=dropdatebestopslist.unique()\n",
    "print('There are',len(bestoperators_dropdates),\"super efficient operators on dates with relatively low calls and they are:\\n\",bestoperators_dropdates)"
   ]
  },
  {
   "cell_type": "code",
   "execution_count": 85,
   "metadata": {},
   "outputs": [
    {
     "name": "stdout",
     "output_type": "stream",
     "text": [
      "Super efficient operators on the lowest call volume days comprise this share of operators:\n",
      "5.025%\n"
     ]
    }
   ],
   "source": [
    "print('Super efficient operators on the lowest call volume days comprise this share of operators:')\n",
    "print('{:,.3%}'.format(len(bestoperators_dropdates)/len(dropdateoperatorlist)))"
   ]
  },
  {
   "cell_type": "code",
   "execution_count": 122,
   "metadata": {},
   "outputs": [
    {
     "data": {
      "text/html": [
       "<div>\n",
       "<style scoped>\n",
       "    .dataframe tbody tr th:only-of-type {\n",
       "        vertical-align: middle;\n",
       "    }\n",
       "\n",
       "    .dataframe tbody tr th {\n",
       "        vertical-align: top;\n",
       "    }\n",
       "\n",
       "    .dataframe thead th {\n",
       "        text-align: right;\n",
       "    }\n",
       "</style>\n",
       "<table border=\"1\" class=\"dataframe\">\n",
       "  <thead>\n",
       "    <tr style=\"text-align: right;\">\n",
       "      <th></th>\n",
       "      <th>9-14-15</th>\n",
       "      <th>9-21-22</th>\n",
       "      <th>9-28-29</th>\n",
       "      <th>10-6</th>\n",
       "      <th>10-13</th>\n",
       "      <th>10-20</th>\n",
       "      <th>10-26-27</th>\n",
       "      <th>11-02-04</th>\n",
       "      <th>11-09-10</th>\n",
       "      <th>11-16-17</th>\n",
       "      <th>11-23-24</th>\n",
       "    </tr>\n",
       "  </thead>\n",
       "  <tbody>\n",
       "    <tr>\n",
       "      <td>nunique</td>\n",
       "      <td>4</td>\n",
       "      <td>2</td>\n",
       "      <td>4</td>\n",
       "      <td>3</td>\n",
       "      <td>3</td>\n",
       "      <td>4</td>\n",
       "      <td>5</td>\n",
       "      <td>8</td>\n",
       "      <td>7</td>\n",
       "      <td>4</td>\n",
       "      <td>11</td>\n",
       "    </tr>\n",
       "  </tbody>\n",
       "</table>\n",
       "</div>"
      ],
      "text/plain": [
       "         9-14-15  9-21-22  9-28-29  10-6  10-13  10-20  10-26-27  11-02-04  \\\n",
       "nunique        4        2        4     3      3      4         5         8   \n",
       "\n",
       "         11-09-10  11-16-17  11-23-24  \n",
       "nunique         7         4        11  "
      ]
     },
     "execution_count": 122,
     "metadata": {},
     "output_type": "execute_result"
    }
   ],
   "source": [
    "#on each low call date, there are this many unique operators\n",
    "dropdates_bestops.agg(['nunique'])"
   ]
  },
  {
   "cell_type": "code",
   "execution_count": 240,
   "metadata": {},
   "outputs": [
    {
     "data": {
      "text/plain": [
       "{901884.0}"
      ]
     },
     "execution_count": 240,
     "metadata": {},
     "output_type": "execute_result"
    }
   ],
   "source": [
    "set(bestops).intersection(*op_table)"
   ]
  },
  {
   "cell_type": "code",
   "execution_count": 241,
   "metadata": {},
   "outputs": [],
   "source": [
    "#operators on low volume call dates who are categorized as inefficient\n",
    "op_table_in_badops=[]\n",
    "for i in range(len(op_table)):\n",
    "    nextb=set(op_table[i]).intersection(extremelybadopsarray)\n",
    "    op_table_in_badops.append(nextb)"
   ]
  },
  {
   "cell_type": "code",
   "execution_count": 242,
   "metadata": {},
   "outputs": [],
   "source": [
    "dfoptablebadops=pd.DataFrame(op_table_in_badops)\n",
    "dropdates_badops=dfoptablebadops.T"
   ]
  },
  {
   "cell_type": "code",
   "execution_count": 243,
   "metadata": {},
   "outputs": [
    {
     "data": {
      "text/plain": [
       "153"
      ]
     },
     "execution_count": 243,
     "metadata": {},
     "output_type": "execute_result"
    }
   ],
   "source": [
    "dropdates_badops.count().sum()"
   ]
  },
  {
   "cell_type": "code",
   "execution_count": 244,
   "metadata": {},
   "outputs": [],
   "source": [
    "dropdatebadopslist=dropdates_badops.stack().dropna()"
   ]
  },
  {
   "cell_type": "code",
   "execution_count": 246,
   "metadata": {},
   "outputs": [
    {
     "name": "stdout",
     "output_type": "stream",
     "text": [
      "There are 50 inefficient operators on dates with relatively low calls and they are:\n",
      " [885890. 902720. 937984. 931458. 923526. 882690. 899082. 908098. 917378.\n",
      " 925922. 937762. 940614. 893804. 908162. 923528. 952196. 900492. 901350.\n",
      " 918956. 921320. 940616. 895598. 938896. 910958. 928382. 954650. 884946.\n",
      " 899250. 925106. 891918. 946468. 940952. 905300. 884408. 906392. 921818.\n",
      " 939212. 911102. 914172. 891646. 940622. 900180. 940652. 940634. 937810.\n",
      " 950634. 934076. 917234. 964712. 953464.]\n"
     ]
    }
   ],
   "source": [
    "badoperators_dropdates=dropdatebadopslist.unique()\n",
    "print('There are',len(badoperators_dropdates),\"inefficient operators on dates with relatively low calls and they are:\\n\",badoperators_dropdates)"
   ]
  },
  {
   "cell_type": "code",
   "execution_count": 247,
   "metadata": {},
   "outputs": [
    {
     "name": "stdout",
     "output_type": "stream",
     "text": [
      "Infficient operators on the lowest call volume days comprise this share of operators:\n",
      "12.563%\n"
     ]
    }
   ],
   "source": [
    "print('Infficient operators on the lowest call volume days comprise this share of operators:')\n",
    "print('{:,.3%}'.format(len(badoperators_dropdates)/len(dropdateoperatorlist)))"
   ]
  },
  {
   "cell_type": "code",
   "execution_count": 36,
   "metadata": {},
   "outputs": [
    {
     "data": {
      "text/html": [
       "<div>\n",
       "<style scoped>\n",
       "    .dataframe tbody tr th:only-of-type {\n",
       "        vertical-align: middle;\n",
       "    }\n",
       "\n",
       "    .dataframe tbody tr th {\n",
       "        vertical-align: top;\n",
       "    }\n",
       "\n",
       "    .dataframe thead th {\n",
       "        text-align: right;\n",
       "    }\n",
       "</style>\n",
       "<table border=\"1\" class=\"dataframe\">\n",
       "  <thead>\n",
       "    <tr style=\"text-align: right;\">\n",
       "      <th></th>\n",
       "      <th>0</th>\n",
       "      <th>1</th>\n",
       "      <th>2</th>\n",
       "      <th>3</th>\n",
       "      <th>4</th>\n",
       "      <th>5</th>\n",
       "      <th>6</th>\n",
       "      <th>7</th>\n",
       "      <th>8</th>\n",
       "    </tr>\n",
       "  </thead>\n",
       "  <tbody>\n",
       "    <tr>\n",
       "      <td>nunique</td>\n",
       "      <td>9</td>\n",
       "      <td>10</td>\n",
       "      <td>9</td>\n",
       "      <td>12</td>\n",
       "      <td>11</td>\n",
       "      <td>18</td>\n",
       "      <td>20</td>\n",
       "      <td>18</td>\n",
       "      <td>25</td>\n",
       "    </tr>\n",
       "  </tbody>\n",
       "</table>\n",
       "</div>"
      ],
      "text/plain": [
       "         0   1  2   3   4   5   6   7   8\n",
       "nunique  9  10  9  12  11  18  20  18  25"
      ]
     },
     "execution_count": 36,
     "metadata": {},
     "output_type": "execute_result"
    }
   ],
   "source": [
    "dropdates_badops.agg(['nunique'])"
   ]
  },
  {
   "cell_type": "code",
   "execution_count": 271,
   "metadata": {},
   "outputs": [
    {
     "data": {
      "text/plain": [
       "0.92    112.72\n",
       "0.93    120.63\n",
       "0.95    139.45\n",
       "Name: calls_per_op, dtype: float64"
      ]
     },
     "execution_count": 271,
     "metadata": {},
     "output_type": "execute_result"
    }
   ],
   "source": [
    "metrics.calls_per_op.quantile([.92,.93,.95])"
   ]
  },
  {
   "cell_type": "code",
   "execution_count": 253,
   "metadata": {},
   "outputs": [
    {
     "data": {
      "text/plain": [
       "204    323\n",
       "203    302\n",
       "108    289\n",
       "Name: calls_per_op, dtype: int64"
      ]
     },
     "execution_count": 253,
     "metadata": {},
     "output_type": "execute_result"
    }
   ],
   "source": [
    "metrics.calls_per_op.nlargest(3)"
   ]
  },
  {
   "cell_type": "code",
   "execution_count": 249,
   "metadata": {},
   "outputs": [
    {
     "data": {
      "text/html": [
       "<div>\n",
       "<style scoped>\n",
       "    .dataframe tbody tr th:only-of-type {\n",
       "        vertical-align: middle;\n",
       "    }\n",
       "\n",
       "    .dataframe tbody tr th {\n",
       "        vertical-align: top;\n",
       "    }\n",
       "\n",
       "    .dataframe thead th {\n",
       "        text-align: right;\n",
       "    }\n",
       "</style>\n",
       "<table border=\"1\" class=\"dataframe\">\n",
       "  <thead>\n",
       "    <tr style=\"text-align: right;\">\n",
       "      <th></th>\n",
       "      <th>operator_id</th>\n",
       "      <th>wait_total</th>\n",
       "      <th>missed_total</th>\n",
       "      <th>calls_per_op</th>\n",
       "      <th>total_duration</th>\n",
       "      <th>wait_share</th>\n",
       "      <th>miss_share</th>\n",
       "      <th>out_share</th>\n",
       "      <th>wait</th>\n",
       "      <th>miss</th>\n",
       "      <th>out</th>\n",
       "      <th>total</th>\n",
       "      <th>score</th>\n",
       "      <th>segment</th>\n",
       "      <th>tier</th>\n",
       "    </tr>\n",
       "  </thead>\n",
       "  <tbody>\n",
       "    <tr>\n",
       "      <td>204</td>\n",
       "      <td>901884.0</td>\n",
       "      <td>38994</td>\n",
       "      <td>104</td>\n",
       "      <td>323</td>\n",
       "      <td>335615</td>\n",
       "      <td>0.116187</td>\n",
       "      <td>0.321981</td>\n",
       "      <td>0.705882</td>\n",
       "      <td>4</td>\n",
       "      <td>3</td>\n",
       "      <td>3</td>\n",
       "      <td>10.0</td>\n",
       "      <td>super efficient</td>\n",
       "      <td>433</td>\n",
       "      <td>Super efficient</td>\n",
       "    </tr>\n",
       "  </tbody>\n",
       "</table>\n",
       "</div>"
      ],
      "text/plain": [
       "     operator_id  wait_total  missed_total  calls_per_op  total_duration  \\\n",
       "204     901884.0       38994           104           323          335615   \n",
       "\n",
       "     wait_share  miss_share  out_share wait miss out  total            score  \\\n",
       "204    0.116187    0.321981   0.705882    4    3   3   10.0  super efficient   \n",
       "\n",
       "    segment             tier  \n",
       "204     433  Super efficient  "
      ]
     },
     "execution_count": 249,
     "metadata": {},
     "output_type": "execute_result"
    }
   ],
   "source": [
    "metrics[metrics.operator_id==901884]"
   ]
  },
  {
   "cell_type": "code",
   "execution_count": 250,
   "metadata": {},
   "outputs": [
    {
     "data": {
      "text/html": [
       "<div>\n",
       "<style scoped>\n",
       "    .dataframe tbody tr th:only-of-type {\n",
       "        vertical-align: middle;\n",
       "    }\n",
       "\n",
       "    .dataframe tbody tr th {\n",
       "        vertical-align: top;\n",
       "    }\n",
       "\n",
       "    .dataframe thead th {\n",
       "        text-align: right;\n",
       "    }\n",
       "</style>\n",
       "<table border=\"1\" class=\"dataframe\">\n",
       "  <thead>\n",
       "    <tr style=\"text-align: right;\">\n",
       "      <th></th>\n",
       "      <th>operator_id</th>\n",
       "      <th>wait_total</th>\n",
       "      <th>missed_total</th>\n",
       "      <th>calls_per_op</th>\n",
       "      <th>total_duration</th>\n",
       "      <th>wait_share</th>\n",
       "      <th>miss_share</th>\n",
       "      <th>out_share</th>\n",
       "      <th>wait</th>\n",
       "      <th>miss</th>\n",
       "      <th>out</th>\n",
       "      <th>total</th>\n",
       "      <th>score</th>\n",
       "      <th>segment</th>\n",
       "      <th>tier</th>\n",
       "    </tr>\n",
       "  </thead>\n",
       "  <tbody>\n",
       "    <tr>\n",
       "      <td>108</td>\n",
       "      <td>893804.0</td>\n",
       "      <td>76146</td>\n",
       "      <td>110</td>\n",
       "      <td>289</td>\n",
       "      <td>358580</td>\n",
       "      <td>0.212354</td>\n",
       "      <td>0.380623</td>\n",
       "      <td>0.629758</td>\n",
       "      <td>2</td>\n",
       "      <td>2</td>\n",
       "      <td>2</td>\n",
       "      <td>6.0</td>\n",
       "      <td>inefficient</td>\n",
       "      <td>222</td>\n",
       "      <td>Inefficient</td>\n",
       "    </tr>\n",
       "  </tbody>\n",
       "</table>\n",
       "</div>"
      ],
      "text/plain": [
       "     operator_id  wait_total  missed_total  calls_per_op  total_duration  \\\n",
       "108     893804.0       76146           110           289          358580   \n",
       "\n",
       "     wait_share  miss_share  out_share wait miss out  total        score  \\\n",
       "108    0.212354    0.380623   0.629758    2    2   2    6.0  inefficient   \n",
       "\n",
       "    segment         tier  \n",
       "108     222  Inefficient  "
      ]
     },
     "execution_count": 250,
     "metadata": {},
     "output_type": "execute_result"
    }
   ],
   "source": [
    "metrics[metrics.operator_id==893804]"
   ]
  },
  {
   "cell_type": "code",
   "execution_count": 263,
   "metadata": {},
   "outputs": [
    {
     "data": {
      "text/html": [
       "<div>\n",
       "<style scoped>\n",
       "    .dataframe tbody tr th:only-of-type {\n",
       "        vertical-align: middle;\n",
       "    }\n",
       "\n",
       "    .dataframe tbody tr th {\n",
       "        vertical-align: top;\n",
       "    }\n",
       "\n",
       "    .dataframe thead th {\n",
       "        text-align: right;\n",
       "    }\n",
       "</style>\n",
       "<table border=\"1\" class=\"dataframe\">\n",
       "  <thead>\n",
       "    <tr style=\"text-align: right;\">\n",
       "      <th></th>\n",
       "      <th>operator_id</th>\n",
       "      <th>wait_total</th>\n",
       "      <th>missed_total</th>\n",
       "      <th>calls_per_op</th>\n",
       "      <th>total_duration</th>\n",
       "      <th>wait_share</th>\n",
       "      <th>miss_share</th>\n",
       "      <th>out_share</th>\n",
       "      <th>wait</th>\n",
       "      <th>miss</th>\n",
       "      <th>out</th>\n",
       "      <th>total</th>\n",
       "      <th>score</th>\n",
       "      <th>segment</th>\n",
       "      <th>tier</th>\n",
       "    </tr>\n",
       "  </thead>\n",
       "  <tbody>\n",
       "    <tr>\n",
       "      <td>104</td>\n",
       "      <td>893402.0</td>\n",
       "      <td>6490</td>\n",
       "      <td>15</td>\n",
       "      <td>117</td>\n",
       "      <td>38141</td>\n",
       "      <td>0.170158</td>\n",
       "      <td>0.128205</td>\n",
       "      <td>0.299145</td>\n",
       "      <td>3</td>\n",
       "      <td>4</td>\n",
       "      <td>2</td>\n",
       "      <td>9.0</td>\n",
       "      <td>efficient</td>\n",
       "      <td>342</td>\n",
       "      <td>Efficient</td>\n",
       "    </tr>\n",
       "  </tbody>\n",
       "</table>\n",
       "</div>"
      ],
      "text/plain": [
       "     operator_id  wait_total  missed_total  calls_per_op  total_duration  \\\n",
       "104     893402.0        6490            15           117           38141   \n",
       "\n",
       "     wait_share  miss_share  out_share wait miss out  total      score  \\\n",
       "104    0.170158    0.128205   0.299145    3    4   2    9.0  efficient   \n",
       "\n",
       "    segment       tier  \n",
       "104     342  Efficient  "
      ]
     },
     "execution_count": 263,
     "metadata": {},
     "output_type": "execute_result"
    }
   ],
   "source": [
    "metrics[metrics.operator_id==893402]"
   ]
  },
  {
   "cell_type": "code",
   "execution_count": 264,
   "metadata": {},
   "outputs": [
    {
     "data": {
      "text/html": [
       "<div>\n",
       "<style scoped>\n",
       "    .dataframe tbody tr th:only-of-type {\n",
       "        vertical-align: middle;\n",
       "    }\n",
       "\n",
       "    .dataframe tbody tr th {\n",
       "        vertical-align: top;\n",
       "    }\n",
       "\n",
       "    .dataframe thead th {\n",
       "        text-align: right;\n",
       "    }\n",
       "</style>\n",
       "<table border=\"1\" class=\"dataframe\">\n",
       "  <thead>\n",
       "    <tr style=\"text-align: right;\">\n",
       "      <th></th>\n",
       "      <th>operator_id</th>\n",
       "      <th>wait_total</th>\n",
       "      <th>missed_total</th>\n",
       "      <th>calls_per_op</th>\n",
       "      <th>total_duration</th>\n",
       "      <th>wait_share</th>\n",
       "      <th>miss_share</th>\n",
       "      <th>out_share</th>\n",
       "      <th>wait</th>\n",
       "      <th>miss</th>\n",
       "      <th>out</th>\n",
       "      <th>total</th>\n",
       "      <th>score</th>\n",
       "      <th>segment</th>\n",
       "      <th>tier</th>\n",
       "    </tr>\n",
       "  </thead>\n",
       "  <tbody>\n",
       "    <tr>\n",
       "      <td>320</td>\n",
       "      <td>908958.0</td>\n",
       "      <td>27131</td>\n",
       "      <td>29</td>\n",
       "      <td>143</td>\n",
       "      <td>136908</td>\n",
       "      <td>0.19817</td>\n",
       "      <td>0.202797</td>\n",
       "      <td>0.342657</td>\n",
       "      <td>3</td>\n",
       "      <td>3</td>\n",
       "      <td>2</td>\n",
       "      <td>8.0</td>\n",
       "      <td>efficient</td>\n",
       "      <td>332</td>\n",
       "      <td>Efficient</td>\n",
       "    </tr>\n",
       "  </tbody>\n",
       "</table>\n",
       "</div>"
      ],
      "text/plain": [
       "     operator_id  wait_total  missed_total  calls_per_op  total_duration  \\\n",
       "320     908958.0       27131            29           143          136908   \n",
       "\n",
       "     wait_share  miss_share  out_share wait miss out  total      score  \\\n",
       "320     0.19817    0.202797   0.342657    3    3   2    8.0  efficient   \n",
       "\n",
       "    segment       tier  \n",
       "320     332  Efficient  "
      ]
     },
     "execution_count": 264,
     "metadata": {},
     "output_type": "execute_result"
    }
   ],
   "source": [
    "metrics[metrics.operator_id==908958]"
   ]
  },
  {
   "cell_type": "code",
   "execution_count": 265,
   "metadata": {},
   "outputs": [
    {
     "data": {
      "text/html": [
       "<div>\n",
       "<style scoped>\n",
       "    .dataframe tbody tr th:only-of-type {\n",
       "        vertical-align: middle;\n",
       "    }\n",
       "\n",
       "    .dataframe tbody tr th {\n",
       "        vertical-align: top;\n",
       "    }\n",
       "\n",
       "    .dataframe thead th {\n",
       "        text-align: right;\n",
       "    }\n",
       "</style>\n",
       "<table border=\"1\" class=\"dataframe\">\n",
       "  <thead>\n",
       "    <tr style=\"text-align: right;\">\n",
       "      <th></th>\n",
       "      <th>operator_id</th>\n",
       "      <th>wait_total</th>\n",
       "      <th>missed_total</th>\n",
       "      <th>calls_per_op</th>\n",
       "      <th>total_duration</th>\n",
       "      <th>wait_share</th>\n",
       "      <th>miss_share</th>\n",
       "      <th>out_share</th>\n",
       "      <th>wait</th>\n",
       "      <th>miss</th>\n",
       "      <th>out</th>\n",
       "      <th>total</th>\n",
       "      <th>score</th>\n",
       "      <th>segment</th>\n",
       "      <th>tier</th>\n",
       "    </tr>\n",
       "  </thead>\n",
       "  <tbody>\n",
       "    <tr>\n",
       "      <td>190</td>\n",
       "      <td>900826.0</td>\n",
       "      <td>11256</td>\n",
       "      <td>48</td>\n",
       "      <td>165</td>\n",
       "      <td>65297</td>\n",
       "      <td>0.172382</td>\n",
       "      <td>0.290909</td>\n",
       "      <td>0.721212</td>\n",
       "      <td>3</td>\n",
       "      <td>3</td>\n",
       "      <td>3</td>\n",
       "      <td>9.0</td>\n",
       "      <td>efficient</td>\n",
       "      <td>333</td>\n",
       "      <td>Efficient</td>\n",
       "    </tr>\n",
       "  </tbody>\n",
       "</table>\n",
       "</div>"
      ],
      "text/plain": [
       "     operator_id  wait_total  missed_total  calls_per_op  total_duration  \\\n",
       "190     900826.0       11256            48           165           65297   \n",
       "\n",
       "     wait_share  miss_share  out_share wait miss out  total      score  \\\n",
       "190    0.172382    0.290909   0.721212    3    3   3    9.0  efficient   \n",
       "\n",
       "    segment       tier  \n",
       "190     333  Efficient  "
      ]
     },
     "execution_count": 265,
     "metadata": {},
     "output_type": "execute_result"
    }
   ],
   "source": [
    "metrics[metrics.operator_id==900826]"
   ]
  },
  {
   "cell_type": "code",
   "execution_count": 266,
   "metadata": {},
   "outputs": [
    {
     "data": {
      "text/html": [
       "<div>\n",
       "<style scoped>\n",
       "    .dataframe tbody tr th:only-of-type {\n",
       "        vertical-align: middle;\n",
       "    }\n",
       "\n",
       "    .dataframe tbody tr th {\n",
       "        vertical-align: top;\n",
       "    }\n",
       "\n",
       "    .dataframe thead th {\n",
       "        text-align: right;\n",
       "    }\n",
       "</style>\n",
       "<table border=\"1\" class=\"dataframe\">\n",
       "  <thead>\n",
       "    <tr style=\"text-align: right;\">\n",
       "      <th></th>\n",
       "      <th>operator_id</th>\n",
       "      <th>wait_total</th>\n",
       "      <th>missed_total</th>\n",
       "      <th>calls_per_op</th>\n",
       "      <th>total_duration</th>\n",
       "      <th>wait_share</th>\n",
       "      <th>miss_share</th>\n",
       "      <th>out_share</th>\n",
       "      <th>wait</th>\n",
       "      <th>miss</th>\n",
       "      <th>out</th>\n",
       "      <th>total</th>\n",
       "      <th>score</th>\n",
       "      <th>segment</th>\n",
       "      <th>tier</th>\n",
       "    </tr>\n",
       "  </thead>\n",
       "  <tbody>\n",
       "    <tr>\n",
       "      <td>224</td>\n",
       "      <td>903254.0</td>\n",
       "      <td>29341</td>\n",
       "      <td>71</td>\n",
       "      <td>221</td>\n",
       "      <td>133294</td>\n",
       "      <td>0.220122</td>\n",
       "      <td>0.321267</td>\n",
       "      <td>0.687783</td>\n",
       "      <td>2</td>\n",
       "      <td>3</td>\n",
       "      <td>3</td>\n",
       "      <td>8.0</td>\n",
       "      <td>efficient</td>\n",
       "      <td>233</td>\n",
       "      <td>Waiting: Danger</td>\n",
       "    </tr>\n",
       "  </tbody>\n",
       "</table>\n",
       "</div>"
      ],
      "text/plain": [
       "     operator_id  wait_total  missed_total  calls_per_op  total_duration  \\\n",
       "224     903254.0       29341            71           221          133294   \n",
       "\n",
       "     wait_share  miss_share  out_share wait miss out  total      score  \\\n",
       "224    0.220122    0.321267   0.687783    2    3   3    8.0  efficient   \n",
       "\n",
       "    segment             tier  \n",
       "224     233  Waiting: Danger  "
      ]
     },
     "execution_count": 266,
     "metadata": {},
     "output_type": "execute_result"
    }
   ],
   "source": [
    "metrics[metrics.operator_id==903254]"
   ]
  },
  {
   "cell_type": "code",
   "execution_count": 262,
   "metadata": {},
   "outputs": [
    {
     "data": {
      "text/html": [
       "<div>\n",
       "<style scoped>\n",
       "    .dataframe tbody tr th:only-of-type {\n",
       "        vertical-align: middle;\n",
       "    }\n",
       "\n",
       "    .dataframe tbody tr th {\n",
       "        vertical-align: top;\n",
       "    }\n",
       "\n",
       "    .dataframe thead th {\n",
       "        text-align: right;\n",
       "    }\n",
       "</style>\n",
       "<table border=\"1\" class=\"dataframe\">\n",
       "  <thead>\n",
       "    <tr style=\"text-align: right;\">\n",
       "      <th></th>\n",
       "      <th>operator_id</th>\n",
       "      <th>wait_total</th>\n",
       "      <th>missed_total</th>\n",
       "      <th>calls_per_op</th>\n",
       "      <th>total_duration</th>\n",
       "      <th>wait_share</th>\n",
       "      <th>miss_share</th>\n",
       "      <th>out_share</th>\n",
       "      <th>wait</th>\n",
       "      <th>miss</th>\n",
       "      <th>out</th>\n",
       "      <th>total</th>\n",
       "      <th>score</th>\n",
       "      <th>segment</th>\n",
       "      <th>tier</th>\n",
       "    </tr>\n",
       "  </thead>\n",
       "  <tbody>\n",
       "    <tr>\n",
       "      <td>108</td>\n",
       "      <td>893804.0</td>\n",
       "      <td>76146</td>\n",
       "      <td>110</td>\n",
       "      <td>289</td>\n",
       "      <td>358580</td>\n",
       "      <td>0.212354</td>\n",
       "      <td>0.380623</td>\n",
       "      <td>0.629758</td>\n",
       "      <td>2</td>\n",
       "      <td>2</td>\n",
       "      <td>2</td>\n",
       "      <td>6.0</td>\n",
       "      <td>inefficient</td>\n",
       "      <td>222</td>\n",
       "      <td>Inefficient</td>\n",
       "    </tr>\n",
       "    <tr>\n",
       "      <td>203</td>\n",
       "      <td>901880.0</td>\n",
       "      <td>50377</td>\n",
       "      <td>111</td>\n",
       "      <td>302</td>\n",
       "      <td>482797</td>\n",
       "      <td>0.104344</td>\n",
       "      <td>0.367550</td>\n",
       "      <td>0.642384</td>\n",
       "      <td>4</td>\n",
       "      <td>2</td>\n",
       "      <td>2</td>\n",
       "      <td>8.0</td>\n",
       "      <td>efficient</td>\n",
       "      <td>422</td>\n",
       "      <td>Inefficient but engaged</td>\n",
       "    </tr>\n",
       "    <tr>\n",
       "      <td>204</td>\n",
       "      <td>901884.0</td>\n",
       "      <td>38994</td>\n",
       "      <td>104</td>\n",
       "      <td>323</td>\n",
       "      <td>335615</td>\n",
       "      <td>0.116187</td>\n",
       "      <td>0.321981</td>\n",
       "      <td>0.705882</td>\n",
       "      <td>4</td>\n",
       "      <td>3</td>\n",
       "      <td>3</td>\n",
       "      <td>10.0</td>\n",
       "      <td>super efficient</td>\n",
       "      <td>433</td>\n",
       "      <td>Super efficient</td>\n",
       "    </tr>\n",
       "  </tbody>\n",
       "</table>\n",
       "</div>"
      ],
      "text/plain": [
       "     operator_id  wait_total  missed_total  calls_per_op  total_duration  \\\n",
       "108     893804.0       76146           110           289          358580   \n",
       "203     901880.0       50377           111           302          482797   \n",
       "204     901884.0       38994           104           323          335615   \n",
       "\n",
       "     wait_share  miss_share  out_share wait miss out  total            score  \\\n",
       "108    0.212354    0.380623   0.629758    2    2   2    6.0      inefficient   \n",
       "203    0.104344    0.367550   0.642384    4    2   2    8.0        efficient   \n",
       "204    0.116187    0.321981   0.705882    4    3   3   10.0  super efficient   \n",
       "\n",
       "    segment                     tier  \n",
       "108     222              Inefficient  \n",
       "203     422  Inefficient but engaged  \n",
       "204     433          Super efficient  "
      ]
     },
     "execution_count": 262,
     "metadata": {},
     "output_type": "execute_result"
    }
   ],
   "source": [
    "metrics[metrics.calls_per_op>283]"
   ]
  },
  {
   "cell_type": "markdown",
   "metadata": {},
   "source": [
    "<font color='tomato'><h3>Active Operators</h3></font>\n",
    "<p style=\"font-size:17px\"><br>\n",
    "There are not a tremendous amount of commonalities among the half dozen operators who are active on each and every high volume day and all October/November low volume days....except for one metric.<br>\n",
    "They are all above the 92% quartile of calls per operator and all but one are above 95%.<br>\n",
    "In fact, the three operators with the top-most calls per operator count are all in the selective group of those active on all these dates.<br>\n",
    "<br> Other than the single super efficient operator, half were tiered efficient (all were scored efficient, except one) and the rest were tiered inefficient or in danger. Their wait share ranged from about 11% to double that and their missed share ranged from 13% to triple that. Their outgoing share ranged from a third to more than two-thirds, though most had the latter."
   ]
  },
  {
   "cell_type": "markdown",
   "metadata": {},
   "source": [
    "<font color='crimson'><h3>Analysis of Dates</h3></font><p style=\"font-size:17px\">\n",
    "This look at dates started off with a super efficient operator list that is 36% the length of the inefficient operator list. The reason for this disparity is that each list included only those operators who were both scored and tiered as super efficient, or inefficient, as the case may be...and the latter started off with a far greater pool to draw from.\n",
    "    <p style=\"font-size:17px\">\n",
    "Inefficient operators slightly increased their representation on the lowest call volume days and the best operators slightly decreased their representation on those days. The opposite is true for the heaviest call volume days.\n",
    "<p style=\"font-size:17px\">\n",
    "On the lowest call volume days, inefficient operators comprised 12.56% of active operators and super efficient operators were \n",
    "5.025%. On high call volume days, inefficient operators dropped to 12% of the share of active operators, which is 73% of their usual representation in general. Super efficient operators are 5.697% of operators on high call volume days, which is 96% of their usual representation among operators."
   ]
  },
  {
   "cell_type": "markdown",
   "metadata": {},
   "source": [
    "<font color='tomato'><h3>Bottom Line on Dates</h3></font><p style=\"font-size:17px\">\n",
    "There is no clearcut explanation why, like clockwork, the low-call count days appear on such a regular basis. For this business, it is clearly a critical matter, especially as the numbers plummet relatively greater amounts each time.\n",
    "<p style=\"font-size:17px\">\n",
    "There are two possible ways to consider the dates: the low-call count days reflect the ineptitude of inefficient operators OR the operators handling calls on the low-call count days, especially those who are handling calls on each and every one of the low-call count days, are actually showing extreme efficiency to be handling calls when the vast majority of operators are noticeably absent. \n",
    "<p style=\"font-size:17px\">\n",
    "While the drop dates overlap weekends, that timing alone does not entirely explain the deleterious impact wrought upon this virtual telephony operator handling calls for businesses operating in this era. The reason that call volume would not have that dramatic decline on a weekend in 2019 is that the lion's share of businesses have ample weekend communication and work. Any virtual telephony provider with this call volume would necessarily be handling communications traffic for either one very broad-ranging corporate entity or multiple companies.  And nowadays, with mobile communication and globalization, that encompasses weekend work.\n",
    "<p style=\"font-size:17px\">\n",
    "For example, according to Forbes, a 2017 survey found that 70% worked at least one weekend a month, with 63% saying that their employer expected them to put in time on an average Saturday and Sunday. More than 35 percent of employed Americans work on an average weekend day, according to the Bureau of Labor Statistics American Time Use Survey. 51 percent of people with multiple jobs were likely to work on an average weekend day.  \n",
    "<p style=\"font-size:17px\">\n",
    "So, although it is easy to impute the erratic call volume to weekend off-time alone, that does not reflect business reality and corporate telephony needs in this era."
   ]
  },
  {
   "cell_type": "markdown",
   "metadata": {},
   "source": [
    "<div class=\"info\">\n",
    "<font color='#461B7E' font size=3>\n",
    "    Pivot tables for scored and segmented data</div>"
   ]
  },
  {
   "cell_type": "code",
   "execution_count": 77,
   "metadata": {},
   "outputs": [
    {
     "data": {
      "text/html": [
       "<div>\n",
       "<style scoped>\n",
       "    .dataframe tbody tr th:only-of-type {\n",
       "        vertical-align: middle;\n",
       "    }\n",
       "\n",
       "    .dataframe tbody tr th {\n",
       "        vertical-align: top;\n",
       "    }\n",
       "\n",
       "    .dataframe thead th {\n",
       "        text-align: right;\n",
       "    }\n",
       "</style>\n",
       "<table border=\"1\" class=\"dataframe\">\n",
       "  <thead>\n",
       "    <tr style=\"text-align: right;\">\n",
       "      <th></th>\n",
       "      <th>tier</th>\n",
       "      <th>calls_per_op</th>\n",
       "      <th>miss_share</th>\n",
       "      <th>missed_total</th>\n",
       "      <th>out_share</th>\n",
       "      <th>total_duration</th>\n",
       "      <th>wait_share</th>\n",
       "      <th>wait_total</th>\n",
       "    </tr>\n",
       "  </thead>\n",
       "  <tbody>\n",
       "    <tr>\n",
       "      <td>1</td>\n",
       "      <td>Efficient</td>\n",
       "      <td>61.85</td>\n",
       "      <td>0.264</td>\n",
       "      <td>17.02</td>\n",
       "      <td>0.67</td>\n",
       "      <td>28130.4</td>\n",
       "      <td>0.169</td>\n",
       "      <td>4834.9</td>\n",
       "    </tr>\n",
       "    <tr>\n",
       "      <td>2</td>\n",
       "      <td>Efficient incoming</td>\n",
       "      <td>19.082</td>\n",
       "      <td>0.05</td>\n",
       "      <td>1.213</td>\n",
       "      <td>0.043</td>\n",
       "      <td>9801.89</td>\n",
       "      <td>0.157</td>\n",
       "      <td>973.426</td>\n",
       "    </tr>\n",
       "    <tr>\n",
       "      <td>3</td>\n",
       "      <td>Inefficient</td>\n",
       "      <td>31.405</td>\n",
       "      <td>0.307</td>\n",
       "      <td>12.012</td>\n",
       "      <td>0.533</td>\n",
       "      <td>74688.7</td>\n",
       "      <td>0.356</td>\n",
       "      <td>20168.2</td>\n",
       "    </tr>\n",
       "    <tr>\n",
       "      <td>4</td>\n",
       "      <td>Inefficient but engaged</td>\n",
       "      <td>45.156</td>\n",
       "      <td>0.435</td>\n",
       "      <td>19.215</td>\n",
       "      <td>0.918</td>\n",
       "      <td>73269.6</td>\n",
       "      <td>0.163</td>\n",
       "      <td>9569.35</td>\n",
       "    </tr>\n",
       "    <tr>\n",
       "      <td>5</td>\n",
       "      <td>Inefficient outgoing</td>\n",
       "      <td>19.194</td>\n",
       "      <td>0.631</td>\n",
       "      <td>9.876</td>\n",
       "      <td>1</td>\n",
       "      <td>45033.9</td>\n",
       "      <td>0.612</td>\n",
       "      <td>20780.1</td>\n",
       "    </tr>\n",
       "    <tr>\n",
       "      <td>6</td>\n",
       "      <td>Missing: Danger</td>\n",
       "      <td>75.079</td>\n",
       "      <td>0.39</td>\n",
       "      <td>28.724</td>\n",
       "      <td>0.795</td>\n",
       "      <td>61083.3</td>\n",
       "      <td>0.172</td>\n",
       "      <td>10674.1</td>\n",
       "    </tr>\n",
       "    <tr>\n",
       "      <td>7</td>\n",
       "      <td>Super efficent incoming</td>\n",
       "      <td>13.89</td>\n",
       "      <td>0.016</td>\n",
       "      <td>0.438</td>\n",
       "      <td>0.018</td>\n",
       "      <td>7293.4</td>\n",
       "      <td>0.08</td>\n",
       "      <td>478.685</td>\n",
       "    </tr>\n",
       "    <tr>\n",
       "      <td>8</td>\n",
       "      <td>Super efficient</td>\n",
       "      <td>47.354</td>\n",
       "      <td>0.205</td>\n",
       "      <td>12.08</td>\n",
       "      <td>0.691</td>\n",
       "      <td>33142.8</td>\n",
       "      <td>0.087</td>\n",
       "      <td>3229.25</td>\n",
       "    </tr>\n",
       "    <tr>\n",
       "      <td>9</td>\n",
       "      <td>Waiting: Danger</td>\n",
       "      <td>43</td>\n",
       "      <td>0.264</td>\n",
       "      <td>12.306</td>\n",
       "      <td>0.58</td>\n",
       "      <td>27832.6</td>\n",
       "      <td>0.266</td>\n",
       "      <td>7119.17</td>\n",
       "    </tr>\n",
       "  </tbody>\n",
       "</table>\n",
       "</div>"
      ],
      "text/plain": [
       "                      tier calls_per_op miss_share missed_total out_share  \\\n",
       "1                Efficient        61.85      0.264        17.02      0.67   \n",
       "2       Efficient incoming       19.082       0.05        1.213     0.043   \n",
       "3              Inefficient       31.405      0.307       12.012     0.533   \n",
       "4  Inefficient but engaged       45.156      0.435       19.215     0.918   \n",
       "5     Inefficient outgoing       19.194      0.631        9.876         1   \n",
       "6          Missing: Danger       75.079       0.39       28.724     0.795   \n",
       "7  Super efficent incoming        13.89      0.016        0.438     0.018   \n",
       "8          Super efficient       47.354      0.205        12.08     0.691   \n",
       "9          Waiting: Danger           43      0.264       12.306      0.58   \n",
       "\n",
       "  total_duration wait_share wait_total  \n",
       "1        28130.4      0.169     4834.9  \n",
       "2        9801.89      0.157    973.426  \n",
       "3        74688.7      0.356    20168.2  \n",
       "4        73269.6      0.163    9569.35  \n",
       "5        45033.9      0.612    20780.1  \n",
       "6        61083.3      0.172    10674.1  \n",
       "7         7293.4       0.08    478.685  \n",
       "8        33142.8      0.087    3229.25  \n",
       "9        27832.6      0.266    7119.17  "
      ]
     },
     "execution_count": 77,
     "metadata": {},
     "output_type": "execute_result"
    }
   ],
   "source": [
    "val=['calls_per_op','wait_total','missed_total','miss_share','wait_share','out_share','total_duration']\n",
    "pivot2 = metrics.pivot_table(values=val, columns='tier', aggfunc=lambda x: round(x.mean(),3)).reset_index()\n",
    "pivot2t=pd.DataFrame(pivot2).T.reset_index()\n",
    "pivot2t.columns=['tier','calls_per_op','miss_share','missed_total','out_share','total_duration','wait_share','wait_total']\n",
    "pivot2t=pivot2t[1:]\n",
    "pivot2t"
   ]
  },
  {
   "cell_type": "code",
   "execution_count": 38,
   "metadata": {},
   "outputs": [
    {
     "data": {
      "text/html": [
       "<div>\n",
       "<style scoped>\n",
       "    .dataframe tbody tr th:only-of-type {\n",
       "        vertical-align: middle;\n",
       "    }\n",
       "\n",
       "    .dataframe tbody tr th {\n",
       "        vertical-align: top;\n",
       "    }\n",
       "\n",
       "    .dataframe thead th {\n",
       "        text-align: right;\n",
       "    }\n",
       "</style>\n",
       "<table border=\"1\" class=\"dataframe\">\n",
       "  <thead>\n",
       "    <tr style=\"text-align: right;\">\n",
       "      <th></th>\n",
       "      <th>tier</th>\n",
       "      <th>call_duration</th>\n",
       "      <th>calls_per_op</th>\n",
       "      <th>miss_share</th>\n",
       "      <th>total_duration</th>\n",
       "      <th>wait_share</th>\n",
       "    </tr>\n",
       "  </thead>\n",
       "  <tbody>\n",
       "    <tr>\n",
       "      <td>1</td>\n",
       "      <td>Efficient</td>\n",
       "      <td>23295.5</td>\n",
       "      <td>61.85</td>\n",
       "      <td>0.26</td>\n",
       "      <td>28130.4</td>\n",
       "      <td>0.17</td>\n",
       "    </tr>\n",
       "    <tr>\n",
       "      <td>2</td>\n",
       "      <td>Efficient incoming</td>\n",
       "      <td>8828.46</td>\n",
       "      <td>19.08</td>\n",
       "      <td>0.05</td>\n",
       "      <td>9801.89</td>\n",
       "      <td>0.16</td>\n",
       "    </tr>\n",
       "    <tr>\n",
       "      <td>3</td>\n",
       "      <td>Inefficient</td>\n",
       "      <td>54520.6</td>\n",
       "      <td>31.41</td>\n",
       "      <td>0.31</td>\n",
       "      <td>74688.7</td>\n",
       "      <td>0.36</td>\n",
       "    </tr>\n",
       "    <tr>\n",
       "      <td>4</td>\n",
       "      <td>Inefficient but engaged</td>\n",
       "      <td>63700.3</td>\n",
       "      <td>45.16</td>\n",
       "      <td>0.44</td>\n",
       "      <td>73269.6</td>\n",
       "      <td>0.16</td>\n",
       "    </tr>\n",
       "    <tr>\n",
       "      <td>5</td>\n",
       "      <td>Inefficient outgoing</td>\n",
       "      <td>24253.8</td>\n",
       "      <td>19.19</td>\n",
       "      <td>0.63</td>\n",
       "      <td>45033.9</td>\n",
       "      <td>0.61</td>\n",
       "    </tr>\n",
       "    <tr>\n",
       "      <td>6</td>\n",
       "      <td>Missing: Danger</td>\n",
       "      <td>50409.2</td>\n",
       "      <td>75.08</td>\n",
       "      <td>0.39</td>\n",
       "      <td>61083.3</td>\n",
       "      <td>0.17</td>\n",
       "    </tr>\n",
       "    <tr>\n",
       "      <td>7</td>\n",
       "      <td>Super efficent incoming</td>\n",
       "      <td>6814.71</td>\n",
       "      <td>13.89</td>\n",
       "      <td>0.02</td>\n",
       "      <td>7293.4</td>\n",
       "      <td>0.08</td>\n",
       "    </tr>\n",
       "    <tr>\n",
       "      <td>8</td>\n",
       "      <td>Super efficient</td>\n",
       "      <td>29913.5</td>\n",
       "      <td>47.35</td>\n",
       "      <td>0.2</td>\n",
       "      <td>33142.8</td>\n",
       "      <td>0.09</td>\n",
       "    </tr>\n",
       "    <tr>\n",
       "      <td>9</td>\n",
       "      <td>Waiting: Danger</td>\n",
       "      <td>20713.4</td>\n",
       "      <td>43</td>\n",
       "      <td>0.26</td>\n",
       "      <td>27832.6</td>\n",
       "      <td>0.27</td>\n",
       "    </tr>\n",
       "  </tbody>\n",
       "</table>\n",
       "</div>"
      ],
      "text/plain": [
       "                      tier call_duration calls_per_op miss_share  \\\n",
       "1                Efficient       23295.5        61.85       0.26   \n",
       "2       Efficient incoming       8828.46        19.08       0.05   \n",
       "3              Inefficient       54520.6        31.41       0.31   \n",
       "4  Inefficient but engaged       63700.3        45.16       0.44   \n",
       "5     Inefficient outgoing       24253.8        19.19       0.63   \n",
       "6          Missing: Danger       50409.2        75.08       0.39   \n",
       "7  Super efficent incoming       6814.71        13.89       0.02   \n",
       "8          Super efficient       29913.5        47.35        0.2   \n",
       "9          Waiting: Danger       20713.4           43       0.26   \n",
       "\n",
       "  total_duration wait_share  \n",
       "1        28130.4       0.17  \n",
       "2        9801.89       0.16  \n",
       "3        74688.7       0.36  \n",
       "4        73269.6       0.16  \n",
       "5        45033.9       0.61  \n",
       "6        61083.3       0.17  \n",
       "7         7293.4       0.08  \n",
       "8        33142.8       0.09  \n",
       "9        27832.6       0.27  "
      ]
     },
     "execution_count": 38,
     "metadata": {},
     "output_type": "execute_result"
    }
   ],
   "source": [
    "vala=['calls_per_op','miss_share','wait_share','total_duration','call_duration']\n",
    "pivot3 = metricsforchart.pivot_table(values=vala, columns='tier', aggfunc=lambda x: round(x.mean(),2)).reset_index()\n",
    "pivot3t=pd.DataFrame(pivot3).T.reset_index()\n",
    "pivot3t.columns=['tier','call_duration','calls_per_op','miss_share','total_duration','wait_share']\n",
    "pivot3t=pivot3t[1:]\n",
    "pivot3t"
   ]
  },
  {
   "cell_type": "code",
   "execution_count": 30,
   "metadata": {},
   "outputs": [],
   "source": [
    "metricsforchart=metrics\n",
    "metricsforchart['call_duration']=metrics.total_duration-metrics.wait_total\n",
    "metricsslim=metricsforchart.drop(['wait_total', 'missed_total','total_duration','miss','out','total','wait_share', 'miss_share', 'out_share', 'wait', 'segment','call_duration'],axis=1)"
   ]
  },
  {
   "cell_type": "code",
   "execution_count": 35,
   "metadata": {},
   "outputs": [
    {
     "name": "stdout",
     "output_type": "stream",
     "text": [
      "<class 'pandas.core.frame.DataFrame'>\n",
      "Int64Index: 27436 entries, 0 to 27435\n",
      "Data columns (total 6 columns):\n",
      "date            27436 non-null datetime64[ns]\n",
      "operator_id     27436 non-null float64\n",
      "wait            27436 non-null int64\n",
      "calls_per_op    27436 non-null int64\n",
      "score           27436 non-null object\n",
      "tier            27436 non-null object\n",
      "dtypes: datetime64[ns](1), float64(1), int64(2), object(2)\n",
      "memory usage: 1.5+ MB\n"
     ]
    }
   ],
   "source": [
    "metricswithdate=datedf.merge(metricsslim, on='operator_id',how='left')\n",
    "metricswithdate.info()"
   ]
  },
  {
   "cell_type": "code",
   "execution_count": 37,
   "metadata": {},
   "outputs": [
    {
     "name": "stdout",
     "output_type": "stream",
     "text": [
      "<class 'pandas.core.frame.DataFrame'>\n",
      "Int64Index: 14110 entries, 0 to 14109\n",
      "Data columns (total 5 columns):\n",
      "date            14110 non-null datetime64[ns]\n",
      "operator_id     14110 non-null float64\n",
      "calls_per_op    14110 non-null int64\n",
      "score           14110 non-null object\n",
      "tier            14110 non-null object\n",
      "dtypes: datetime64[ns](1), float64(1), int64(1), object(2)\n",
      "memory usage: 661.4+ KB\n"
     ]
    }
   ],
   "source": [
    "metricswithmissed=datemissed.merge(metricsslim, on='operator_id',how='left')\n",
    "metricswithmissed.info()"
   ]
  },
  {
   "cell_type": "code",
   "execution_count": 36,
   "metadata": {},
   "outputs": [],
   "source": [
    "scoretierchart=metricsforchart.drop(['wait_total', 'missed_total','calls_per_op','total_duration','wait_share', 'miss_share', 'out_share','call_duration'],axis=1)"
   ]
  },
  {
   "cell_type": "code",
   "execution_count": 41,
   "metadata": {},
   "outputs": [
    {
     "data": {
      "text/html": [
       "<div>\n",
       "<style scoped>\n",
       "    .dataframe tbody tr th:only-of-type {\n",
       "        vertical-align: middle;\n",
       "    }\n",
       "\n",
       "    .dataframe tbody tr th {\n",
       "        vertical-align: top;\n",
       "    }\n",
       "\n",
       "    .dataframe thead th {\n",
       "        text-align: right;\n",
       "    }\n",
       "</style>\n",
       "<table border=\"1\" class=\"dataframe\">\n",
       "  <thead>\n",
       "    <tr style=\"text-align: right;\">\n",
       "      <th></th>\n",
       "      <th>score</th>\n",
       "      <th>call_duration</th>\n",
       "      <th>calls_per_op</th>\n",
       "      <th>out_share</th>\n",
       "      <th>total_duration</th>\n",
       "    </tr>\n",
       "  </thead>\n",
       "  <tbody>\n",
       "    <tr>\n",
       "      <td>1</td>\n",
       "      <td>danger zone</td>\n",
       "      <td>58770.3</td>\n",
       "      <td>38.96</td>\n",
       "      <td>0.65</td>\n",
       "      <td>78490.5</td>\n",
       "    </tr>\n",
       "    <tr>\n",
       "      <td>2</td>\n",
       "      <td>efficient</td>\n",
       "      <td>34166</td>\n",
       "      <td>45.74</td>\n",
       "      <td>0.56</td>\n",
       "      <td>39847.8</td>\n",
       "    </tr>\n",
       "    <tr>\n",
       "      <td>3</td>\n",
       "      <td>inefficient</td>\n",
       "      <td>34997.1</td>\n",
       "      <td>24.61</td>\n",
       "      <td>0.62</td>\n",
       "      <td>54184.8</td>\n",
       "    </tr>\n",
       "    <tr>\n",
       "      <td>4</td>\n",
       "      <td>super efficient</td>\n",
       "      <td>21730.6</td>\n",
       "      <td>38.01</td>\n",
       "      <td>0.89</td>\n",
       "      <td>23836.6</td>\n",
       "    </tr>\n",
       "  </tbody>\n",
       "</table>\n",
       "</div>"
      ],
      "text/plain": [
       "             score call_duration calls_per_op out_share total_duration\n",
       "1      danger zone       58770.3        38.96      0.65        78490.5\n",
       "2        efficient         34166        45.74      0.56        39847.8\n",
       "3      inefficient       34997.1        24.61      0.62        54184.8\n",
       "4  super efficient       21730.6        38.01      0.89        23836.6"
      ]
     },
     "execution_count": 41,
     "metadata": {},
     "output_type": "execute_result"
    }
   ],
   "source": [
    "valout=['calls_per_op','out_share','call_duration','total_duration']\n",
    "pivotout = metricsforchart.pivot_table(values=valout, columns='score',aggfunc=lambda x: round(x.mean(),2)).reset_index()\n",
    "pivotout\n",
    "\n",
    "pivotout=pd.DataFrame(pivotout).T.reset_index()\n",
    "pivotout.columns=['score','call_duration','calls_per_op','out_share','total_duration']\n",
    "pivotout=pivotout[1:]\n",
    "pivotout"
   ]
  },
  {
   "cell_type": "code",
   "execution_count": 42,
   "metadata": {},
   "outputs": [
    {
     "data": {
      "text/html": [
       "<div>\n",
       "<style scoped>\n",
       "    .dataframe tbody tr th:only-of-type {\n",
       "        vertical-align: middle;\n",
       "    }\n",
       "\n",
       "    .dataframe tbody tr th {\n",
       "        vertical-align: top;\n",
       "    }\n",
       "\n",
       "    .dataframe thead th {\n",
       "        text-align: right;\n",
       "    }\n",
       "</style>\n",
       "<table border=\"1\" class=\"dataframe\">\n",
       "  <thead>\n",
       "    <tr style=\"text-align: right;\">\n",
       "      <th></th>\n",
       "      <th>score</th>\n",
       "      <th>call_duration</th>\n",
       "      <th>calls_per_op</th>\n",
       "      <th>miss_share</th>\n",
       "      <th>total_duration</th>\n",
       "      <th>wait_share</th>\n",
       "    </tr>\n",
       "  </thead>\n",
       "  <tbody>\n",
       "    <tr>\n",
       "      <td>1</td>\n",
       "      <td>danger zone</td>\n",
       "      <td>58770.3</td>\n",
       "      <td>38.96</td>\n",
       "      <td>0.34</td>\n",
       "      <td>78490.5</td>\n",
       "      <td>0.28</td>\n",
       "    </tr>\n",
       "    <tr>\n",
       "      <td>2</td>\n",
       "      <td>efficient</td>\n",
       "      <td>34166</td>\n",
       "      <td>45.74</td>\n",
       "      <td>0.26</td>\n",
       "      <td>39847.8</td>\n",
       "      <td>0.15</td>\n",
       "    </tr>\n",
       "    <tr>\n",
       "      <td>3</td>\n",
       "      <td>inefficient</td>\n",
       "      <td>34997.1</td>\n",
       "      <td>24.61</td>\n",
       "      <td>0.42</td>\n",
       "      <td>54184.8</td>\n",
       "      <td>0.51</td>\n",
       "    </tr>\n",
       "    <tr>\n",
       "      <td>4</td>\n",
       "      <td>super efficient</td>\n",
       "      <td>21730.6</td>\n",
       "      <td>38.01</td>\n",
       "      <td>0.23</td>\n",
       "      <td>23836.6</td>\n",
       "      <td>0.1</td>\n",
       "    </tr>\n",
       "  </tbody>\n",
       "</table>\n",
       "</div>"
      ],
      "text/plain": [
       "             score call_duration calls_per_op miss_share total_duration  \\\n",
       "1      danger zone       58770.3        38.96       0.34        78490.5   \n",
       "2        efficient         34166        45.74       0.26        39847.8   \n",
       "3      inefficient       34997.1        24.61       0.42        54184.8   \n",
       "4  super efficient       21730.6        38.01       0.23        23836.6   \n",
       "\n",
       "  wait_share  \n",
       "1       0.28  \n",
       "2       0.15  \n",
       "3       0.51  \n",
       "4        0.1  "
      ]
     },
     "execution_count": 42,
     "metadata": {},
     "output_type": "execute_result"
    }
   ],
   "source": [
    "valall=['calls_per_op','miss_share','wait_share','call_duration','total_duration']\n",
    "pivot5 = metricsforchart.pivot_table(values=valall, columns='score',aggfunc=lambda x: round(x.mean(),2)).reset_index()\n",
    "pivot5t=pd.DataFrame(pivot5).T.reset_index()\n",
    "pivot5t.columns=['score','call_duration','calls_per_op','miss_share','total_duration','wait_share']\n",
    "pivot5t=pivot5t[1:]\n",
    "pivot5t"
   ]
  },
  {
   "cell_type": "code",
   "execution_count": 59,
   "metadata": {},
   "outputs": [],
   "source": [
    "metricsout['wait'] = pd.qcut(metricsout.wait_share, q = 4, labels = w_labels)\n",
    "metricsout['miss'] = pd.qcut(metricsout.miss_share, q = 4, labels = m_labels)\n",
    "metricsout['out'] = pd.cut(metricsout.out_share, bins=out_share_bin, labels = o_labels)\n",
    "metricsout['total']=metricsout[['wait','miss','out']].sum(axis=1)\n",
    "metricsout['score']=metricsout['total'].apply(score)\n",
    "metricsout['call_duration']=metricsout.total_duration-metricsout.wait_total\n",
    "colout=['outgoing_total','calls_per_op','out_share','call_duration','total_duration']\n",
    "pivotoutotal = metricsout.pivot_table(values=colout, columns='score',aggfunc=lambda x: round(x.mean(),2)).reset_index()"
   ]
  },
  {
   "cell_type": "code",
   "execution_count": 60,
   "metadata": {},
   "outputs": [
    {
     "data": {
      "text/html": [
       "<div>\n",
       "<style scoped>\n",
       "    .dataframe tbody tr th:only-of-type {\n",
       "        vertical-align: middle;\n",
       "    }\n",
       "\n",
       "    .dataframe tbody tr th {\n",
       "        vertical-align: top;\n",
       "    }\n",
       "\n",
       "    .dataframe thead th {\n",
       "        text-align: right;\n",
       "    }\n",
       "</style>\n",
       "<table border=\"1\" class=\"dataframe\">\n",
       "  <thead>\n",
       "    <tr style=\"text-align: right;\">\n",
       "      <th></th>\n",
       "      <th>score</th>\n",
       "      <th>call_duration</th>\n",
       "      <th>calls_per_op</th>\n",
       "      <th>out_share</th>\n",
       "      <th>outgoing_total</th>\n",
       "      <th>total_duration</th>\n",
       "    </tr>\n",
       "  </thead>\n",
       "  <tbody>\n",
       "    <tr>\n",
       "      <td>1</td>\n",
       "      <td>danger zone</td>\n",
       "      <td>58770.3</td>\n",
       "      <td>38.96</td>\n",
       "      <td>0.65</td>\n",
       "      <td>27.62</td>\n",
       "      <td>78490.5</td>\n",
       "    </tr>\n",
       "    <tr>\n",
       "      <td>2</td>\n",
       "      <td>efficient</td>\n",
       "      <td>34166</td>\n",
       "      <td>45.74</td>\n",
       "      <td>0.56</td>\n",
       "      <td>29.92</td>\n",
       "      <td>39847.8</td>\n",
       "    </tr>\n",
       "    <tr>\n",
       "      <td>3</td>\n",
       "      <td>inefficient</td>\n",
       "      <td>34997.1</td>\n",
       "      <td>24.61</td>\n",
       "      <td>0.62</td>\n",
       "      <td>17.79</td>\n",
       "      <td>54184.8</td>\n",
       "    </tr>\n",
       "    <tr>\n",
       "      <td>4</td>\n",
       "      <td>super efficient</td>\n",
       "      <td>21730.6</td>\n",
       "      <td>38.01</td>\n",
       "      <td>0.89</td>\n",
       "      <td>31.55</td>\n",
       "      <td>23836.6</td>\n",
       "    </tr>\n",
       "  </tbody>\n",
       "</table>\n",
       "</div>"
      ],
      "text/plain": [
       "             score call_duration calls_per_op out_share outgoing_total  \\\n",
       "1      danger zone       58770.3        38.96      0.65          27.62   \n",
       "2        efficient         34166        45.74      0.56          29.92   \n",
       "3      inefficient       34997.1        24.61      0.62          17.79   \n",
       "4  super efficient       21730.6        38.01      0.89          31.55   \n",
       "\n",
       "  total_duration  \n",
       "1        78490.5  \n",
       "2        39847.8  \n",
       "3        54184.8  \n",
       "4        23836.6  "
      ]
     },
     "execution_count": 60,
     "metadata": {},
     "output_type": "execute_result"
    }
   ],
   "source": [
    "pivotoutotal=pd.DataFrame(pivotoutotal).T.reset_index()\n",
    "pivotoutotal.columns=['score','call_duration','calls_per_op','out_share','outgoing_total','total_duration']\n",
    "pivotoutotal=pivotoutotal[1:]\n",
    "pivotoutotal"
   ]
  },
  {
   "cell_type": "markdown",
   "metadata": {},
   "source": [
    "<font color='crimson'><h3>Overall Conclusion</h3></font><p style=\"font-size:17px\">\n",
    "<p style=\"font-size:17px\">\n",
    "In this analysis, in the most apt scoring method, 47.5%, or 517, operators are inefficient or in the danger zone.\n",
    "<p style=\"font-size:17px\">\n",
    "That number is parallel to the amount of operators whose call count is less than 19 over the course of a quarter of a year!\n",
    "Inefficient scored operators have 54% of the calls per operator that efficient scored operators have. But those in the danger zone and super efficient scored operators have equivalent amounts of calls per operator. \n",
    "<p style=\"font-size:17px\">\n",
    "Much of the cause of inefficiency for these operators, such as the dramatic drop in calls for a day or two every single week, does not have a clear cut explanation.  It is possible to single out the operators who post the highest amount of calls, paired with the lowest miss rate, the highest outgoing rate and the lowest wait time, but even among the operators who successfully handle calls on days that few operators do, their metrics are not across-the-board stellar nor are their scores.\n",
    "<p style=\"font-size:17px\">\n",
    "The scoring method notes 99 super efficient operators, two-thirds of which lead the tier segmentation scheme as well. Their low shares for wait and missed calls coupled with the high share of outgoing calls serve as the model behavior for operators.\n",
    "<p style=\"font-size:17px\">\n",
    "The tiered ranking segments inefficient operators who primarily handle outgoing calls and those who have the one of the lowest possible scores for waiting or missed calls, but nonetheless have high scores for the other metrics. So those inefficient operators have potential that needs to be augmented by improved performance in the key missed and wait metrics. By highlighting the inefficient operators' assets and pinpointing the metrics by which they are failing, it is possible to focus on the skills to be improved and those that must be maintained.\n",
    "<p style=\"font-size:17px\">\n",
    "The company must attend to the pressing and growing problem of the weekly drop in calls. When attention is focused on those dates, it will also give the company an opportunity to invest more call capacity in the operators lagging in call count, which in turn might enable them to post further across-the-board improvements. "
   ]
  },
  {
   "cell_type": "markdown",
   "metadata": {},
   "source": [
    "<font color='deepskyblue'><h3>Some Industry Sources</h3></font><p style=\"font-size:17px\">\n",
    "<br>\n",
    "[How long do callers wait before they hang up?](https://www.talkdesk.com/blog/how-long-do-callers-wait-before-they-hang-up/)<br>\n",
    "[Average waiting time aka average speed of answer](https://oneview.mitel.com/s/article/Average-Waiting-Time-a-k-a-Average-Speed-of-Answer-ASA)<br>\n",
    "[How big data & analytics can drive profitability for telecom operators](https://medium.com/@exastax/how-big-data-and-analytics-can-drive-profitability-for-telecom-operators-b47827bfad7c)<br>\n",
    "[Industry average acceptable wait time](https://www.callcentrehelper.com/forum/industry-average-acceptable-wait-time-111203.htm)<br>\n",
    "[Missed calls: businesses pay for failing to pick up the phone](https://www.ringover.com/blog/missed-calls-businesses-pay-failing-to-pick-up-the-phone)<br>\n",
    "[Intentional missed calls](https://en.wikipedia.org/wiki/Missed_call)<br>\n",
    "[Setting the right ring time](https://talkroute.com/set-the-perfect-ring-time-for-your-office-phones/)<br><br>"
   ]
  },
  {
   "cell_type": "code",
   "execution_count": null,
   "metadata": {},
   "outputs": [],
   "source": []
  }
 ],
 "metadata": {
  "kernelspec": {
   "display_name": "Python 3",
   "language": "python",
   "name": "python3"
  },
  "language_info": {
   "codemirror_mode": {
    "name": "ipython",
    "version": 3
   },
   "file_extension": ".py",
   "mimetype": "text/x-python",
   "name": "python",
   "nbconvert_exporter": "python",
   "pygments_lexer": "ipython3",
   "version": "3.7.6"
  }
 },
 "nbformat": 4,
 "nbformat_minor": 2
}
